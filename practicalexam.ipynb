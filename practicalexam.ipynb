{
  "nbformat": 4,
  "nbformat_minor": 0,
  "metadata": {
    "colab": {
      "name": "Copy of practicalexam.ipynb",
      "provenance": [],
      "collapsed_sections": []
    },
    "kernelspec": {
      "name": "python3",
      "display_name": "Python 3"
    },
    "language_info": {
      "name": "python"
    }
  },
  "cells": [
    {
      "cell_type": "markdown",
      "source": [
        "- **Name : Pooja Gautam**\n",
        "- Mail_Id: pujuu72103@gmail.com "
      ],
      "metadata": {
        "id": "UmrhukEhh8p6"
      }
    },
    {
      "cell_type": "markdown",
      "source": [
        "# Question 1\n",
        "Use the dataset, lemonade.csv  and perform the following analysis:\n",
        "- A)\tShow average sales\n",
        "- B)\tShow the records whose sales are lower than average. \n",
        "- C)\tFind the correlation between the variables in the dataset and plot them\n",
        "- D)\tSelect the suitable machine learning algorithm for predicting sales\n"
      ],
      "metadata": {
        "id": "fcgF7X5FHaGw"
      }
    },
    {
      "cell_type": "code",
      "source": [
        "import numpy as np\n",
        "import pandas as pd\n",
        "import matplotlib.pyplot as plt\n",
        "import seaborn as sns\n"
      ],
      "metadata": {
        "id": "pGz_Y1DSHqAt"
      },
      "execution_count": null,
      "outputs": []
    },
    {
      "cell_type": "code",
      "source": [
        "url = \"https://raw.githubusercontent.com/monalisapatra26/Data-files/main/lemonade.csv\"\n",
        "data = pd.read_csv(url)\n",
        "data.head()"
      ],
      "metadata": {
        "colab": {
          "base_uri": "https://localhost:8080/",
          "height": 206
        },
        "id": "F5YJvHm_IB9A",
        "outputId": "f694b606-1ceb-4787-bec9-6dbb316218f8"
      },
      "execution_count": null,
      "outputs": [
        {
          "output_type": "execute_result",
          "data": {
            "text/plain": [
              "     Date        Day  Temperature  Rainfall  Flyers  Price  Sales\n",
              "0  1/1/17     Sunday         27.0      2.00      15    0.5     10\n",
              "1  1/2/17     Monday         28.9      1.33      15    0.5     13\n",
              "2  1/3/17    Tuesday         34.5      1.33      27    0.5     15\n",
              "3  1/4/17  Wednesday         44.1      1.05      28    0.5     17\n",
              "4  1/5/17   Thursday         42.4      1.00      33    0.5     18"
            ],
            "text/html": [
              "\n",
              "  <div id=\"df-fac4473c-2c46-4f56-9269-b79b71615480\">\n",
              "    <div class=\"colab-df-container\">\n",
              "      <div>\n",
              "<style scoped>\n",
              "    .dataframe tbody tr th:only-of-type {\n",
              "        vertical-align: middle;\n",
              "    }\n",
              "\n",
              "    .dataframe tbody tr th {\n",
              "        vertical-align: top;\n",
              "    }\n",
              "\n",
              "    .dataframe thead th {\n",
              "        text-align: right;\n",
              "    }\n",
              "</style>\n",
              "<table border=\"1\" class=\"dataframe\">\n",
              "  <thead>\n",
              "    <tr style=\"text-align: right;\">\n",
              "      <th></th>\n",
              "      <th>Date</th>\n",
              "      <th>Day</th>\n",
              "      <th>Temperature</th>\n",
              "      <th>Rainfall</th>\n",
              "      <th>Flyers</th>\n",
              "      <th>Price</th>\n",
              "      <th>Sales</th>\n",
              "    </tr>\n",
              "  </thead>\n",
              "  <tbody>\n",
              "    <tr>\n",
              "      <th>0</th>\n",
              "      <td>1/1/17</td>\n",
              "      <td>Sunday</td>\n",
              "      <td>27.0</td>\n",
              "      <td>2.00</td>\n",
              "      <td>15</td>\n",
              "      <td>0.5</td>\n",
              "      <td>10</td>\n",
              "    </tr>\n",
              "    <tr>\n",
              "      <th>1</th>\n",
              "      <td>1/2/17</td>\n",
              "      <td>Monday</td>\n",
              "      <td>28.9</td>\n",
              "      <td>1.33</td>\n",
              "      <td>15</td>\n",
              "      <td>0.5</td>\n",
              "      <td>13</td>\n",
              "    </tr>\n",
              "    <tr>\n",
              "      <th>2</th>\n",
              "      <td>1/3/17</td>\n",
              "      <td>Tuesday</td>\n",
              "      <td>34.5</td>\n",
              "      <td>1.33</td>\n",
              "      <td>27</td>\n",
              "      <td>0.5</td>\n",
              "      <td>15</td>\n",
              "    </tr>\n",
              "    <tr>\n",
              "      <th>3</th>\n",
              "      <td>1/4/17</td>\n",
              "      <td>Wednesday</td>\n",
              "      <td>44.1</td>\n",
              "      <td>1.05</td>\n",
              "      <td>28</td>\n",
              "      <td>0.5</td>\n",
              "      <td>17</td>\n",
              "    </tr>\n",
              "    <tr>\n",
              "      <th>4</th>\n",
              "      <td>1/5/17</td>\n",
              "      <td>Thursday</td>\n",
              "      <td>42.4</td>\n",
              "      <td>1.00</td>\n",
              "      <td>33</td>\n",
              "      <td>0.5</td>\n",
              "      <td>18</td>\n",
              "    </tr>\n",
              "  </tbody>\n",
              "</table>\n",
              "</div>\n",
              "      <button class=\"colab-df-convert\" onclick=\"convertToInteractive('df-fac4473c-2c46-4f56-9269-b79b71615480')\"\n",
              "              title=\"Convert this dataframe to an interactive table.\"\n",
              "              style=\"display:none;\">\n",
              "        \n",
              "  <svg xmlns=\"http://www.w3.org/2000/svg\" height=\"24px\"viewBox=\"0 0 24 24\"\n",
              "       width=\"24px\">\n",
              "    <path d=\"M0 0h24v24H0V0z\" fill=\"none\"/>\n",
              "    <path d=\"M18.56 5.44l.94 2.06.94-2.06 2.06-.94-2.06-.94-.94-2.06-.94 2.06-2.06.94zm-11 1L8.5 8.5l.94-2.06 2.06-.94-2.06-.94L8.5 2.5l-.94 2.06-2.06.94zm10 10l.94 2.06.94-2.06 2.06-.94-2.06-.94-.94-2.06-.94 2.06-2.06.94z\"/><path d=\"M17.41 7.96l-1.37-1.37c-.4-.4-.92-.59-1.43-.59-.52 0-1.04.2-1.43.59L10.3 9.45l-7.72 7.72c-.78.78-.78 2.05 0 2.83L4 21.41c.39.39.9.59 1.41.59.51 0 1.02-.2 1.41-.59l7.78-7.78 2.81-2.81c.8-.78.8-2.07 0-2.86zM5.41 20L4 18.59l7.72-7.72 1.47 1.35L5.41 20z\"/>\n",
              "  </svg>\n",
              "      </button>\n",
              "      \n",
              "  <style>\n",
              "    .colab-df-container {\n",
              "      display:flex;\n",
              "      flex-wrap:wrap;\n",
              "      gap: 12px;\n",
              "    }\n",
              "\n",
              "    .colab-df-convert {\n",
              "      background-color: #E8F0FE;\n",
              "      border: none;\n",
              "      border-radius: 50%;\n",
              "      cursor: pointer;\n",
              "      display: none;\n",
              "      fill: #1967D2;\n",
              "      height: 32px;\n",
              "      padding: 0 0 0 0;\n",
              "      width: 32px;\n",
              "    }\n",
              "\n",
              "    .colab-df-convert:hover {\n",
              "      background-color: #E2EBFA;\n",
              "      box-shadow: 0px 1px 2px rgba(60, 64, 67, 0.3), 0px 1px 3px 1px rgba(60, 64, 67, 0.15);\n",
              "      fill: #174EA6;\n",
              "    }\n",
              "\n",
              "    [theme=dark] .colab-df-convert {\n",
              "      background-color: #3B4455;\n",
              "      fill: #D2E3FC;\n",
              "    }\n",
              "\n",
              "    [theme=dark] .colab-df-convert:hover {\n",
              "      background-color: #434B5C;\n",
              "      box-shadow: 0px 1px 3px 1px rgba(0, 0, 0, 0.15);\n",
              "      filter: drop-shadow(0px 1px 2px rgba(0, 0, 0, 0.3));\n",
              "      fill: #FFFFFF;\n",
              "    }\n",
              "  </style>\n",
              "\n",
              "      <script>\n",
              "        const buttonEl =\n",
              "          document.querySelector('#df-fac4473c-2c46-4f56-9269-b79b71615480 button.colab-df-convert');\n",
              "        buttonEl.style.display =\n",
              "          google.colab.kernel.accessAllowed ? 'block' : 'none';\n",
              "\n",
              "        async function convertToInteractive(key) {\n",
              "          const element = document.querySelector('#df-fac4473c-2c46-4f56-9269-b79b71615480');\n",
              "          const dataTable =\n",
              "            await google.colab.kernel.invokeFunction('convertToInteractive',\n",
              "                                                     [key], {});\n",
              "          if (!dataTable) return;\n",
              "\n",
              "          const docLinkHtml = 'Like what you see? Visit the ' +\n",
              "            '<a target=\"_blank\" href=https://colab.research.google.com/notebooks/data_table.ipynb>data table notebook</a>'\n",
              "            + ' to learn more about interactive tables.';\n",
              "          element.innerHTML = '';\n",
              "          dataTable['output_type'] = 'display_data';\n",
              "          await google.colab.output.renderOutput(dataTable, element);\n",
              "          const docLink = document.createElement('div');\n",
              "          docLink.innerHTML = docLinkHtml;\n",
              "          element.appendChild(docLink);\n",
              "        }\n",
              "      </script>\n",
              "    </div>\n",
              "  </div>\n",
              "  "
            ]
          },
          "metadata": {},
          "execution_count": 2
        }
      ]
    },
    {
      "cell_type": "code",
      "source": [
        "data.describe()"
      ],
      "metadata": {
        "colab": {
          "base_uri": "https://localhost:8080/",
          "height": 300
        },
        "id": "I60h56iN4Pbd",
        "outputId": "6dadc5ba-ec7e-407f-87e7-2dced1fb668f"
      },
      "execution_count": null,
      "outputs": [
        {
          "output_type": "execute_result",
          "data": {
            "text/plain": [
              "       Temperature    Rainfall      Flyers  Price       Sales\n",
              "count   365.000000  365.000000  365.000000  365.0  365.000000\n",
              "mean     60.731233    0.826603   40.284932    0.5   25.323288\n",
              "std      16.196266    0.273171   13.178651    0.0    6.893589\n",
              "min      15.100000    0.470000    9.000000    0.5    7.000000\n",
              "25%      49.700000    0.650000   31.000000    0.5   20.000000\n",
              "50%      61.100000    0.740000   39.000000    0.5   25.000000\n",
              "75%      71.300000    0.910000   49.000000    0.5   30.000000\n",
              "max     102.900000    2.500000   80.000000    0.5   43.000000"
            ],
            "text/html": [
              "\n",
              "  <div id=\"df-ba10a297-b291-4eca-9af6-4cd959fa5519\">\n",
              "    <div class=\"colab-df-container\">\n",
              "      <div>\n",
              "<style scoped>\n",
              "    .dataframe tbody tr th:only-of-type {\n",
              "        vertical-align: middle;\n",
              "    }\n",
              "\n",
              "    .dataframe tbody tr th {\n",
              "        vertical-align: top;\n",
              "    }\n",
              "\n",
              "    .dataframe thead th {\n",
              "        text-align: right;\n",
              "    }\n",
              "</style>\n",
              "<table border=\"1\" class=\"dataframe\">\n",
              "  <thead>\n",
              "    <tr style=\"text-align: right;\">\n",
              "      <th></th>\n",
              "      <th>Temperature</th>\n",
              "      <th>Rainfall</th>\n",
              "      <th>Flyers</th>\n",
              "      <th>Price</th>\n",
              "      <th>Sales</th>\n",
              "    </tr>\n",
              "  </thead>\n",
              "  <tbody>\n",
              "    <tr>\n",
              "      <th>count</th>\n",
              "      <td>365.000000</td>\n",
              "      <td>365.000000</td>\n",
              "      <td>365.000000</td>\n",
              "      <td>365.0</td>\n",
              "      <td>365.000000</td>\n",
              "    </tr>\n",
              "    <tr>\n",
              "      <th>mean</th>\n",
              "      <td>60.731233</td>\n",
              "      <td>0.826603</td>\n",
              "      <td>40.284932</td>\n",
              "      <td>0.5</td>\n",
              "      <td>25.323288</td>\n",
              "    </tr>\n",
              "    <tr>\n",
              "      <th>std</th>\n",
              "      <td>16.196266</td>\n",
              "      <td>0.273171</td>\n",
              "      <td>13.178651</td>\n",
              "      <td>0.0</td>\n",
              "      <td>6.893589</td>\n",
              "    </tr>\n",
              "    <tr>\n",
              "      <th>min</th>\n",
              "      <td>15.100000</td>\n",
              "      <td>0.470000</td>\n",
              "      <td>9.000000</td>\n",
              "      <td>0.5</td>\n",
              "      <td>7.000000</td>\n",
              "    </tr>\n",
              "    <tr>\n",
              "      <th>25%</th>\n",
              "      <td>49.700000</td>\n",
              "      <td>0.650000</td>\n",
              "      <td>31.000000</td>\n",
              "      <td>0.5</td>\n",
              "      <td>20.000000</td>\n",
              "    </tr>\n",
              "    <tr>\n",
              "      <th>50%</th>\n",
              "      <td>61.100000</td>\n",
              "      <td>0.740000</td>\n",
              "      <td>39.000000</td>\n",
              "      <td>0.5</td>\n",
              "      <td>25.000000</td>\n",
              "    </tr>\n",
              "    <tr>\n",
              "      <th>75%</th>\n",
              "      <td>71.300000</td>\n",
              "      <td>0.910000</td>\n",
              "      <td>49.000000</td>\n",
              "      <td>0.5</td>\n",
              "      <td>30.000000</td>\n",
              "    </tr>\n",
              "    <tr>\n",
              "      <th>max</th>\n",
              "      <td>102.900000</td>\n",
              "      <td>2.500000</td>\n",
              "      <td>80.000000</td>\n",
              "      <td>0.5</td>\n",
              "      <td>43.000000</td>\n",
              "    </tr>\n",
              "  </tbody>\n",
              "</table>\n",
              "</div>\n",
              "      <button class=\"colab-df-convert\" onclick=\"convertToInteractive('df-ba10a297-b291-4eca-9af6-4cd959fa5519')\"\n",
              "              title=\"Convert this dataframe to an interactive table.\"\n",
              "              style=\"display:none;\">\n",
              "        \n",
              "  <svg xmlns=\"http://www.w3.org/2000/svg\" height=\"24px\"viewBox=\"0 0 24 24\"\n",
              "       width=\"24px\">\n",
              "    <path d=\"M0 0h24v24H0V0z\" fill=\"none\"/>\n",
              "    <path d=\"M18.56 5.44l.94 2.06.94-2.06 2.06-.94-2.06-.94-.94-2.06-.94 2.06-2.06.94zm-11 1L8.5 8.5l.94-2.06 2.06-.94-2.06-.94L8.5 2.5l-.94 2.06-2.06.94zm10 10l.94 2.06.94-2.06 2.06-.94-2.06-.94-.94-2.06-.94 2.06-2.06.94z\"/><path d=\"M17.41 7.96l-1.37-1.37c-.4-.4-.92-.59-1.43-.59-.52 0-1.04.2-1.43.59L10.3 9.45l-7.72 7.72c-.78.78-.78 2.05 0 2.83L4 21.41c.39.39.9.59 1.41.59.51 0 1.02-.2 1.41-.59l7.78-7.78 2.81-2.81c.8-.78.8-2.07 0-2.86zM5.41 20L4 18.59l7.72-7.72 1.47 1.35L5.41 20z\"/>\n",
              "  </svg>\n",
              "      </button>\n",
              "      \n",
              "  <style>\n",
              "    .colab-df-container {\n",
              "      display:flex;\n",
              "      flex-wrap:wrap;\n",
              "      gap: 12px;\n",
              "    }\n",
              "\n",
              "    .colab-df-convert {\n",
              "      background-color: #E8F0FE;\n",
              "      border: none;\n",
              "      border-radius: 50%;\n",
              "      cursor: pointer;\n",
              "      display: none;\n",
              "      fill: #1967D2;\n",
              "      height: 32px;\n",
              "      padding: 0 0 0 0;\n",
              "      width: 32px;\n",
              "    }\n",
              "\n",
              "    .colab-df-convert:hover {\n",
              "      background-color: #E2EBFA;\n",
              "      box-shadow: 0px 1px 2px rgba(60, 64, 67, 0.3), 0px 1px 3px 1px rgba(60, 64, 67, 0.15);\n",
              "      fill: #174EA6;\n",
              "    }\n",
              "\n",
              "    [theme=dark] .colab-df-convert {\n",
              "      background-color: #3B4455;\n",
              "      fill: #D2E3FC;\n",
              "    }\n",
              "\n",
              "    [theme=dark] .colab-df-convert:hover {\n",
              "      background-color: #434B5C;\n",
              "      box-shadow: 0px 1px 3px 1px rgba(0, 0, 0, 0.15);\n",
              "      filter: drop-shadow(0px 1px 2px rgba(0, 0, 0, 0.3));\n",
              "      fill: #FFFFFF;\n",
              "    }\n",
              "  </style>\n",
              "\n",
              "      <script>\n",
              "        const buttonEl =\n",
              "          document.querySelector('#df-ba10a297-b291-4eca-9af6-4cd959fa5519 button.colab-df-convert');\n",
              "        buttonEl.style.display =\n",
              "          google.colab.kernel.accessAllowed ? 'block' : 'none';\n",
              "\n",
              "        async function convertToInteractive(key) {\n",
              "          const element = document.querySelector('#df-ba10a297-b291-4eca-9af6-4cd959fa5519');\n",
              "          const dataTable =\n",
              "            await google.colab.kernel.invokeFunction('convertToInteractive',\n",
              "                                                     [key], {});\n",
              "          if (!dataTable) return;\n",
              "\n",
              "          const docLinkHtml = 'Like what you see? Visit the ' +\n",
              "            '<a target=\"_blank\" href=https://colab.research.google.com/notebooks/data_table.ipynb>data table notebook</a>'\n",
              "            + ' to learn more about interactive tables.';\n",
              "          element.innerHTML = '';\n",
              "          dataTable['output_type'] = 'display_data';\n",
              "          await google.colab.output.renderOutput(dataTable, element);\n",
              "          const docLink = document.createElement('div');\n",
              "          docLink.innerHTML = docLinkHtml;\n",
              "          element.appendChild(docLink);\n",
              "        }\n",
              "      </script>\n",
              "    </div>\n",
              "  </div>\n",
              "  "
            ]
          },
          "metadata": {},
          "execution_count": 3
        }
      ]
    },
    {
      "cell_type": "code",
      "source": [
        "\n",
        "#Average of sales \n",
        "no_of_sales = data['Sales'].count()\n",
        "sum_of_sales = data['Sales'].sum()\n",
        "avg = sum_of_sales/no_of_sales\n",
        "avg\n"
      ],
      "metadata": {
        "colab": {
          "base_uri": "https://localhost:8080/"
        },
        "id": "tfBUd32WNXyh",
        "outputId": "30c90494-4417-4d6d-d05f-7aedcc2258e4"
      },
      "execution_count": null,
      "outputs": [
        {
          "output_type": "execute_result",
          "data": {
            "text/plain": [
              "25.323287671232876"
            ]
          },
          "metadata": {},
          "execution_count": 20
        }
      ]
    },
    {
      "cell_type": "code",
      "source": [
        "# using inbuilt mean()\n",
        "avg_of_sales = data['Sales'].mean()\n",
        "avg_of_sales\n"
      ],
      "metadata": {
        "colab": {
          "base_uri": "https://localhost:8080/"
        },
        "id": "8LXItSvBKj20",
        "outputId": "e1fa8808-371b-4955-d0cd-c258fb58f724"
      },
      "execution_count": null,
      "outputs": [
        {
          "output_type": "execute_result",
          "data": {
            "text/plain": [
              "25.323287671232876"
            ]
          },
          "metadata": {},
          "execution_count": 13
        }
      ]
    },
    {
      "cell_type": "code",
      "source": [
        "# Records that have less sale than average sales\n",
        "lower_sales = data[(data['Sales']<avg_of_sales)]\n",
        "lower_sales"
      ],
      "metadata": {
        "colab": {
          "base_uri": "https://localhost:8080/",
          "height": 424
        },
        "id": "MBhVxgE4LVcB",
        "outputId": "458a11bc-0092-4815-cc1b-82aee46513cb"
      },
      "execution_count": null,
      "outputs": [
        {
          "output_type": "execute_result",
          "data": {
            "text/plain": [
              "         Date        Day  Temperature  Rainfall  Flyers  Price  Sales\n",
              "0      1/1/17     Sunday         27.0      2.00      15    0.5     10\n",
              "1      1/2/17     Monday         28.9      1.33      15    0.5     13\n",
              "2      1/3/17    Tuesday         34.5      1.33      27    0.5     15\n",
              "3      1/4/17  Wednesday         44.1      1.05      28    0.5     17\n",
              "4      1/5/17   Thursday         42.4      1.00      33    0.5     18\n",
              "..        ...        ...          ...       ...     ...    ...    ...\n",
              "360  12/27/17  Wednesday         42.7      1.00      33    0.5     19\n",
              "361  12/28/17   Thursday         37.8      1.25      32    0.5     16\n",
              "362  12/29/17     Friday         39.5      1.25      17    0.5     15\n",
              "363  12/30/17   Saturday         30.9      1.43      22    0.5     13\n",
              "364  12/31/17     Sunday         15.1      2.50       9    0.5      7\n",
              "\n",
              "[189 rows x 7 columns]"
            ],
            "text/html": [
              "\n",
              "  <div id=\"df-78e4b376-6857-413f-aaff-f03989dc72a7\">\n",
              "    <div class=\"colab-df-container\">\n",
              "      <div>\n",
              "<style scoped>\n",
              "    .dataframe tbody tr th:only-of-type {\n",
              "        vertical-align: middle;\n",
              "    }\n",
              "\n",
              "    .dataframe tbody tr th {\n",
              "        vertical-align: top;\n",
              "    }\n",
              "\n",
              "    .dataframe thead th {\n",
              "        text-align: right;\n",
              "    }\n",
              "</style>\n",
              "<table border=\"1\" class=\"dataframe\">\n",
              "  <thead>\n",
              "    <tr style=\"text-align: right;\">\n",
              "      <th></th>\n",
              "      <th>Date</th>\n",
              "      <th>Day</th>\n",
              "      <th>Temperature</th>\n",
              "      <th>Rainfall</th>\n",
              "      <th>Flyers</th>\n",
              "      <th>Price</th>\n",
              "      <th>Sales</th>\n",
              "    </tr>\n",
              "  </thead>\n",
              "  <tbody>\n",
              "    <tr>\n",
              "      <th>0</th>\n",
              "      <td>1/1/17</td>\n",
              "      <td>Sunday</td>\n",
              "      <td>27.0</td>\n",
              "      <td>2.00</td>\n",
              "      <td>15</td>\n",
              "      <td>0.5</td>\n",
              "      <td>10</td>\n",
              "    </tr>\n",
              "    <tr>\n",
              "      <th>1</th>\n",
              "      <td>1/2/17</td>\n",
              "      <td>Monday</td>\n",
              "      <td>28.9</td>\n",
              "      <td>1.33</td>\n",
              "      <td>15</td>\n",
              "      <td>0.5</td>\n",
              "      <td>13</td>\n",
              "    </tr>\n",
              "    <tr>\n",
              "      <th>2</th>\n",
              "      <td>1/3/17</td>\n",
              "      <td>Tuesday</td>\n",
              "      <td>34.5</td>\n",
              "      <td>1.33</td>\n",
              "      <td>27</td>\n",
              "      <td>0.5</td>\n",
              "      <td>15</td>\n",
              "    </tr>\n",
              "    <tr>\n",
              "      <th>3</th>\n",
              "      <td>1/4/17</td>\n",
              "      <td>Wednesday</td>\n",
              "      <td>44.1</td>\n",
              "      <td>1.05</td>\n",
              "      <td>28</td>\n",
              "      <td>0.5</td>\n",
              "      <td>17</td>\n",
              "    </tr>\n",
              "    <tr>\n",
              "      <th>4</th>\n",
              "      <td>1/5/17</td>\n",
              "      <td>Thursday</td>\n",
              "      <td>42.4</td>\n",
              "      <td>1.00</td>\n",
              "      <td>33</td>\n",
              "      <td>0.5</td>\n",
              "      <td>18</td>\n",
              "    </tr>\n",
              "    <tr>\n",
              "      <th>...</th>\n",
              "      <td>...</td>\n",
              "      <td>...</td>\n",
              "      <td>...</td>\n",
              "      <td>...</td>\n",
              "      <td>...</td>\n",
              "      <td>...</td>\n",
              "      <td>...</td>\n",
              "    </tr>\n",
              "    <tr>\n",
              "      <th>360</th>\n",
              "      <td>12/27/17</td>\n",
              "      <td>Wednesday</td>\n",
              "      <td>42.7</td>\n",
              "      <td>1.00</td>\n",
              "      <td>33</td>\n",
              "      <td>0.5</td>\n",
              "      <td>19</td>\n",
              "    </tr>\n",
              "    <tr>\n",
              "      <th>361</th>\n",
              "      <td>12/28/17</td>\n",
              "      <td>Thursday</td>\n",
              "      <td>37.8</td>\n",
              "      <td>1.25</td>\n",
              "      <td>32</td>\n",
              "      <td>0.5</td>\n",
              "      <td>16</td>\n",
              "    </tr>\n",
              "    <tr>\n",
              "      <th>362</th>\n",
              "      <td>12/29/17</td>\n",
              "      <td>Friday</td>\n",
              "      <td>39.5</td>\n",
              "      <td>1.25</td>\n",
              "      <td>17</td>\n",
              "      <td>0.5</td>\n",
              "      <td>15</td>\n",
              "    </tr>\n",
              "    <tr>\n",
              "      <th>363</th>\n",
              "      <td>12/30/17</td>\n",
              "      <td>Saturday</td>\n",
              "      <td>30.9</td>\n",
              "      <td>1.43</td>\n",
              "      <td>22</td>\n",
              "      <td>0.5</td>\n",
              "      <td>13</td>\n",
              "    </tr>\n",
              "    <tr>\n",
              "      <th>364</th>\n",
              "      <td>12/31/17</td>\n",
              "      <td>Sunday</td>\n",
              "      <td>15.1</td>\n",
              "      <td>2.50</td>\n",
              "      <td>9</td>\n",
              "      <td>0.5</td>\n",
              "      <td>7</td>\n",
              "    </tr>\n",
              "  </tbody>\n",
              "</table>\n",
              "<p>189 rows × 7 columns</p>\n",
              "</div>\n",
              "      <button class=\"colab-df-convert\" onclick=\"convertToInteractive('df-78e4b376-6857-413f-aaff-f03989dc72a7')\"\n",
              "              title=\"Convert this dataframe to an interactive table.\"\n",
              "              style=\"display:none;\">\n",
              "        \n",
              "  <svg xmlns=\"http://www.w3.org/2000/svg\" height=\"24px\"viewBox=\"0 0 24 24\"\n",
              "       width=\"24px\">\n",
              "    <path d=\"M0 0h24v24H0V0z\" fill=\"none\"/>\n",
              "    <path d=\"M18.56 5.44l.94 2.06.94-2.06 2.06-.94-2.06-.94-.94-2.06-.94 2.06-2.06.94zm-11 1L8.5 8.5l.94-2.06 2.06-.94-2.06-.94L8.5 2.5l-.94 2.06-2.06.94zm10 10l.94 2.06.94-2.06 2.06-.94-2.06-.94-.94-2.06-.94 2.06-2.06.94z\"/><path d=\"M17.41 7.96l-1.37-1.37c-.4-.4-.92-.59-1.43-.59-.52 0-1.04.2-1.43.59L10.3 9.45l-7.72 7.72c-.78.78-.78 2.05 0 2.83L4 21.41c.39.39.9.59 1.41.59.51 0 1.02-.2 1.41-.59l7.78-7.78 2.81-2.81c.8-.78.8-2.07 0-2.86zM5.41 20L4 18.59l7.72-7.72 1.47 1.35L5.41 20z\"/>\n",
              "  </svg>\n",
              "      </button>\n",
              "      \n",
              "  <style>\n",
              "    .colab-df-container {\n",
              "      display:flex;\n",
              "      flex-wrap:wrap;\n",
              "      gap: 12px;\n",
              "    }\n",
              "\n",
              "    .colab-df-convert {\n",
              "      background-color: #E8F0FE;\n",
              "      border: none;\n",
              "      border-radius: 50%;\n",
              "      cursor: pointer;\n",
              "      display: none;\n",
              "      fill: #1967D2;\n",
              "      height: 32px;\n",
              "      padding: 0 0 0 0;\n",
              "      width: 32px;\n",
              "    }\n",
              "\n",
              "    .colab-df-convert:hover {\n",
              "      background-color: #E2EBFA;\n",
              "      box-shadow: 0px 1px 2px rgba(60, 64, 67, 0.3), 0px 1px 3px 1px rgba(60, 64, 67, 0.15);\n",
              "      fill: #174EA6;\n",
              "    }\n",
              "\n",
              "    [theme=dark] .colab-df-convert {\n",
              "      background-color: #3B4455;\n",
              "      fill: #D2E3FC;\n",
              "    }\n",
              "\n",
              "    [theme=dark] .colab-df-convert:hover {\n",
              "      background-color: #434B5C;\n",
              "      box-shadow: 0px 1px 3px 1px rgba(0, 0, 0, 0.15);\n",
              "      filter: drop-shadow(0px 1px 2px rgba(0, 0, 0, 0.3));\n",
              "      fill: #FFFFFF;\n",
              "    }\n",
              "  </style>\n",
              "\n",
              "      <script>\n",
              "        const buttonEl =\n",
              "          document.querySelector('#df-78e4b376-6857-413f-aaff-f03989dc72a7 button.colab-df-convert');\n",
              "        buttonEl.style.display =\n",
              "          google.colab.kernel.accessAllowed ? 'block' : 'none';\n",
              "\n",
              "        async function convertToInteractive(key) {\n",
              "          const element = document.querySelector('#df-78e4b376-6857-413f-aaff-f03989dc72a7');\n",
              "          const dataTable =\n",
              "            await google.colab.kernel.invokeFunction('convertToInteractive',\n",
              "                                                     [key], {});\n",
              "          if (!dataTable) return;\n",
              "\n",
              "          const docLinkHtml = 'Like what you see? Visit the ' +\n",
              "            '<a target=\"_blank\" href=https://colab.research.google.com/notebooks/data_table.ipynb>data table notebook</a>'\n",
              "            + ' to learn more about interactive tables.';\n",
              "          element.innerHTML = '';\n",
              "          dataTable['output_type'] = 'display_data';\n",
              "          await google.colab.output.renderOutput(dataTable, element);\n",
              "          const docLink = document.createElement('div');\n",
              "          docLink.innerHTML = docLinkHtml;\n",
              "          element.appendChild(docLink);\n",
              "        }\n",
              "      </script>\n",
              "    </div>\n",
              "  </div>\n",
              "  "
            ]
          },
          "metadata": {},
          "execution_count": 18
        }
      ]
    },
    {
      "cell_type": "code",
      "source": [
        "data.isnull().sum()"
      ],
      "metadata": {
        "colab": {
          "base_uri": "https://localhost:8080/"
        },
        "id": "HgeUFxSfOpAO",
        "outputId": "f98093c8-6e7b-47c3-c6e4-b34455abe254"
      },
      "execution_count": null,
      "outputs": [
        {
          "output_type": "execute_result",
          "data": {
            "text/plain": [
              "Date           0\n",
              "Day            0\n",
              "Temperature    0\n",
              "Rainfall       0\n",
              "Flyers         0\n",
              "Price          0\n",
              "Sales          0\n",
              "dtype: int64"
            ]
          },
          "metadata": {},
          "execution_count": 23
        }
      ]
    },
    {
      "cell_type": "code",
      "source": [
        "data.plot('Sales','Flyers')"
      ],
      "metadata": {
        "colab": {
          "base_uri": "https://localhost:8080/",
          "height": 296
        },
        "id": "j7Qxlq2_PAsY",
        "outputId": "1f0d1034-15c9-4758-e40c-0e19ecff26d7"
      },
      "execution_count": null,
      "outputs": [
        {
          "output_type": "execute_result",
          "data": {
            "text/plain": [
              "<matplotlib.axes._subplots.AxesSubplot at 0x7f3c90862cd0>"
            ]
          },
          "metadata": {},
          "execution_count": 24
        },
        {
          "output_type": "display_data",
          "data": {
            "text/plain": [
              "<Figure size 432x288 with 1 Axes>"
            ],
            "image/png": "[encoded data removed]"
          },
          "metadata": {
            "needs_background": "light"
          }
        }
      ]
    },
    {
      "cell_type": "code",
      "source": [
        "data.plot('Sales','Temperature')"
      ],
      "metadata": {
        "colab": {
          "base_uri": "https://localhost:8080/",
          "height": 296
        },
        "id": "dUEi2ZDfPp71",
        "outputId": "cb2366af-61bd-4b61-b8e4-f1d68cfc0da9"
      },
      "execution_count": null,
      "outputs": [
        {
          "output_type": "execute_result",
          "data": {
            "text/plain": [
              "<matplotlib.axes._subplots.AxesSubplot at 0x7f3c908b6310>"
            ]
          },
          "metadata": {},
          "execution_count": 25
        },
        {
          "output_type": "display_data",
          "data": {
            "text/plain": [
              "<Figure size 432x288 with 1 Axes>"
            ],
            "image/png": "[encoded data removed]"
          },
          "metadata": {
            "needs_background": "light"
          }
        }
      ]
    },
    {
      "cell_type": "code",
      "source": [
        "data.plot('Sales','Rainfall')"
      ],
      "metadata": {
        "colab": {
          "base_uri": "https://localhost:8080/",
          "height": 296
        },
        "id": "3x6TaTahPvYB",
        "outputId": "40931492-c519-4c57-b40d-4d8fcb6c6d7f"
      },
      "execution_count": null,
      "outputs": [
        {
          "output_type": "execute_result",
          "data": {
            "text/plain": [
              "<matplotlib.axes._subplots.AxesSubplot at 0x7f3c90711350>"
            ]
          },
          "metadata": {},
          "execution_count": 26
        },
        {
          "output_type": "display_data",
          "data": {
            "text/plain": [
              "<Figure size 432x288 with 1 Axes>"
            ],
            "image/png": "[encoded data removed]"
          },
          "metadata": {
            "needs_background": "light"
          }
        }
      ]
    },
    {
      "cell_type": "code",
      "source": [
        "# data.plot('Sales','Price') not suuitable for sales prediction"
      ],
      "metadata": {
        "colab": {
          "base_uri": "https://localhost:8080/",
          "height": 296
        },
        "id": "vrahIhXJP0tV",
        "outputId": "2cf55aad-44a5-466a-f94d-899a097d1b4f"
      },
      "execution_count": null,
      "outputs": [
        {
          "output_type": "execute_result",
          "data": {
            "text/plain": [
              "<matplotlib.axes._subplots.AxesSubplot at 0x7f3c90699910>"
            ]
          },
          "metadata": {},
          "execution_count": 27
        },
        {
          "output_type": "display_data",
          "data": {
            "text/plain": [
              "<Figure size 432x288 with 1 Axes>"
            ],
            "image/png": "[encoded data removed]"
          },
          "metadata": {
            "needs_background": "light"
          }
        }
      ]
    },
    {
      "cell_type": "code",
      "source": [
        "data.drop(['Price'],axis=1,inplace=True)"
      ],
      "metadata": {
        "id": "BGNntJfV5Xyo"
      },
      "execution_count": null,
      "outputs": []
    },
    {
      "cell_type": "code",
      "source": [
        "# correlation between the variables in the dataset and plot them\n",
        "plt.figure(figsize=(10,10))\n",
        "cr = data.corr()\n",
        "sns.heatmap(cr, annot=True, )\n",
        "print(cr)"
      ],
      "metadata": {
        "colab": {
          "base_uri": "https://localhost:8080/",
          "height": 683
        },
        "id": "YRSf9rkOMjei",
        "outputId": "61cc37e5-8b0b-4abe-88d7-02db0dc70090"
      },
      "execution_count": null,
      "outputs": [
        {
          "output_type": "stream",
          "name": "stdout",
          "text": [
            "             Temperature  Rainfall    Flyers     Sales\n",
            "Temperature     1.000000 -0.902859  0.797719  0.989832\n",
            "Rainfall       -0.902859  1.000000 -0.747389 -0.909214\n",
            "Flyers          0.797719 -0.747389  1.000000  0.805183\n",
            "Sales           0.989832 -0.909214  0.805183  1.000000\n"
          ]
        },
        {
          "output_type": "display_data",
          "data": {
            "text/plain": [
              "<Figure size 720x720 with 2 Axes>"
            ],
            "image/png": "[encoded data removed]"
          },
          "metadata": {
            "needs_background": "light"
          }
        }
      ]
    },
    {
      "cell_type": "code",
      "source": [
        "# prediction\n",
        "from sklearn.model_selection import train_test_split\n",
        "from sklearn.linear_model import LinearRegression \n",
        "from sklearn.metrics import mean_squared_error\n"
      ],
      "metadata": {
        "id": "SwPXhJ0yQBVL"
      },
      "execution_count": null,
      "outputs": []
    },
    {
      "cell_type": "code",
      "source": [
        "x = data['Flyers']\n",
        "y = data['Sales']\n",
        "x_train, x_test, y_train, y_test = train_test_split(x,y, test_size = 0.2)\n",
        "x_train.head()"
      ],
      "metadata": {
        "colab": {
          "base_uri": "https://localhost:8080/"
        },
        "id": "0dwLnTNJQPJt",
        "outputId": "bd4b3ee8-be5b-4f1c-ea4f-049130646d52"
      },
      "execution_count": null,
      "outputs": [
        {
          "output_type": "execute_result",
          "data": {
            "text/plain": [
              "204    69\n",
              "327    46\n",
              "38     31\n",
              "100    34\n",
              "207    74\n",
              "Name: Flyers, dtype: int64"
            ]
          },
          "metadata": {},
          "execution_count": 11
        }
      ]
    },
    {
      "cell_type": "code",
      "source": [
        "regr = LinearRegression()\n",
        "regr.fit(np.array(x_train).reshape(-1,1), y_train)\n"
      ],
      "metadata": {
        "colab": {
          "base_uri": "https://localhost:8080/"
        },
        "id": "-nb5jPr4Q1Li",
        "outputId": "7cfb9cdf-d68d-440b-be36-ab4360980d4b"
      },
      "execution_count": null,
      "outputs": [
        {
          "output_type": "execute_result",
          "data": {
            "text/plain": [
              "LinearRegression()"
            ]
          },
          "metadata": {},
          "execution_count": 41
        }
      ]
    },
    {
      "cell_type": "code",
      "source": [
        "print('Intercept',regr.intercept_)"
      ],
      "metadata": {
        "colab": {
          "base_uri": "https://localhost:8080/"
        },
        "id": "m4vbvMK3TZ5v",
        "outputId": "e9d377a6-0ac7-4526-a9a0-dc9d55c42b51"
      },
      "execution_count": null,
      "outputs": [
        {
          "output_type": "stream",
          "name": "stdout",
          "text": [
            "Intercept 8.11287665764727\n"
          ]
        }
      ]
    },
    {
      "cell_type": "code",
      "source": [
        "preds = regr.predict(np.array(x_test).reshape(-1,1))"
      ],
      "metadata": {
        "id": "yO_eQ_rJSaua"
      },
      "execution_count": null,
      "outputs": []
    },
    {
      "cell_type": "code",
      "source": [
        "plt.scatter(preds, y_test)"
      ],
      "metadata": {
        "colab": {
          "base_uri": "https://localhost:8080/",
          "height": 282
        },
        "id": "wozAOFNYTj5a",
        "outputId": "76735ad4-4708-408d-ddca-e6305bfaaf14"
      },
      "execution_count": null,
      "outputs": [
        {
          "output_type": "execute_result",
          "data": {
            "text/plain": [
              "<matplotlib.collections.PathCollection at 0x7f3c8d436410>"
            ]
          },
          "metadata": {},
          "execution_count": 52
        },
        {
          "output_type": "display_data",
          "data": {
            "text/plain": [
              "<Figure size 432x288 with 1 Axes>"
            ],
            "image/png": "[encoded data removed]"
          },
          "metadata": {
            "needs_background": "light"
          }
        }
      ]
    },
    {
      "cell_type": "code",
      "source": [
        "y_test.head()"
      ],
      "metadata": {
        "colab": {
          "base_uri": "https://localhost:8080/"
        },
        "id": "twIQX-uRSfp6",
        "outputId": "223e6877-f3eb-4951-ae37-108f4d097b57"
      },
      "execution_count": null,
      "outputs": [
        {
          "output_type": "execute_result",
          "data": {
            "text/plain": [
              "300    25\n",
              "296    25\n",
              "213    31\n",
              "317    23\n",
              "66     25\n",
              "Name: Sales, dtype: int64"
            ]
          },
          "metadata": {},
          "execution_count": 43
        }
      ]
    },
    {
      "cell_type": "code",
      "source": [
        "preds"
      ],
      "metadata": {
        "colab": {
          "base_uri": "https://localhost:8080/"
        },
        "id": "C7x1Zg9gShjv",
        "outputId": "9c9f0e7c-31cf-4402-aa17-c9fb51fa0833"
      },
      "execution_count": null,
      "outputs": [
        {
          "output_type": "execute_result",
          "data": {
            "text/plain": [
              "array([19.99839476, 28.48805054, 28.48805054, 19.99839476, 26.3656366 ,\n",
              "       28.48805054, 26.3656366 , 14.4801185 , 25.09218823, 30.1859817 ,\n",
              "       21.69632591, 23.39425707, 32.30839565, 24.24322265, 28.06356775,\n",
              "       31.88391286, 20.84736034, 18.72494639, 32.73287844, 26.79011939,\n",
              "       23.39425707, 25.51667102, 42.0714998 , 30.1859817 , 18.72494639,\n",
              "       14.90460129, 19.99839476, 22.54529149, 21.27184313, 31.88391286,\n",
              "       23.81873986, 22.54529149, 32.73287844, 26.79011939, 19.57391197,\n",
              "       20.84736034, 22.54529149, 25.94115381, 19.99839476, 29.76149891,\n",
              "       21.69632591, 33.15736123, 17.45149802, 25.09218823, 25.94115381,\n",
              "       27.63908496, 26.3656366 , 19.14942918, 40.79805143, 22.54529149,\n",
              "       29.76149891, 22.54529149, 35.27977517, 28.91253333, 27.63908496,\n",
              "       20.42287755, 21.69632591, 25.51667102, 28.48805054, 16.17804965,\n",
              "       19.99839476, 19.57391197, 29.76149891, 22.1208087 , 27.63908496,\n",
              "       28.06356775, 25.94115381, 22.1208087 , 28.48805054, 22.54529149,\n",
              "       22.1208087 , 29.33701612, 22.1208087 ])"
            ]
          },
          "metadata": {},
          "execution_count": 44
        }
      ]
    },
    {
      "cell_type": "code",
      "source": [
        "residuals = preds - y_test\n",
        "residuals"
      ],
      "metadata": {
        "colab": {
          "base_uri": "https://localhost:8080/"
        },
        "id": "9o3IDfQsSz-v",
        "outputId": "591deba4-1cf6-40b3-bb71-a18f35a9825a"
      },
      "execution_count": null,
      "outputs": [
        {
          "output_type": "execute_result",
          "data": {
            "text/plain": [
              "300   -5.001605\n",
              "296    3.488051\n",
              "213   -2.511949\n",
              "317   -3.001605\n",
              "66     1.365637\n",
              "         ...   \n",
              "164   -6.511949\n",
              "322   -0.454709\n",
              "90    -2.879191\n",
              "75     4.337016\n",
              "78    -1.879191\n",
              "Name: Sales, Length: 73, dtype: float64"
            ]
          },
          "metadata": {},
          "execution_count": 46
        }
      ]
    },
    {
      "cell_type": "code",
      "source": [
        "plt.hist('residuals')"
      ],
      "metadata": {
        "colab": {
          "base_uri": "https://localhost:8080/",
          "height": 317
        },
        "id": "j_8JcN3QS9wE",
        "outputId": "a6d18179-5922-4afd-bd1f-c7a82737f025"
      },
      "execution_count": null,
      "outputs": [
        {
          "output_type": "execute_result",
          "data": {
            "text/plain": [
              "(array([0., 0., 0., 0., 0., 1., 0., 0., 0., 0.]),\n",
              " array([-0.5, -0.4, -0.3, -0.2, -0.1,  0. ,  0.1,  0.2,  0.3,  0.4,  0.5]),\n",
              " <a list of 10 Patch objects>)"
            ]
          },
          "metadata": {},
          "execution_count": 48
        },
        {
          "output_type": "display_data",
          "data": {
            "text/plain": [
              "<Figure size 432x288 with 1 Axes>"
            ],
            "image/png": "[encoded data removed]"
          },
          "metadata": {
            "needs_background": "light"
          }
        }
      ]
    },
    {
      "cell_type": "code",
      "source": [
        "mean_squared_error(y_test, preds) ** 0.5"
      ],
      "metadata": {
        "colab": {
          "base_uri": "https://localhost:8080/"
        },
        "id": "tHdCDe8RTLDQ",
        "outputId": "a0a29377-3f01-4d62-b640-f56117b54b1a"
      },
      "execution_count": null,
      "outputs": [
        {
          "output_type": "execute_result",
          "data": {
            "text/plain": [
              "4.176849551523249"
            ]
          },
          "metadata": {},
          "execution_count": 49
        }
      ]
    },
    {
      "cell_type": "code",
      "source": [
        "regr.score(np.array(x_test).reshape(-1,1),y_test)"
      ],
      "metadata": {
        "colab": {
          "base_uri": "https://localhost:8080/"
        },
        "id": "0cRpmWN5T6OF",
        "outputId": "bbdcbc17-072c-48b6-dcd6-16bb7aa6f5b7"
      },
      "execution_count": null,
      "outputs": [
        {
          "output_type": "execute_result",
          "data": {
            "text/plain": [
              "0.5953809923479643"
            ]
          },
          "metadata": {},
          "execution_count": 54
        }
      ]
    },
    {
      "cell_type": "markdown",
      "source": [
        "# Question 2\n",
        " Create a Pivot table with multiple indexes from a given excel sheet (Sales.xlsx). You can also use the Groupby method whenever required\n",
        "- A. Find the total sale amount region wise, manager wise, sales man wise. \n",
        "- B. Find the item wise unit sold and the region wise total sale. \n",
        "- C. Count the manager wise sale and mean value of sale amount and also display the sum of all sale amount at the bottom\n",
        "- D. Find the total sale amount region wise, manager wise, sales man wise where Manager = \"Timothy\"\n"
      ],
      "metadata": {
        "id": "28dXAykNcUYF"
      }
    },
    {
      "cell_type": "code",
      "source": [
        "from google.colab import files\n",
        " \n",
        " \n",
        "uploaded = files.upload()\n"
      ],
      "metadata": {
        "colab": {
          "resources": {
            "http://localhost:8080/nbextensions/google.colab/files.js": {
              "data": "Ly8gQ29weXJpZ2h0IDIwMTcgR29vZ2xlIExMQwovLwovLyBMaWNlbnNlZCB1bmRlciB0aGUgQXBhY2hlIExpY2Vuc2UsIFZlcnNpb24gMi4wICh0aGUgIkxpY2Vuc2UiKTsKLy8geW91IG1heSBub3QgdXNlIHRoaXMgZmlsZSBleGNlcHQgaW4gY29tcGxpYW5jZSB3aXRoIHRoZSBMaWNlbnNlLgovLyBZb3UgbWF5IG9idGFpbiBhIGNvcHkgb2YgdGhlIExpY2Vuc2UgYXQKLy8KLy8gICAgICBodHRwOi8vd3d3LmFwYWNoZS5vcmcvbGljZW5zZXMvTElDRU5TRS0yLjAKLy8KLy8gVW5sZXNzIHJlcXVpcmVkIGJ5IGFwcGxpY2FibGUgbGF3IG9yIGFncmVlZCB0byBpbiB3cml0aW5nLCBzb2Z0d2FyZQovLyBkaXN0cmlidXRlZCB1bmRlciB0aGUgTGljZW5zZSBpcyBkaXN0cmlidXRlZCBvbiBhbiAiQVMgSVMiIEJBU0lTLAovLyBXSVRIT1VUIFdBUlJBTlRJRVMgT1IgQ09ORElUSU9OUyBPRiBBTlkgS0lORCwgZWl0aGVyIGV4cHJlc3Mgb3IgaW1wbGllZC4KLy8gU2VlIHRoZSBMaWNlbnNlIGZvciB0aGUgc3BlY2lmaWMgbGFuZ3VhZ2UgZ292ZXJuaW5nIHBlcm1pc3Npb25zIGFuZAovLyBsaW1pdGF0aW9ucyB1bmRlciB0aGUgTGljZW5zZS4KCi8qKgogKiBAZmlsZW92ZXJ2aWV3IEhlbHBlcnMgZm9yIGdvb2dsZS5jb2xhYiBQeXRob24gbW9kdWxlLgogKi8KKGZ1bmN0aW9uKHNjb3BlKSB7CmZ1bmN0aW9uIHNwYW4odGV4dCwgc3R5bGVBdHRyaWJ1dGVzID0ge30pIHsKICBjb25zdCBlbGVtZW50ID0gZG9jdW1lbnQuY3JlYXRlRWxlbWVudCgnc3BhbicpOwogIGVsZW1lbnQudGV4dENvbnRlbnQgPSB0ZXh0OwogIGZvciAoY29uc3Qga2V5IG9mIE9iamVjdC5rZXlzKHN0eWxlQXR0cmlidXRlcykpIHsKICAgIGVsZW1lbnQuc3R5bGVba2V5XSA9IHN0eWxlQXR0cmlidXRlc1trZXldOwogIH0KICByZXR1cm4gZWxlbWVudDsKfQoKLy8gTWF4IG51bWJlciBvZiBieXRlcyB3aGljaCB3aWxsIGJlIHVwbG9hZGVkIGF0IGEgdGltZS4KY29uc3QgTUFYX1BBWUxPQURfU0laRSA9IDEwMCAqIDEwMjQ7CgpmdW5jdGlvbiBfdXBsb2FkRmlsZXMoaW5wdXRJZCwgb3V0cHV0SWQpIHsKICBjb25zdCBzdGVwcyA9IHVwbG9hZEZpbGVzU3RlcChpbnB1dElkLCBvdXRwdXRJZCk7CiAgY29uc3Qgb3V0cHV0RWxlbWVudCA9IGRvY3VtZW50LmdldEVsZW1lbnRCeUlkKG91dHB1dElkKTsKICAvLyBDYWNoZSBzdGVwcyBvbiB0aGUgb3V0cHV0RWxlbWVudCB0byBtYWtlIGl0IGF2YWlsYWJsZSBmb3IgdGhlIG5leHQgY2FsbAogIC8vIHRvIHVwbG9hZEZpbGVzQ29udGludWUgZnJvbSBQeXRob24uCiAgb3V0cHV0RWxlbWVudC5zdGVwcyA9IHN0ZXBzOwoKICByZXR1cm4gX3VwbG9hZEZpbGVzQ29udGludWUob3V0cHV0SWQpOwp9CgovLyBUaGlzIGlzIHJvdWdobHkgYW4gYXN5bmMgZ2VuZXJhdG9yIChub3Qgc3VwcG9ydGVkIGluIHRoZSBicm93c2VyIHlldCksCi8vIHdoZXJlIHRoZXJlIGFyZSBtdWx0aXBsZSBhc3luY2hyb25vdXMgc3RlcHMgYW5kIHRoZSBQeXRob24gc2lkZSBpcyBnb2luZwovLyB0byBwb2xsIGZvciBjb21wbGV0aW9uIG9mIGVhY2ggc3RlcC4KLy8gVGhpcyB1c2VzIGEgUHJvbWlzZSB0byBibG9jayB0aGUgcHl0aG9uIHNpZGUgb24gY29tcGxldGlvbiBvZiBlYWNoIHN0ZXAsCi8vIHRoZW4gcGFzc2VzIHRoZSByZXN1bHQgb2YgdGhlIHByZXZpb3VzIHN0ZXAgYXMgdGhlIGlucHV0IHRvIHRoZSBuZXh0IHN0ZXAuCmZ1bmN0aW9uIF91cGxvYWRGaWxlc0NvbnRpbnVlKG91dHB1dElkKSB7CiAgY29uc3Qgb3V0cHV0RWxlbWVudCA9IGRvY3VtZW50LmdldEVsZW1lbnRCeUlkKG91dHB1dElkKTsKICBjb25zdCBzdGVwcyA9IG91dHB1dEVsZW1lbnQuc3RlcHM7CgogIGNvbnN0IG5leHQgPSBzdGVwcy5uZXh0KG91dHB1dEVsZW1lbnQubGFzdFByb21pc2VWYWx1ZSk7CiAgcmV0dXJuIFByb21pc2UucmVzb2x2ZShuZXh0LnZhbHVlLnByb21pc2UpLnRoZW4oKHZhbHVlKSA9PiB7CiAgICAvLyBDYWNoZSB0aGUgbGFzdCBwcm9taXNlIHZhbHVlIHRvIG1ha2UgaXQgYXZhaWxhYmxlIHRvIHRoZSBuZXh0CiAgICAvLyBzdGVwIG9mIHRoZSBnZW5lcmF0b3IuCiAgICBvdXRwdXRFbGVtZW50Lmxhc3RQcm9taXNlVmFsdWUgPSB2YWx1ZTsKICAgIHJldHVybiBuZXh0LnZhbHVlLnJlc3BvbnNlOwogIH0pOwp9CgovKioKICogR2VuZXJhdG9yIGZ1bmN0aW9uIHdoaWNoIGlzIGNhbGxlZCBiZXR3ZWVuIGVhY2ggYXN5bmMgc3RlcCBvZiB0aGUgdXBsb2FkCiAqIHByb2Nlc3MuCiAqIEBwYXJhbSB7c3RyaW5nfSBpbnB1dElkIEVsZW1lbnQgSUQgb2YgdGhlIGlucHV0IGZpbGUgcGlja2VyIGVsZW1lbnQuCiAqIEBwYXJhbSB7c3RyaW5nfSBvdXRwdXRJZCBFbGVtZW50IElEIG9mIHRoZSBvdXRwdXQgZGlzcGxheS4KICogQHJldHVybiB7IUl0ZXJhYmxlPCFPYmplY3Q+fSBJdGVyYWJsZSBvZiBuZXh0IHN0ZXBzLgogKi8KZnVuY3Rpb24qIHVwbG9hZEZpbGVzU3RlcChpbnB1dElkLCBvdXRwdXRJZCkgewogIGNvbnN0IGlucHV0RWxlbWVudCA9IGRvY3VtZW50LmdldEVsZW1lbnRCeUlkKGlucHV0SWQpOwogIGlucHV0RWxlbWVudC5kaXNhYmxlZCA9IGZhbHNlOwoKICBjb25zdCBvdXRwdXRFbGVtZW50ID0gZG9jdW1lbnQuZ2V0RWxlbWVudEJ5SWQob3V0cHV0SWQpOwogIG91dHB1dEVsZW1lbnQuaW5uZXJIVE1MID0gJyc7CgogIGNvbnN0IHBpY2tlZFByb21pc2UgPSBuZXcgUHJvbWlzZSgocmVzb2x2ZSkgPT4gewogICAgaW5wdXRFbGVtZW50LmFkZEV2ZW50TGlzdGVuZXIoJ2NoYW5nZScsIChlKSA9PiB7CiAgICAgIHJlc29sdmUoZS50YXJnZXQuZmlsZXMpOwogICAgfSk7CiAgfSk7CgogIGNvbnN0IGNhbmNlbCA9IGRvY3VtZW50LmNyZWF0ZUVsZW1lbnQoJ2J1dHRvbicpOwogIGlucHV0RWxlbWVudC5wYXJlbnRFbGVtZW50LmFwcGVuZENoaWxkKGNhbmNlbCk7CiAgY2FuY2VsLnRleHRDb250ZW50ID0gJ0NhbmNlbCB1cGxvYWQnOwogIGNvbnN0IGNhbmNlbFByb21pc2UgPSBuZXcgUHJvbWlzZSgocmVzb2x2ZSkgPT4gewogICAgY2FuY2VsLm9uY2xpY2sgPSAoKSA9PiB7CiAgICAgIHJlc29sdmUobnVsbCk7CiAgICB9OwogIH0pOwoKICAvLyBXYWl0IGZvciB0aGUgdXNlciB0byBwaWNrIHRoZSBmaWxlcy4KICBjb25zdCBmaWxlcyA9IHlpZWxkIHsKICAgIHByb21pc2U6IFByb21pc2UucmFjZShbcGlja2VkUHJvbWlzZSwgY2FuY2VsUHJvbWlzZV0pLAogICAgcmVzcG9uc2U6IHsKICAgICAgYWN0aW9uOiAnc3RhcnRpbmcnLAogICAgfQogIH07CgogIGNhbmNlbC5yZW1vdmUoKTsKCiAgLy8gRGlzYWJsZSB0aGUgaW5wdXQgZWxlbWVudCBzaW5jZSBmdXJ0aGVyIHBpY2tzIGFyZSBub3QgYWxsb3dlZC4KICBpbnB1dEVsZW1lbnQuZGlzYWJsZWQgPSB0cnVlOwoKICBpZiAoIWZpbGVzKSB7CiAgICByZXR1cm4gewogICAgICByZXNwb25zZTogewogICAgICAgIGFjdGlvbjogJ2NvbXBsZXRlJywKICAgICAgfQogICAgfTsKICB9CgogIGZvciAoY29uc3QgZmlsZSBvZiBmaWxlcykgewogICAgY29uc3QgbGkgPSBkb2N1bWVudC5jcmVhdGVFbGVtZW50KCdsaScpOwogICAgbGkuYXBwZW5kKHNwYW4oZmlsZS5uYW1lLCB7Zm9udFdlaWdodDogJ2JvbGQnfSkpOwogICAgbGkuYXBwZW5kKHNwYW4oCiAgICAgICAgYCgke2ZpbGUudHlwZSB8fCAnbi9hJ30pIC0gJHtmaWxlLnNpemV9IGJ5dGVzLCBgICsKICAgICAgICBgbGFzdCBtb2RpZmllZDogJHsKICAgICAgICAgICAgZmlsZS5sYXN0TW9kaWZpZWREYXRlID8gZmlsZS5sYXN0TW9kaWZpZWREYXRlLnRvTG9jYWxlRGF0ZVN0cmluZygpIDoKICAgICAgICAgICAgICAgICAgICAgICAgICAgICAgICAgICAgJ24vYSd9IC0gYCkpOwogICAgY29uc3QgcGVyY2VudCA9IHNwYW4oJzAlIGRvbmUnKTsKICAgIGxpLmFwcGVuZENoaWxkKHBlcmNlbnQpOwoKICAgIG91dHB1dEVsZW1lbnQuYXBwZW5kQ2hpbGQobGkpOwoKICAgIGNvbnN0IGZpbGVEYXRhUHJvbWlzZSA9IG5ldyBQcm9taXNlKChyZXNvbHZlKSA9PiB7CiAgICAgIGNvbnN0IHJlYWRlciA9IG5ldyBGaWxlUmVhZGVyKCk7CiAgICAgIHJlYWRlci5vbmxvYWQgPSAoZSkgPT4gewogICAgICAgIHJlc29sdmUoZS50YXJnZXQucmVzdWx0KTsKICAgICAgfTsKICAgICAgcmVhZGVyLnJlYWRBc0FycmF5QnVmZmVyKGZpbGUpOwogICAgfSk7CiAgICAvLyBXYWl0IGZvciB0aGUgZGF0YSB0byBiZSByZWFkeS4KICAgIGxldCBmaWxlRGF0YSA9IHlpZWxkIHsKICAgICAgcHJvbWlzZTogZmlsZURhdGFQcm9taXNlLAogICAgICByZXNwb25zZTogewogICAgICAgIGFjdGlvbjogJ2NvbnRpbnVlJywKICAgICAgfQogICAgfTsKCiAgICAvLyBVc2UgYSBjaHVua2VkIHNlbmRpbmcgdG8gYXZvaWQgbWVzc2FnZSBzaXplIGxpbWl0cy4gU2VlIGIvNjIxMTU2NjAuCiAgICBsZXQgcG9zaXRpb24gPSAwOwogICAgZG8gewogICAgICBjb25zdCBsZW5ndGggPSBNYXRoLm1pbihmaWxlRGF0YS5ieXRlTGVuZ3RoIC0gcG9zaXRpb24sIE1BWF9QQVlMT0FEX1NJWkUpOwogICAgICBjb25zdCBjaHVuayA9IG5ldyBVaW50OEFycmF5KGZpbGVEYXRhLCBwb3NpdGlvbiwgbGVuZ3RoKTsKICAgICAgcG9zaXRpb24gKz0gbGVuZ3RoOwoKICAgICAgY29uc3QgYmFzZTY0ID0gYnRvYShTdHJpbmcuZnJvbUNoYXJDb2RlLmFwcGx5KG51bGwsIGNodW5rKSk7CiAgICAgIHlpZWxkIHsKICAgICAgICByZXNwb25zZTogewogICAgICAgICAgYWN0aW9uOiAnYXBwZW5kJywKICAgICAgICAgIGZpbGU6IGZpbGUubmFtZSwKICAgICAgICAgIGRhdGE6IGJhc2U2NCwKICAgICAgICB9LAogICAgICB9OwoKICAgICAgbGV0IHBlcmNlbnREb25lID0gZmlsZURhdGEuYnl0ZUxlbmd0aCA9PT0gMCA/CiAgICAgICAgICAxMDAgOgogICAgICAgICAgTWF0aC5yb3VuZCgocG9zaXRpb24gLyBmaWxlRGF0YS5ieXRlTGVuZ3RoKSAqIDEwMCk7CiAgICAgIHBlcmNlbnQudGV4dENvbnRlbnQgPSBgJHtwZXJjZW50RG9uZX0lIGRvbmVgOwoKICAgIH0gd2hpbGUgKHBvc2l0aW9uIDwgZmlsZURhdGEuYnl0ZUxlbmd0aCk7CiAgfQoKICAvLyBBbGwgZG9uZS4KICB5aWVsZCB7CiAgICByZXNwb25zZTogewogICAgICBhY3Rpb246ICdjb21wbGV0ZScsCiAgICB9CiAgfTsKfQoKc2NvcGUuZ29vZ2xlID0gc2NvcGUuZ29vZ2xlIHx8IHt9OwpzY29wZS5nb29nbGUuY29sYWIgPSBzY29wZS5nb29nbGUuY29sYWIgfHwge307CnNjb3BlLmdvb2dsZS5jb2xhYi5fZmlsZXMgPSB7CiAgX3VwbG9hZEZpbGVzLAogIF91cGxvYWRGaWxlc0NvbnRpbnVlLAp9Owp9KShzZWxmKTsK",
              "ok": true,
              "headers": [
                [
                  "content-type",
                  "application/javascript"
                ]
              ],
              "status": 200,
              "status_text": ""
            }
          },
          "base_uri": "https://localhost:8080/",
          "height": 73
        },
        "id": "-SsNOvIGcc36",
        "outputId": "296df647-c0d0-47bb-cfba-1c83fc1d5481"
      },
      "execution_count": null,
      "outputs": [
        {
          "output_type": "display_data",
          "data": {
            "text/plain": [
              "<IPython.core.display.HTML object>"
            ],
            "text/html": [
              "\n",
              "     <input type=\"file\" id=\"files-98bd2ae4-95b0-4395-af97-52fa788e776b\" name=\"files[]\" multiple disabled\n",
              "        style=\"border:none\" />\n",
              "     <output id=\"result-98bd2ae4-95b0-4395-af97-52fa788e776b\">\n",
              "      Upload widget is only available when the cell has been executed in the\n",
              "      current browser session. Please rerun this cell to enable.\n",
              "      </output>\n",
              "      <script src=\"/nbextensions/google.colab/files.js\"></script> "
            ]
          },
          "metadata": {}
        },
        {
          "output_type": "stream",
          "name": "stdout",
          "text": [
            "Saving SaleData.xlsx to SaleData.xlsx\n"
          ]
        }
      ]
    },
    {
      "cell_type": "code",
      "source": [
        "import pandas as pd\n",
        "df = pd.read_excel('SaleData.xlsx')\n",
        "df\n"
      ],
      "metadata": {
        "colab": {
          "base_uri": "https://localhost:8080/",
          "height": 1000
        },
        "id": "i-HFQRdVcaPr",
        "outputId": "f49652a4-22aa-436b-df61-9b9f8368ed98"
      },
      "execution_count": null,
      "outputs": [
        {
          "output_type": "execute_result",
          "data": {
            "text/plain": [
              "    OrderDate   Region  Manager   SalesMan          Item   Units  Unit_price  \\\n",
              "0  2018-01-06     East   Martha  Alexander    Television   95.00    1198.000   \n",
              "1  2018-01-23  Central  Hermann     Shelli  Home Theater   50.00     500.000   \n",
              "2  2018-02-09  Central  Hermann       Luis    Television   36.00    1198.000   \n",
              "3  2018-02-26  Central  Timothy      David    Cell Phone   27.00     225.000   \n",
              "4  2018-03-15     West  Timothy    Stephen    Television   56.00    1198.000   \n",
              "5  2018-04-01     East   Martha  Alexander  Home Theater   60.00     500.000   \n",
              "6  2018-04-18  Central   Martha     Steven    Television   75.00    1198.000   \n",
              "7  2018-05-05  Central  Hermann       Luis    Television   90.00    1198.000   \n",
              "8  2018-05-22     West  Douglas    Michael    Television   32.00    1198.000   \n",
              "9  2018-06-08     East   Martha  Alexander  Home Theater   60.00     500.000   \n",
              "10 2018-06-25  Central  Hermann      Sigal    Television   90.00    1198.000   \n",
              "11 2018-07-12     East   Martha      Diana  Home Theater   29.00     500.000   \n",
              "12 2018-07-29     East  Douglas      Karen  Home Theater   81.00     500.000   \n",
              "13 2018-08-15     East   Martha  Alexander    Television   35.00    1198.000   \n",
              "14 2018-09-01  Central  Douglas       John          Desk    2.00     125.000   \n",
              "15 2018-09-18     East   Martha  Alexander   Video Games   16.00      58.500   \n",
              "16 2018-10-05  Central  Hermann      Sigal  Home Theater   28.00     500.000   \n",
              "17 2018-10-22     East   Martha  Alexander    Cell Phone   64.00     225.000   \n",
              "18 2018-11-08     East  Douglas      Karen    Cell Phone   15.00     225.000   \n",
              "19 2018-11-25  Central  Hermann     Shelli   Video Games   96.00      58.500   \n",
              "20 2018-12-12  Central  Douglas       John    Television   67.00    1198.000   \n",
              "21 2018-12-29     East  Douglas      Karen   Video Games   74.00      58.500   \n",
              "22 2019-01-15  Central  Timothy      David  Home Theater   46.00     500.000   \n",
              "23 2019-02-01  Central  Douglas       John  Home Theater   87.00     500.000   \n",
              "24 2019-02-18     East   Martha  Alexander  Home Theater    4.00     500.000   \n",
              "25 2019-03-07     West  Timothy    Stephen  Home Theater    7.00     500.000   \n",
              "26 2019-03-24  Central  Hermann       Luis   Video Games   50.00      58.500   \n",
              "27 2019-04-10  Central   Martha     Steven    Television   66.00    1198.000   \n",
              "28 2019-04-27     East   Martha      Diana    Cell Phone   96.00     225.000   \n",
              "29 2019-05-14  Central  Timothy      David    Television   53.00    1198.000   \n",
              "30 2019-05-31  Central  Timothy      David  Home Theater   80.00     500.000   \n",
              "31 2019-06-17  Central  Hermann     Shelli          Desk    5.00     125.000   \n",
              "32 2019-07-04     East   Martha  Alexander   Video Games   62.00      58.500   \n",
              "33 2019-07-21  Central  Hermann      Sigal   Video Games   55.00      58.500   \n",
              "34 2019-08-07  Central  Hermann     Shelli   Video Games   42.00      58.500   \n",
              "35 2019-08-24     West  Timothy    Stephen          Desk    3.00     125.000   \n",
              "36 2019-09-10  Central  Timothy      David    Television    7.00    1198.000   \n",
              "37 2019-09-27     West  Timothy    Stephen    Cell Phone   76.00     225.000   \n",
              "38 2019-10-14     West  Douglas    Michael  Home Theater   57.00     500.000   \n",
              "39 2019-10-31  Central   Martha     Steven    Television   14.00    1198.000   \n",
              "40 2019-11-17  Central  Hermann       Luis  Home Theater   11.00     500.000   \n",
              "41 2019-12-04  Central  Hermann       Luis  Home Theater   94.00     500.000   \n",
              "42 2019-12-21  Central   Martha     Steven  Home Theater   28.00     500.000   \n",
              "43        NaT      NaN      NaN        NaN           NaN  278.00    1125.000   \n",
              "44        NaT      NaN      NaN        NaN           NaN   34.75     140.625   \n",
              "\n",
              "     Sale_amt  \n",
              "0   113810.00  \n",
              "1    25000.00  \n",
              "2    43128.00  \n",
              "3     6075.00  \n",
              "4    67088.00  \n",
              "5    30000.00  \n",
              "6    89850.00  \n",
              "7   107820.00  \n",
              "8    38336.00  \n",
              "9    30000.00  \n",
              "10  107820.00  \n",
              "11   14500.00  \n",
              "12   40500.00  \n",
              "13   41930.00  \n",
              "14     250.00  \n",
              "15     936.00  \n",
              "16   14000.00  \n",
              "17   14400.00  \n",
              "18    3375.00  \n",
              "19    5616.00  \n",
              "20   80266.00  \n",
              "21    4329.00  \n",
              "22   23000.00  \n",
              "23   43500.00  \n",
              "24    2000.00  \n",
              "25    3500.00  \n",
              "26    2925.00  \n",
              "27   79068.00  \n",
              "28   21600.00  \n",
              "29   63494.00  \n",
              "30   40000.00  \n",
              "31     625.00  \n",
              "32    3627.00  \n",
              "33    3217.50  \n",
              "34    2457.00  \n",
              "35     375.00  \n",
              "36    8386.00  \n",
              "37   17100.00  \n",
              "38   28500.00  \n",
              "39   16772.00  \n",
              "40    5500.00  \n",
              "41   47000.00  \n",
              "42   14000.00  \n",
              "43   62550.00  \n",
              "44    7818.75  "
            ],
            "text/html": [
              "\n",
              "  <div id=\"df-a430482c-e80e-41e7-915e-7f22cacb700e\">\n",
              "    <div class=\"colab-df-container\">\n",
              "      <div>\n",
              "<style scoped>\n",
              "    .dataframe tbody tr th:only-of-type {\n",
              "        vertical-align: middle;\n",
              "    }\n",
              "\n",
              "    .dataframe tbody tr th {\n",
              "        vertical-align: top;\n",
              "    }\n",
              "\n",
              "    .dataframe thead th {\n",
              "        text-align: right;\n",
              "    }\n",
              "</style>\n",
              "<table border=\"1\" class=\"dataframe\">\n",
              "  <thead>\n",
              "    <tr style=\"text-align: right;\">\n",
              "      <th></th>\n",
              "      <th>OrderDate</th>\n",
              "      <th>Region</th>\n",
              "      <th>Manager</th>\n",
              "      <th>SalesMan</th>\n",
              "      <th>Item</th>\n",
              "      <th>Units</th>\n",
              "      <th>Unit_price</th>\n",
              "      <th>Sale_amt</th>\n",
              "    </tr>\n",
              "  </thead>\n",
              "  <tbody>\n",
              "    <tr>\n",
              "      <th>0</th>\n",
              "      <td>2018-01-06</td>\n",
              "      <td>East</td>\n",
              "      <td>Martha</td>\n",
              "      <td>Alexander</td>\n",
              "      <td>Television</td>\n",
              "      <td>95.00</td>\n",
              "      <td>1198.000</td>\n",
              "      <td>113810.00</td>\n",
              "    </tr>\n",
              "    <tr>\n",
              "      <th>1</th>\n",
              "      <td>2018-01-23</td>\n",
              "      <td>Central</td>\n",
              "      <td>Hermann</td>\n",
              "      <td>Shelli</td>\n",
              "      <td>Home Theater</td>\n",
              "      <td>50.00</td>\n",
              "      <td>500.000</td>\n",
              "      <td>25000.00</td>\n",
              "    </tr>\n",
              "    <tr>\n",
              "      <th>2</th>\n",
              "      <td>2018-02-09</td>\n",
              "      <td>Central</td>\n",
              "      <td>Hermann</td>\n",
              "      <td>Luis</td>\n",
              "      <td>Television</td>\n",
              "      <td>36.00</td>\n",
              "      <td>1198.000</td>\n",
              "      <td>43128.00</td>\n",
              "    </tr>\n",
              "    <tr>\n",
              "      <th>3</th>\n",
              "      <td>2018-02-26</td>\n",
              "      <td>Central</td>\n",
              "      <td>Timothy</td>\n",
              "      <td>David</td>\n",
              "      <td>Cell Phone</td>\n",
              "      <td>27.00</td>\n",
              "      <td>225.000</td>\n",
              "      <td>6075.00</td>\n",
              "    </tr>\n",
              "    <tr>\n",
              "      <th>4</th>\n",
              "      <td>2018-03-15</td>\n",
              "      <td>West</td>\n",
              "      <td>Timothy</td>\n",
              "      <td>Stephen</td>\n",
              "      <td>Television</td>\n",
              "      <td>56.00</td>\n",
              "      <td>1198.000</td>\n",
              "      <td>67088.00</td>\n",
              "    </tr>\n",
              "    <tr>\n",
              "      <th>5</th>\n",
              "      <td>2018-04-01</td>\n",
              "      <td>East</td>\n",
              "      <td>Martha</td>\n",
              "      <td>Alexander</td>\n",
              "      <td>Home Theater</td>\n",
              "      <td>60.00</td>\n",
              "      <td>500.000</td>\n",
              "      <td>30000.00</td>\n",
              "    </tr>\n",
              "    <tr>\n",
              "      <th>6</th>\n",
              "      <td>2018-04-18</td>\n",
              "      <td>Central</td>\n",
              "      <td>Martha</td>\n",
              "      <td>Steven</td>\n",
              "      <td>Television</td>\n",
              "      <td>75.00</td>\n",
              "      <td>1198.000</td>\n",
              "      <td>89850.00</td>\n",
              "    </tr>\n",
              "    <tr>\n",
              "      <th>7</th>\n",
              "      <td>2018-05-05</td>\n",
              "      <td>Central</td>\n",
              "      <td>Hermann</td>\n",
              "      <td>Luis</td>\n",
              "      <td>Television</td>\n",
              "      <td>90.00</td>\n",
              "      <td>1198.000</td>\n",
              "      <td>107820.00</td>\n",
              "    </tr>\n",
              "    <tr>\n",
              "      <th>8</th>\n",
              "      <td>2018-05-22</td>\n",
              "      <td>West</td>\n",
              "      <td>Douglas</td>\n",
              "      <td>Michael</td>\n",
              "      <td>Television</td>\n",
              "      <td>32.00</td>\n",
              "      <td>1198.000</td>\n",
              "      <td>38336.00</td>\n",
              "    </tr>\n",
              "    <tr>\n",
              "      <th>9</th>\n",
              "      <td>2018-06-08</td>\n",
              "      <td>East</td>\n",
              "      <td>Martha</td>\n",
              "      <td>Alexander</td>\n",
              "      <td>Home Theater</td>\n",
              "      <td>60.00</td>\n",
              "      <td>500.000</td>\n",
              "      <td>30000.00</td>\n",
              "    </tr>\n",
              "    <tr>\n",
              "      <th>10</th>\n",
              "      <td>2018-06-25</td>\n",
              "      <td>Central</td>\n",
              "      <td>Hermann</td>\n",
              "      <td>Sigal</td>\n",
              "      <td>Television</td>\n",
              "      <td>90.00</td>\n",
              "      <td>1198.000</td>\n",
              "      <td>107820.00</td>\n",
              "    </tr>\n",
              "    <tr>\n",
              "      <th>11</th>\n",
              "      <td>2018-07-12</td>\n",
              "      <td>East</td>\n",
              "      <td>Martha</td>\n",
              "      <td>Diana</td>\n",
              "      <td>Home Theater</td>\n",
              "      <td>29.00</td>\n",
              "      <td>500.000</td>\n",
              "      <td>14500.00</td>\n",
              "    </tr>\n",
              "    <tr>\n",
              "      <th>12</th>\n",
              "      <td>2018-07-29</td>\n",
              "      <td>East</td>\n",
              "      <td>Douglas</td>\n",
              "      <td>Karen</td>\n",
              "      <td>Home Theater</td>\n",
              "      <td>81.00</td>\n",
              "      <td>500.000</td>\n",
              "      <td>40500.00</td>\n",
              "    </tr>\n",
              "    <tr>\n",
              "      <th>13</th>\n",
              "      <td>2018-08-15</td>\n",
              "      <td>East</td>\n",
              "      <td>Martha</td>\n",
              "      <td>Alexander</td>\n",
              "      <td>Television</td>\n",
              "      <td>35.00</td>\n",
              "      <td>1198.000</td>\n",
              "      <td>41930.00</td>\n",
              "    </tr>\n",
              "    <tr>\n",
              "      <th>14</th>\n",
              "      <td>2018-09-01</td>\n",
              "      <td>Central</td>\n",
              "      <td>Douglas</td>\n",
              "      <td>John</td>\n",
              "      <td>Desk</td>\n",
              "      <td>2.00</td>\n",
              "      <td>125.000</td>\n",
              "      <td>250.00</td>\n",
              "    </tr>\n",
              "    <tr>\n",
              "      <th>15</th>\n",
              "      <td>2018-09-18</td>\n",
              "      <td>East</td>\n",
              "      <td>Martha</td>\n",
              "      <td>Alexander</td>\n",
              "      <td>Video Games</td>\n",
              "      <td>16.00</td>\n",
              "      <td>58.500</td>\n",
              "      <td>936.00</td>\n",
              "    </tr>\n",
              "    <tr>\n",
              "      <th>16</th>\n",
              "      <td>2018-10-05</td>\n",
              "      <td>Central</td>\n",
              "      <td>Hermann</td>\n",
              "      <td>Sigal</td>\n",
              "      <td>Home Theater</td>\n",
              "      <td>28.00</td>\n",
              "      <td>500.000</td>\n",
              "      <td>14000.00</td>\n",
              "    </tr>\n",
              "    <tr>\n",
              "      <th>17</th>\n",
              "      <td>2018-10-22</td>\n",
              "      <td>East</td>\n",
              "      <td>Martha</td>\n",
              "      <td>Alexander</td>\n",
              "      <td>Cell Phone</td>\n",
              "      <td>64.00</td>\n",
              "      <td>225.000</td>\n",
              "      <td>14400.00</td>\n",
              "    </tr>\n",
              "    <tr>\n",
              "      <th>18</th>\n",
              "      <td>2018-11-08</td>\n",
              "      <td>East</td>\n",
              "      <td>Douglas</td>\n",
              "      <td>Karen</td>\n",
              "      <td>Cell Phone</td>\n",
              "      <td>15.00</td>\n",
              "      <td>225.000</td>\n",
              "      <td>3375.00</td>\n",
              "    </tr>\n",
              "    <tr>\n",
              "      <th>19</th>\n",
              "      <td>2018-11-25</td>\n",
              "      <td>Central</td>\n",
              "      <td>Hermann</td>\n",
              "      <td>Shelli</td>\n",
              "      <td>Video Games</td>\n",
              "      <td>96.00</td>\n",
              "      <td>58.500</td>\n",
              "      <td>5616.00</td>\n",
              "    </tr>\n",
              "    <tr>\n",
              "      <th>20</th>\n",
              "      <td>2018-12-12</td>\n",
              "      <td>Central</td>\n",
              "      <td>Douglas</td>\n",
              "      <td>John</td>\n",
              "      <td>Television</td>\n",
              "      <td>67.00</td>\n",
              "      <td>1198.000</td>\n",
              "      <td>80266.00</td>\n",
              "    </tr>\n",
              "    <tr>\n",
              "      <th>21</th>\n",
              "      <td>2018-12-29</td>\n",
              "      <td>East</td>\n",
              "      <td>Douglas</td>\n",
              "      <td>Karen</td>\n",
              "      <td>Video Games</td>\n",
              "      <td>74.00</td>\n",
              "      <td>58.500</td>\n",
              "      <td>4329.00</td>\n",
              "    </tr>\n",
              "    <tr>\n",
              "      <th>22</th>\n",
              "      <td>2019-01-15</td>\n",
              "      <td>Central</td>\n",
              "      <td>Timothy</td>\n",
              "      <td>David</td>\n",
              "      <td>Home Theater</td>\n",
              "      <td>46.00</td>\n",
              "      <td>500.000</td>\n",
              "      <td>23000.00</td>\n",
              "    </tr>\n",
              "    <tr>\n",
              "      <th>23</th>\n",
              "      <td>2019-02-01</td>\n",
              "      <td>Central</td>\n",
              "      <td>Douglas</td>\n",
              "      <td>John</td>\n",
              "      <td>Home Theater</td>\n",
              "      <td>87.00</td>\n",
              "      <td>500.000</td>\n",
              "      <td>43500.00</td>\n",
              "    </tr>\n",
              "    <tr>\n",
              "      <th>24</th>\n",
              "      <td>2019-02-18</td>\n",
              "      <td>East</td>\n",
              "      <td>Martha</td>\n",
              "      <td>Alexander</td>\n",
              "      <td>Home Theater</td>\n",
              "      <td>4.00</td>\n",
              "      <td>500.000</td>\n",
              "      <td>2000.00</td>\n",
              "    </tr>\n",
              "    <tr>\n",
              "      <th>25</th>\n",
              "      <td>2019-03-07</td>\n",
              "      <td>West</td>\n",
              "      <td>Timothy</td>\n",
              "      <td>Stephen</td>\n",
              "      <td>Home Theater</td>\n",
              "      <td>7.00</td>\n",
              "      <td>500.000</td>\n",
              "      <td>3500.00</td>\n",
              "    </tr>\n",
              "    <tr>\n",
              "      <th>26</th>\n",
              "      <td>2019-03-24</td>\n",
              "      <td>Central</td>\n",
              "      <td>Hermann</td>\n",
              "      <td>Luis</td>\n",
              "      <td>Video Games</td>\n",
              "      <td>50.00</td>\n",
              "      <td>58.500</td>\n",
              "      <td>2925.00</td>\n",
              "    </tr>\n",
              "    <tr>\n",
              "      <th>27</th>\n",
              "      <td>2019-04-10</td>\n",
              "      <td>Central</td>\n",
              "      <td>Martha</td>\n",
              "      <td>Steven</td>\n",
              "      <td>Television</td>\n",
              "      <td>66.00</td>\n",
              "      <td>1198.000</td>\n",
              "      <td>79068.00</td>\n",
              "    </tr>\n",
              "    <tr>\n",
              "      <th>28</th>\n",
              "      <td>2019-04-27</td>\n",
              "      <td>East</td>\n",
              "      <td>Martha</td>\n",
              "      <td>Diana</td>\n",
              "      <td>Cell Phone</td>\n",
              "      <td>96.00</td>\n",
              "      <td>225.000</td>\n",
              "      <td>21600.00</td>\n",
              "    </tr>\n",
              "    <tr>\n",
              "      <th>29</th>\n",
              "      <td>2019-05-14</td>\n",
              "      <td>Central</td>\n",
              "      <td>Timothy</td>\n",
              "      <td>David</td>\n",
              "      <td>Television</td>\n",
              "      <td>53.00</td>\n",
              "      <td>1198.000</td>\n",
              "      <td>63494.00</td>\n",
              "    </tr>\n",
              "    <tr>\n",
              "      <th>30</th>\n",
              "      <td>2019-05-31</td>\n",
              "      <td>Central</td>\n",
              "      <td>Timothy</td>\n",
              "      <td>David</td>\n",
              "      <td>Home Theater</td>\n",
              "      <td>80.00</td>\n",
              "      <td>500.000</td>\n",
              "      <td>40000.00</td>\n",
              "    </tr>\n",
              "    <tr>\n",
              "      <th>31</th>\n",
              "      <td>2019-06-17</td>\n",
              "      <td>Central</td>\n",
              "      <td>Hermann</td>\n",
              "      <td>Shelli</td>\n",
              "      <td>Desk</td>\n",
              "      <td>5.00</td>\n",
              "      <td>125.000</td>\n",
              "      <td>625.00</td>\n",
              "    </tr>\n",
              "    <tr>\n",
              "      <th>32</th>\n",
              "      <td>2019-07-04</td>\n",
              "      <td>East</td>\n",
              "      <td>Martha</td>\n",
              "      <td>Alexander</td>\n",
              "      <td>Video Games</td>\n",
              "      <td>62.00</td>\n",
              "      <td>58.500</td>\n",
              "      <td>3627.00</td>\n",
              "    </tr>\n",
              "    <tr>\n",
              "      <th>33</th>\n",
              "      <td>2019-07-21</td>\n",
              "      <td>Central</td>\n",
              "      <td>Hermann</td>\n",
              "      <td>Sigal</td>\n",
              "      <td>Video Games</td>\n",
              "      <td>55.00</td>\n",
              "      <td>58.500</td>\n",
              "      <td>3217.50</td>\n",
              "    </tr>\n",
              "    <tr>\n",
              "      <th>34</th>\n",
              "      <td>2019-08-07</td>\n",
              "      <td>Central</td>\n",
              "      <td>Hermann</td>\n",
              "      <td>Shelli</td>\n",
              "      <td>Video Games</td>\n",
              "      <td>42.00</td>\n",
              "      <td>58.500</td>\n",
              "      <td>2457.00</td>\n",
              "    </tr>\n",
              "    <tr>\n",
              "      <th>35</th>\n",
              "      <td>2019-08-24</td>\n",
              "      <td>West</td>\n",
              "      <td>Timothy</td>\n",
              "      <td>Stephen</td>\n",
              "      <td>Desk</td>\n",
              "      <td>3.00</td>\n",
              "      <td>125.000</td>\n",
              "      <td>375.00</td>\n",
              "    </tr>\n",
              "    <tr>\n",
              "      <th>36</th>\n",
              "      <td>2019-09-10</td>\n",
              "      <td>Central</td>\n",
              "      <td>Timothy</td>\n",
              "      <td>David</td>\n",
              "      <td>Television</td>\n",
              "      <td>7.00</td>\n",
              "      <td>1198.000</td>\n",
              "      <td>8386.00</td>\n",
              "    </tr>\n",
              "    <tr>\n",
              "      <th>37</th>\n",
              "      <td>2019-09-27</td>\n",
              "      <td>West</td>\n",
              "      <td>Timothy</td>\n",
              "      <td>Stephen</td>\n",
              "      <td>Cell Phone</td>\n",
              "      <td>76.00</td>\n",
              "      <td>225.000</td>\n",
              "      <td>17100.00</td>\n",
              "    </tr>\n",
              "    <tr>\n",
              "      <th>38</th>\n",
              "      <td>2019-10-14</td>\n",
              "      <td>West</td>\n",
              "      <td>Douglas</td>\n",
              "      <td>Michael</td>\n",
              "      <td>Home Theater</td>\n",
              "      <td>57.00</td>\n",
              "      <td>500.000</td>\n",
              "      <td>28500.00</td>\n",
              "    </tr>\n",
              "    <tr>\n",
              "      <th>39</th>\n",
              "      <td>2019-10-31</td>\n",
              "      <td>Central</td>\n",
              "      <td>Martha</td>\n",
              "      <td>Steven</td>\n",
              "      <td>Television</td>\n",
              "      <td>14.00</td>\n",
              "      <td>1198.000</td>\n",
              "      <td>16772.00</td>\n",
              "    </tr>\n",
              "    <tr>\n",
              "      <th>40</th>\n",
              "      <td>2019-11-17</td>\n",
              "      <td>Central</td>\n",
              "      <td>Hermann</td>\n",
              "      <td>Luis</td>\n",
              "      <td>Home Theater</td>\n",
              "      <td>11.00</td>\n",
              "      <td>500.000</td>\n",
              "      <td>5500.00</td>\n",
              "    </tr>\n",
              "    <tr>\n",
              "      <th>41</th>\n",
              "      <td>2019-12-04</td>\n",
              "      <td>Central</td>\n",
              "      <td>Hermann</td>\n",
              "      <td>Luis</td>\n",
              "      <td>Home Theater</td>\n",
              "      <td>94.00</td>\n",
              "      <td>500.000</td>\n",
              "      <td>47000.00</td>\n",
              "    </tr>\n",
              "    <tr>\n",
              "      <th>42</th>\n",
              "      <td>2019-12-21</td>\n",
              "      <td>Central</td>\n",
              "      <td>Martha</td>\n",
              "      <td>Steven</td>\n",
              "      <td>Home Theater</td>\n",
              "      <td>28.00</td>\n",
              "      <td>500.000</td>\n",
              "      <td>14000.00</td>\n",
              "    </tr>\n",
              "    <tr>\n",
              "      <th>43</th>\n",
              "      <td>NaT</td>\n",
              "      <td>NaN</td>\n",
              "      <td>NaN</td>\n",
              "      <td>NaN</td>\n",
              "      <td>NaN</td>\n",
              "      <td>278.00</td>\n",
              "      <td>1125.000</td>\n",
              "      <td>62550.00</td>\n",
              "    </tr>\n",
              "    <tr>\n",
              "      <th>44</th>\n",
              "      <td>NaT</td>\n",
              "      <td>NaN</td>\n",
              "      <td>NaN</td>\n",
              "      <td>NaN</td>\n",
              "      <td>NaN</td>\n",
              "      <td>34.75</td>\n",
              "      <td>140.625</td>\n",
              "      <td>7818.75</td>\n",
              "    </tr>\n",
              "  </tbody>\n",
              "</table>\n",
              "</div>\n",
              "      <button class=\"colab-df-convert\" onclick=\"convertToInteractive('df-a430482c-e80e-41e7-915e-7f22cacb700e')\"\n",
              "              title=\"Convert this dataframe to an interactive table.\"\n",
              "              style=\"display:none;\">\n",
              "        \n",
              "  <svg xmlns=\"http://www.w3.org/2000/svg\" height=\"24px\"viewBox=\"0 0 24 24\"\n",
              "       width=\"24px\">\n",
              "    <path d=\"M0 0h24v24H0V0z\" fill=\"none\"/>\n",
              "    <path d=\"M18.56 5.44l.94 2.06.94-2.06 2.06-.94-2.06-.94-.94-2.06-.94 2.06-2.06.94zm-11 1L8.5 8.5l.94-2.06 2.06-.94-2.06-.94L8.5 2.5l-.94 2.06-2.06.94zm10 10l.94 2.06.94-2.06 2.06-.94-2.06-.94-.94-2.06-.94 2.06-2.06.94z\"/><path d=\"M17.41 7.96l-1.37-1.37c-.4-.4-.92-.59-1.43-.59-.52 0-1.04.2-1.43.59L10.3 9.45l-7.72 7.72c-.78.78-.78 2.05 0 2.83L4 21.41c.39.39.9.59 1.41.59.51 0 1.02-.2 1.41-.59l7.78-7.78 2.81-2.81c.8-.78.8-2.07 0-2.86zM5.41 20L4 18.59l7.72-7.72 1.47 1.35L5.41 20z\"/>\n",
              "  </svg>\n",
              "      </button>\n",
              "      \n",
              "  <style>\n",
              "    .colab-df-container {\n",
              "      display:flex;\n",
              "      flex-wrap:wrap;\n",
              "      gap: 12px;\n",
              "    }\n",
              "\n",
              "    .colab-df-convert {\n",
              "      background-color: #E8F0FE;\n",
              "      border: none;\n",
              "      border-radius: 50%;\n",
              "      cursor: pointer;\n",
              "      display: none;\n",
              "      fill: #1967D2;\n",
              "      height: 32px;\n",
              "      padding: 0 0 0 0;\n",
              "      width: 32px;\n",
              "    }\n",
              "\n",
              "    .colab-df-convert:hover {\n",
              "      background-color: #E2EBFA;\n",
              "      box-shadow: 0px 1px 2px rgba(60, 64, 67, 0.3), 0px 1px 3px 1px rgba(60, 64, 67, 0.15);\n",
              "      fill: #174EA6;\n",
              "    }\n",
              "\n",
              "    [theme=dark] .colab-df-convert {\n",
              "      background-color: #3B4455;\n",
              "      fill: #D2E3FC;\n",
              "    }\n",
              "\n",
              "    [theme=dark] .colab-df-convert:hover {\n",
              "      background-color: #434B5C;\n",
              "      box-shadow: 0px 1px 3px 1px rgba(0, 0, 0, 0.15);\n",
              "      filter: drop-shadow(0px 1px 2px rgba(0, 0, 0, 0.3));\n",
              "      fill: #FFFFFF;\n",
              "    }\n",
              "  </style>\n",
              "\n",
              "      <script>\n",
              "        const buttonEl =\n",
              "          document.querySelector('#df-a430482c-e80e-41e7-915e-7f22cacb700e button.colab-df-convert');\n",
              "        buttonEl.style.display =\n",
              "          google.colab.kernel.accessAllowed ? 'block' : 'none';\n",
              "\n",
              "        async function convertToInteractive(key) {\n",
              "          const element = document.querySelector('#df-a430482c-e80e-41e7-915e-7f22cacb700e');\n",
              "          const dataTable =\n",
              "            await google.colab.kernel.invokeFunction('convertToInteractive',\n",
              "                                                     [key], {});\n",
              "          if (!dataTable) return;\n",
              "\n",
              "          const docLinkHtml = 'Like what you see? Visit the ' +\n",
              "            '<a target=\"_blank\" href=https://colab.research.google.com/notebooks/data_table.ipynb>data table notebook</a>'\n",
              "            + ' to learn more about interactive tables.';\n",
              "          element.innerHTML = '';\n",
              "          dataTable['output_type'] = 'display_data';\n",
              "          await google.colab.output.renderOutput(dataTable, element);\n",
              "          const docLink = document.createElement('div');\n",
              "          docLink.innerHTML = docLinkHtml;\n",
              "          element.appendChild(docLink);\n",
              "        }\n",
              "      </script>\n",
              "    </div>\n",
              "  </div>\n",
              "  "
            ]
          },
          "metadata": {},
          "execution_count": 142
        }
      ]
    },
    {
      "cell_type": "code",
      "source": [
        "df.describe()"
      ],
      "metadata": {
        "colab": {
          "base_uri": "https://localhost:8080/",
          "height": 300
        },
        "id": "0Ind78W_dz9G",
        "outputId": "f830744f-c5b4-4f4c-a277-08938fde565d"
      },
      "execution_count": null,
      "outputs": [
        {
          "output_type": "execute_result",
          "data": {
            "text/plain": [
              "            Units   Unit_price       Sale_amt\n",
              "count   45.000000    45.000000      45.000000\n",
              "mean    54.083333   583.313889   30578.761111\n",
              "std     45.096676   444.806622   32227.534943\n",
              "min      2.000000    58.500000     250.000000\n",
              "25%     28.000000   225.000000    4329.000000\n",
              "50%     53.000000   500.000000   17100.000000\n",
              "75%     75.000000  1198.000000   43128.000000\n",
              "max    278.000000  1198.000000  113810.000000"
            ],
            "text/html": [
              "\n",
              "  <div id=\"df-b6f3ade1-f32c-4490-9888-850302bb08f1\">\n",
              "    <div class=\"colab-df-container\">\n",
              "      <div>\n",
              "<style scoped>\n",
              "    .dataframe tbody tr th:only-of-type {\n",
              "        vertical-align: middle;\n",
              "    }\n",
              "\n",
              "    .dataframe tbody tr th {\n",
              "        vertical-align: top;\n",
              "    }\n",
              "\n",
              "    .dataframe thead th {\n",
              "        text-align: right;\n",
              "    }\n",
              "</style>\n",
              "<table border=\"1\" class=\"dataframe\">\n",
              "  <thead>\n",
              "    <tr style=\"text-align: right;\">\n",
              "      <th></th>\n",
              "      <th>Units</th>\n",
              "      <th>Unit_price</th>\n",
              "      <th>Sale_amt</th>\n",
              "    </tr>\n",
              "  </thead>\n",
              "  <tbody>\n",
              "    <tr>\n",
              "      <th>count</th>\n",
              "      <td>45.000000</td>\n",
              "      <td>45.000000</td>\n",
              "      <td>45.000000</td>\n",
              "    </tr>\n",
              "    <tr>\n",
              "      <th>mean</th>\n",
              "      <td>54.083333</td>\n",
              "      <td>583.313889</td>\n",
              "      <td>30578.761111</td>\n",
              "    </tr>\n",
              "    <tr>\n",
              "      <th>std</th>\n",
              "      <td>45.096676</td>\n",
              "      <td>444.806622</td>\n",
              "      <td>32227.534943</td>\n",
              "    </tr>\n",
              "    <tr>\n",
              "      <th>min</th>\n",
              "      <td>2.000000</td>\n",
              "      <td>58.500000</td>\n",
              "      <td>250.000000</td>\n",
              "    </tr>\n",
              "    <tr>\n",
              "      <th>25%</th>\n",
              "      <td>28.000000</td>\n",
              "      <td>225.000000</td>\n",
              "      <td>4329.000000</td>\n",
              "    </tr>\n",
              "    <tr>\n",
              "      <th>50%</th>\n",
              "      <td>53.000000</td>\n",
              "      <td>500.000000</td>\n",
              "      <td>17100.000000</td>\n",
              "    </tr>\n",
              "    <tr>\n",
              "      <th>75%</th>\n",
              "      <td>75.000000</td>\n",
              "      <td>1198.000000</td>\n",
              "      <td>43128.000000</td>\n",
              "    </tr>\n",
              "    <tr>\n",
              "      <th>max</th>\n",
              "      <td>278.000000</td>\n",
              "      <td>1198.000000</td>\n",
              "      <td>113810.000000</td>\n",
              "    </tr>\n",
              "  </tbody>\n",
              "</table>\n",
              "</div>\n",
              "      <button class=\"colab-df-convert\" onclick=\"convertToInteractive('df-b6f3ade1-f32c-4490-9888-850302bb08f1')\"\n",
              "              title=\"Convert this dataframe to an interactive table.\"\n",
              "              style=\"display:none;\">\n",
              "        \n",
              "  <svg xmlns=\"http://www.w3.org/2000/svg\" height=\"24px\"viewBox=\"0 0 24 24\"\n",
              "       width=\"24px\">\n",
              "    <path d=\"M0 0h24v24H0V0z\" fill=\"none\"/>\n",
              "    <path d=\"M18.56 5.44l.94 2.06.94-2.06 2.06-.94-2.06-.94-.94-2.06-.94 2.06-2.06.94zm-11 1L8.5 8.5l.94-2.06 2.06-.94-2.06-.94L8.5 2.5l-.94 2.06-2.06.94zm10 10l.94 2.06.94-2.06 2.06-.94-2.06-.94-.94-2.06-.94 2.06-2.06.94z\"/><path d=\"M17.41 7.96l-1.37-1.37c-.4-.4-.92-.59-1.43-.59-.52 0-1.04.2-1.43.59L10.3 9.45l-7.72 7.72c-.78.78-.78 2.05 0 2.83L4 21.41c.39.39.9.59 1.41.59.51 0 1.02-.2 1.41-.59l7.78-7.78 2.81-2.81c.8-.78.8-2.07 0-2.86zM5.41 20L4 18.59l7.72-7.72 1.47 1.35L5.41 20z\"/>\n",
              "  </svg>\n",
              "      </button>\n",
              "      \n",
              "  <style>\n",
              "    .colab-df-container {\n",
              "      display:flex;\n",
              "      flex-wrap:wrap;\n",
              "      gap: 12px;\n",
              "    }\n",
              "\n",
              "    .colab-df-convert {\n",
              "      background-color: #E8F0FE;\n",
              "      border: none;\n",
              "      border-radius: 50%;\n",
              "      cursor: pointer;\n",
              "      display: none;\n",
              "      fill: #1967D2;\n",
              "      height: 32px;\n",
              "      padding: 0 0 0 0;\n",
              "      width: 32px;\n",
              "    }\n",
              "\n",
              "    .colab-df-convert:hover {\n",
              "      background-color: #E2EBFA;\n",
              "      box-shadow: 0px 1px 2px rgba(60, 64, 67, 0.3), 0px 1px 3px 1px rgba(60, 64, 67, 0.15);\n",
              "      fill: #174EA6;\n",
              "    }\n",
              "\n",
              "    [theme=dark] .colab-df-convert {\n",
              "      background-color: #3B4455;\n",
              "      fill: #D2E3FC;\n",
              "    }\n",
              "\n",
              "    [theme=dark] .colab-df-convert:hover {\n",
              "      background-color: #434B5C;\n",
              "      box-shadow: 0px 1px 3px 1px rgba(0, 0, 0, 0.15);\n",
              "      filter: drop-shadow(0px 1px 2px rgba(0, 0, 0, 0.3));\n",
              "      fill: #FFFFFF;\n",
              "    }\n",
              "  </style>\n",
              "\n",
              "      <script>\n",
              "        const buttonEl =\n",
              "          document.querySelector('#df-b6f3ade1-f32c-4490-9888-850302bb08f1 button.colab-df-convert');\n",
              "        buttonEl.style.display =\n",
              "          google.colab.kernel.accessAllowed ? 'block' : 'none';\n",
              "\n",
              "        async function convertToInteractive(key) {\n",
              "          const element = document.querySelector('#df-b6f3ade1-f32c-4490-9888-850302bb08f1');\n",
              "          const dataTable =\n",
              "            await google.colab.kernel.invokeFunction('convertToInteractive',\n",
              "                                                     [key], {});\n",
              "          if (!dataTable) return;\n",
              "\n",
              "          const docLinkHtml = 'Like what you see? Visit the ' +\n",
              "            '<a target=\"_blank\" href=https://colab.research.google.com/notebooks/data_table.ipynb>data table notebook</a>'\n",
              "            + ' to learn more about interactive tables.';\n",
              "          element.innerHTML = '';\n",
              "          dataTable['output_type'] = 'display_data';\n",
              "          await google.colab.output.renderOutput(dataTable, element);\n",
              "          const docLink = document.createElement('div');\n",
              "          docLink.innerHTML = docLinkHtml;\n",
              "          element.appendChild(docLink);\n",
              "        }\n",
              "      </script>\n",
              "    </div>\n",
              "  </div>\n",
              "  "
            ]
          },
          "metadata": {},
          "execution_count": 131
        }
      ]
    },
    {
      "cell_type": "code",
      "source": [
        "# A. Find the total sale amount region wise, manager wise, sales man wise.\n",
        "print(pd.pivot_table(df,index=[\"Region\",\"Manager\",\"SalesMan\"], values=\"Sale_amt\", aggfunc=np.sum))"
      ],
      "metadata": {
        "colab": {
          "base_uri": "https://localhost:8080/"
        },
        "id": "3RoxQc2od22e",
        "outputId": "c989fe39-abc8-47a4-ac0b-be006c49ee72"
      },
      "execution_count": null,
      "outputs": [
        {
          "output_type": "stream",
          "name": "stdout",
          "text": [
            "                           Sale_amt\n",
            "Region  Manager SalesMan           \n",
            "Central Douglas John       124016.0\n",
            "        Hermann Luis       206373.0\n",
            "                Shelli      33698.0\n",
            "                Sigal      125037.5\n",
            "        Martha  Steven     199690.0\n",
            "        Timothy David      140955.0\n",
            "East    Douglas Karen       48204.0\n",
            "        Martha  Alexander  236703.0\n",
            "                Diana       36100.0\n",
            "West    Douglas Michael     66836.0\n",
            "        Timothy Stephen     88063.0\n"
          ]
        }
      ]
    },
    {
      "cell_type": "code",
      "source": [
        "# B. Find the item wise unit sold and the region wise total sale.\n",
        "print(pd.pivot_table(df,index=[\"Region\", \"Item\"], values=\"Units\", aggfunc=np.sum))"
      ],
      "metadata": {
        "colab": {
          "base_uri": "https://localhost:8080/"
        },
        "id": "9lyNCAKReAvc",
        "outputId": "7eb6a63c-8b84-469b-fbce-3dd79d0efadb"
      },
      "execution_count": null,
      "outputs": [
        {
          "output_type": "stream",
          "name": "stdout",
          "text": [
            "                      Units\n",
            "Region  Item               \n",
            "Central Cell Phone     27.0\n",
            "        Desk            7.0\n",
            "        Home Theater  424.0\n",
            "        Television    498.0\n",
            "        Video Games   243.0\n",
            "East    Cell Phone    175.0\n",
            "        Home Theater  234.0\n",
            "        Television    130.0\n",
            "        Video Games   152.0\n",
            "West    Cell Phone     76.0\n",
            "        Desk            3.0\n",
            "        Home Theater   64.0\n",
            "        Television     88.0\n"
          ]
        }
      ]
    },
    {
      "cell_type": "code",
      "source": [
        "# C. Count the manager wise sale and mean value of sale amount and also display the sum of all sale amount at the bottom\n",
        "\n",
        "table = pd.pivot_table(df,index=[\"Manager\",\"SalesMan\"],values=[\"Units\",\"Sale_amt\"],\n",
        "               aggfunc=[np.sum],fill_value=0,margins=True)\n",
        "print(table)"
      ],
      "metadata": {
        "colab": {
          "base_uri": "https://localhost:8080/"
        },
        "id": "1Z5nkqsLelM4",
        "outputId": "b5cb87b5-5e6d-4b64-cdc7-e124040468a5"
      },
      "execution_count": null,
      "outputs": [
        {
          "output_type": "stream",
          "name": "stdout",
          "text": [
            "                         sum      \n",
            "                    Sale_amt Units\n",
            "Manager SalesMan                  \n",
            "Douglas John        124016.0   156\n",
            "        Karen        48204.0   170\n",
            "        Michael      66836.0    89\n",
            "Hermann Luis        206373.0   281\n",
            "        Shelli       33698.0   193\n",
            "        Sigal       125037.5   173\n",
            "Martha  Alexander   236703.0   396\n",
            "        Diana        36100.0   125\n",
            "        Steven      199690.0   183\n",
            "Timothy David       140955.0   213\n",
            "        Stephen      88063.0   142\n",
            "All                1305675.5  2121\n"
          ]
        }
      ]
    },
    {
      "cell_type": "code",
      "source": [
        "# D. Find the total sale amount region wise, manager wise, sales man wise where Manager = \"Timothy\"\n",
        "table = pd.pivot_table(df,index=[\"Region\",\"Manager\",\"SalesMan\"], values=\"Sale_amt\")\n",
        "print(table.query('Manager == [\"Timothy\"]'))"
      ],
      "metadata": {
        "colab": {
          "base_uri": "https://localhost:8080/"
        },
        "id": "aJmV0yhAflXs",
        "outputId": "e283f52c-20f9-4f6e-d03c-8aa17d9ad7f4"
      },
      "execution_count": null,
      "outputs": [
        {
          "output_type": "stream",
          "name": "stdout",
          "text": [
            "                          Sale_amt\n",
            "Region  Manager SalesMan          \n",
            "Central Timothy David     28191.00\n",
            "West    Timothy Stephen   22015.75\n"
          ]
        }
      ]
    },
    {
      "cell_type": "markdown",
      "source": [
        "# Question 3\n",
        "- A)Write a Python code to create a pie chart with a title of the popularity of programming Languages. Make multiple wedges of the pie.\n",
        "\n",
        "    Sample data:\n",
        "    Programming languages: Java, Python, C++, PHP, JavaScript, C#, \n",
        "    Popularity: 17.6, 22.2, 7.7, 8.8, 8, 6.7\n"
      ],
      "metadata": {
        "id": "s3qL9s94UyGP"
      }
    },
    {
      "cell_type": "code",
      "source": [
        "\n",
        "Programming_languages= ['Java', 'Python', 'C++' ,'PHP', 'JavaScript', 'C#']\n",
        "Popularity = [17.6, 22.2, 7.7, 8.8, 8, 6.7]\n",
        "explode = (0.1, 0, 0, 0, 0, .1) \n",
        "plt.pie(Popularity, explode=explode, labels=Programming_languages)\n",
        "plt.title(\"Popularity of Programming Language\")\n",
        "plt.show()\n",
        "\n"
      ],
      "metadata": {
        "colab": {
          "base_uri": "https://localhost:8080/",
          "height": 264
        },
        "id": "DS5mYQMcU7va",
        "outputId": "6abfe09e-b8be-4739-b8a5-4e7b51bdf1c6"
      },
      "execution_count": null,
      "outputs": [
        {
          "output_type": "display_data",
          "data": {
            "text/plain": [
              "<Figure size 432x288 with 1 Axes>"
            ],
            "image/png": "[encoded data removed]"
          },
          "metadata": {}
        }
      ]
    },
    {
      "cell_type": "markdown",
      "source": [
        "- B)Consider Company Sales Data\n",
        "  month_number=[1,2,3,4,5,6,7,8,9,10,11,12]\n",
        "\n",
        "  facecream = [2500,2630,2140,3400,3600,2760,2980,3700,3540,1990,2340,2900]\n",
        "  \n",
        "  facewash = [1500,1200,1340,1130,1740,1555,1120,1400,1780,1890,2100,1760]\n",
        "\n",
        "  toothpaste=[5200,5100,4550,5870,4560,4890,4780,5860,6100,8300,7300,7400]\n",
        "\n",
        "  bathingshop=[9200,6100,9550,8870,7760,7490,8980,9960,8100,10300,13300,14400]\n",
        "\n",
        "  shampoo=[1200,2100,3550,1870,1560,1890,1780,2860,2100,2300,2400,1800]\n",
        "\n",
        "  moisturizer=[1500,1200,1340,1130,1740,1555,1120,1400,1780,1890,2100,1760]\n",
        "\n",
        "  total_units=[21100,18330,22470,22270,20960,20140,29550,36140,23400,26670,41280,30020]\n",
        "\n",
        "  total_profit=[211000,183300,224700,222700,209600,201400,295500,361400,234000,266700,412800,300200]\n",
        "\n",
        "\n",
        "  - a)\tPlot total profit of all months using line plot with the following Style properties:  \n",
        "        1) Line Style dotted and Line-color should be red \n",
        "        2) Show legend at the lower right location. \n",
        "        3) X label name = Month Number \n",
        "        4) Y label name = Sold units number \n",
        "        5) Add a circle marker. \n",
        "        6) Line marker color as red \n",
        "        7) Line width should be 3\n",
        "   - b)\tPlot face cream and facewash product sales data using the bar chart. The bar chart should display the number of units sold per month for each product. Add a separate bar for each product in the same chart\n",
        "  - c)\tPlot the total profit of each month using the histogram to see the most common profit range\n"
      ],
      "metadata": {
        "id": "XEmC-O8uYpwN"
      }
    },
    {
      "cell_type": "code",
      "source": [
        "dataframe = pd.DataFrame({\n",
        "\"month_number\":[1,2,3,4,5,6,7,8,9,10,11,12],\n",
        "\"facecream\":[2500,2630,2140,3400,3600,2760,2980,3700,3540,1990,2340,2900],\n",
        "\"facewash\" : [1500,1200,1340,1130,1740,1555,1120,1400,1780,1890,2100,1760],\n",
        "\"toothpaste\":[5200,5100,4550,5870,4560,4890,4780,5860,6100,8300,7300,7400],\n",
        "\"bathingshop\":[9200,6100,9550,8870,7760,7490,8980,9960,8100,10300,13300,14400],\n",
        "\"shampoo\":[1200,2100,3550,1870,1560,1890,1780,2860,2100,2300,2400,1800],\n",
        "\"moisturizer\":[1500,1200,1340,1130,1740,1555,1120,1400,1780,1890,2100,1760],\n",
        "\"total_units\":[21100,18330,22470,22270,20960,20140,29550,36140,23400,26670,41280,30020],\n",
        "\"total_profit\":[211000,183300,224700,222700,209600,201400,295500,361400,234000,266700,412800,300200]})\n"
      ],
      "metadata": {
        "id": "rnuFi6MhZGh4"
      },
      "execution_count": null,
      "outputs": []
    },
    {
      "cell_type": "code",
      "source": [
        "dataframe"
      ],
      "metadata": {
        "colab": {
          "base_uri": "https://localhost:8080/",
          "height": 426
        },
        "id": "qxkt2YfvbmAs",
        "outputId": "9a6fdd83-dee9-4a41-f85f-517954d6dbdd"
      },
      "execution_count": null,
      "outputs": [
        {
          "output_type": "execute_result",
          "data": {
            "text/plain": [
              "    month_number  facecream   facewash  toothpaste  bathingshop  shampoo  \\\n",
              "0              1        2500      1500        5200         9200     1200   \n",
              "1              2        2630      1200        5100         6100     2100   \n",
              "2              3        2140      1340        4550         9550     3550   \n",
              "3              4        3400      1130        5870         8870     1870   \n",
              "4              5        3600      1740        4560         7760     1560   \n",
              "5              6        2760      1555        4890         7490     1890   \n",
              "6              7        2980      1120        4780         8980     1780   \n",
              "7              8        3700      1400        5860         9960     2860   \n",
              "8              9        3540      1780        6100         8100     2100   \n",
              "9             10        1990      1890        8300        10300     2300   \n",
              "10            11        2340      2100        7300        13300     2400   \n",
              "11            12        2900      1760        7400        14400     1800   \n",
              "\n",
              "    moisturizer  total_units  total_profit  \n",
              "0          1500        21100        211000  \n",
              "1          1200        18330        183300  \n",
              "2          1340        22470        224700  \n",
              "3          1130        22270        222700  \n",
              "4          1740        20960        209600  \n",
              "5          1555        20140        201400  \n",
              "6          1120        29550        295500  \n",
              "7          1400        36140        361400  \n",
              "8          1780        23400        234000  \n",
              "9          1890        26670        266700  \n",
              "10         2100        41280        412800  \n",
              "11         1760        30020        300200  "
            ],
            "text/html": [
              "\n",
              "  <div id=\"df-220ad654-2bbb-4c63-8cb8-795f84c59089\">\n",
              "    <div class=\"colab-df-container\">\n",
              "      <div>\n",
              "<style scoped>\n",
              "    .dataframe tbody tr th:only-of-type {\n",
              "        vertical-align: middle;\n",
              "    }\n",
              "\n",
              "    .dataframe tbody tr th {\n",
              "        vertical-align: top;\n",
              "    }\n",
              "\n",
              "    .dataframe thead th {\n",
              "        text-align: right;\n",
              "    }\n",
              "</style>\n",
              "<table border=\"1\" class=\"dataframe\">\n",
              "  <thead>\n",
              "    <tr style=\"text-align: right;\">\n",
              "      <th></th>\n",
              "      <th>month_number</th>\n",
              "      <th>facecream</th>\n",
              "      <th>facewash</th>\n",
              "      <th>toothpaste</th>\n",
              "      <th>bathingshop</th>\n",
              "      <th>shampoo</th>\n",
              "      <th>moisturizer</th>\n",
              "      <th>total_units</th>\n",
              "      <th>total_profit</th>\n",
              "    </tr>\n",
              "  </thead>\n",
              "  <tbody>\n",
              "    <tr>\n",
              "      <th>0</th>\n",
              "      <td>1</td>\n",
              "      <td>2500</td>\n",
              "      <td>1500</td>\n",
              "      <td>5200</td>\n",
              "      <td>9200</td>\n",
              "      <td>1200</td>\n",
              "      <td>1500</td>\n",
              "      <td>21100</td>\n",
              "      <td>211000</td>\n",
              "    </tr>\n",
              "    <tr>\n",
              "      <th>1</th>\n",
              "      <td>2</td>\n",
              "      <td>2630</td>\n",
              "      <td>1200</td>\n",
              "      <td>5100</td>\n",
              "      <td>6100</td>\n",
              "      <td>2100</td>\n",
              "      <td>1200</td>\n",
              "      <td>18330</td>\n",
              "      <td>183300</td>\n",
              "    </tr>\n",
              "    <tr>\n",
              "      <th>2</th>\n",
              "      <td>3</td>\n",
              "      <td>2140</td>\n",
              "      <td>1340</td>\n",
              "      <td>4550</td>\n",
              "      <td>9550</td>\n",
              "      <td>3550</td>\n",
              "      <td>1340</td>\n",
              "      <td>22470</td>\n",
              "      <td>224700</td>\n",
              "    </tr>\n",
              "    <tr>\n",
              "      <th>3</th>\n",
              "      <td>4</td>\n",
              "      <td>3400</td>\n",
              "      <td>1130</td>\n",
              "      <td>5870</td>\n",
              "      <td>8870</td>\n",
              "      <td>1870</td>\n",
              "      <td>1130</td>\n",
              "      <td>22270</td>\n",
              "      <td>222700</td>\n",
              "    </tr>\n",
              "    <tr>\n",
              "      <th>4</th>\n",
              "      <td>5</td>\n",
              "      <td>3600</td>\n",
              "      <td>1740</td>\n",
              "      <td>4560</td>\n",
              "      <td>7760</td>\n",
              "      <td>1560</td>\n",
              "      <td>1740</td>\n",
              "      <td>20960</td>\n",
              "      <td>209600</td>\n",
              "    </tr>\n",
              "    <tr>\n",
              "      <th>5</th>\n",
              "      <td>6</td>\n",
              "      <td>2760</td>\n",
              "      <td>1555</td>\n",
              "      <td>4890</td>\n",
              "      <td>7490</td>\n",
              "      <td>1890</td>\n",
              "      <td>1555</td>\n",
              "      <td>20140</td>\n",
              "      <td>201400</td>\n",
              "    </tr>\n",
              "    <tr>\n",
              "      <th>6</th>\n",
              "      <td>7</td>\n",
              "      <td>2980</td>\n",
              "      <td>1120</td>\n",
              "      <td>4780</td>\n",
              "      <td>8980</td>\n",
              "      <td>1780</td>\n",
              "      <td>1120</td>\n",
              "      <td>29550</td>\n",
              "      <td>295500</td>\n",
              "    </tr>\n",
              "    <tr>\n",
              "      <th>7</th>\n",
              "      <td>8</td>\n",
              "      <td>3700</td>\n",
              "      <td>1400</td>\n",
              "      <td>5860</td>\n",
              "      <td>9960</td>\n",
              "      <td>2860</td>\n",
              "      <td>1400</td>\n",
              "      <td>36140</td>\n",
              "      <td>361400</td>\n",
              "    </tr>\n",
              "    <tr>\n",
              "      <th>8</th>\n",
              "      <td>9</td>\n",
              "      <td>3540</td>\n",
              "      <td>1780</td>\n",
              "      <td>6100</td>\n",
              "      <td>8100</td>\n",
              "      <td>2100</td>\n",
              "      <td>1780</td>\n",
              "      <td>23400</td>\n",
              "      <td>234000</td>\n",
              "    </tr>\n",
              "    <tr>\n",
              "      <th>9</th>\n",
              "      <td>10</td>\n",
              "      <td>1990</td>\n",
              "      <td>1890</td>\n",
              "      <td>8300</td>\n",
              "      <td>10300</td>\n",
              "      <td>2300</td>\n",
              "      <td>1890</td>\n",
              "      <td>26670</td>\n",
              "      <td>266700</td>\n",
              "    </tr>\n",
              "    <tr>\n",
              "      <th>10</th>\n",
              "      <td>11</td>\n",
              "      <td>2340</td>\n",
              "      <td>2100</td>\n",
              "      <td>7300</td>\n",
              "      <td>13300</td>\n",
              "      <td>2400</td>\n",
              "      <td>2100</td>\n",
              "      <td>41280</td>\n",
              "      <td>412800</td>\n",
              "    </tr>\n",
              "    <tr>\n",
              "      <th>11</th>\n",
              "      <td>12</td>\n",
              "      <td>2900</td>\n",
              "      <td>1760</td>\n",
              "      <td>7400</td>\n",
              "      <td>14400</td>\n",
              "      <td>1800</td>\n",
              "      <td>1760</td>\n",
              "      <td>30020</td>\n",
              "      <td>300200</td>\n",
              "    </tr>\n",
              "  </tbody>\n",
              "</table>\n",
              "</div>\n",
              "      <button class=\"colab-df-convert\" onclick=\"convertToInteractive('df-220ad654-2bbb-4c63-8cb8-795f84c59089')\"\n",
              "              title=\"Convert this dataframe to an interactive table.\"\n",
              "              style=\"display:none;\">\n",
              "        \n",
              "  <svg xmlns=\"http://www.w3.org/2000/svg\" height=\"24px\"viewBox=\"0 0 24 24\"\n",
              "       width=\"24px\">\n",
              "    <path d=\"M0 0h24v24H0V0z\" fill=\"none\"/>\n",
              "    <path d=\"M18.56 5.44l.94 2.06.94-2.06 2.06-.94-2.06-.94-.94-2.06-.94 2.06-2.06.94zm-11 1L8.5 8.5l.94-2.06 2.06-.94-2.06-.94L8.5 2.5l-.94 2.06-2.06.94zm10 10l.94 2.06.94-2.06 2.06-.94-2.06-.94-.94-2.06-.94 2.06-2.06.94z\"/><path d=\"M17.41 7.96l-1.37-1.37c-.4-.4-.92-.59-1.43-.59-.52 0-1.04.2-1.43.59L10.3 9.45l-7.72 7.72c-.78.78-.78 2.05 0 2.83L4 21.41c.39.39.9.59 1.41.59.51 0 1.02-.2 1.41-.59l7.78-7.78 2.81-2.81c.8-.78.8-2.07 0-2.86zM5.41 20L4 18.59l7.72-7.72 1.47 1.35L5.41 20z\"/>\n",
              "  </svg>\n",
              "      </button>\n",
              "      \n",
              "  <style>\n",
              "    .colab-df-container {\n",
              "      display:flex;\n",
              "      flex-wrap:wrap;\n",
              "      gap: 12px;\n",
              "    }\n",
              "\n",
              "    .colab-df-convert {\n",
              "      background-color: #E8F0FE;\n",
              "      border: none;\n",
              "      border-radius: 50%;\n",
              "      cursor: pointer;\n",
              "      display: none;\n",
              "      fill: #1967D2;\n",
              "      height: 32px;\n",
              "      padding: 0 0 0 0;\n",
              "      width: 32px;\n",
              "    }\n",
              "\n",
              "    .colab-df-convert:hover {\n",
              "      background-color: #E2EBFA;\n",
              "      box-shadow: 0px 1px 2px rgba(60, 64, 67, 0.3), 0px 1px 3px 1px rgba(60, 64, 67, 0.15);\n",
              "      fill: #174EA6;\n",
              "    }\n",
              "\n",
              "    [theme=dark] .colab-df-convert {\n",
              "      background-color: #3B4455;\n",
              "      fill: #D2E3FC;\n",
              "    }\n",
              "\n",
              "    [theme=dark] .colab-df-convert:hover {\n",
              "      background-color: #434B5C;\n",
              "      box-shadow: 0px 1px 3px 1px rgba(0, 0, 0, 0.15);\n",
              "      filter: drop-shadow(0px 1px 2px rgba(0, 0, 0, 0.3));\n",
              "      fill: #FFFFFF;\n",
              "    }\n",
              "  </style>\n",
              "\n",
              "      <script>\n",
              "        const buttonEl =\n",
              "          document.querySelector('#df-220ad654-2bbb-4c63-8cb8-795f84c59089 button.colab-df-convert');\n",
              "        buttonEl.style.display =\n",
              "          google.colab.kernel.accessAllowed ? 'block' : 'none';\n",
              "\n",
              "        async function convertToInteractive(key) {\n",
              "          const element = document.querySelector('#df-220ad654-2bbb-4c63-8cb8-795f84c59089');\n",
              "          const dataTable =\n",
              "            await google.colab.kernel.invokeFunction('convertToInteractive',\n",
              "                                                     [key], {});\n",
              "          if (!dataTable) return;\n",
              "\n",
              "          const docLinkHtml = 'Like what you see? Visit the ' +\n",
              "            '<a target=\"_blank\" href=https://colab.research.google.com/notebooks/data_table.ipynb>data table notebook</a>'\n",
              "            + ' to learn more about interactive tables.';\n",
              "          element.innerHTML = '';\n",
              "          dataTable['output_type'] = 'display_data';\n",
              "          await google.colab.output.renderOutput(dataTable, element);\n",
              "          const docLink = document.createElement('div');\n",
              "          docLink.innerHTML = docLinkHtml;\n",
              "          element.appendChild(docLink);\n",
              "        }\n",
              "      </script>\n",
              "    </div>\n",
              "  </div>\n",
              "  "
            ]
          },
          "metadata": {},
          "execution_count": 84
        }
      ]
    },
    {
      "cell_type": "code",
      "source": [
        "plt.plot('month_number','total_profit', data=dataframe)"
      ],
      "metadata": {
        "colab": {
          "base_uri": "https://localhost:8080/",
          "height": 282
        },
        "id": "Hye7N8d0bVwL",
        "outputId": "b3e61782-5c2f-4c62-b495-a74c16427a2b"
      },
      "execution_count": null,
      "outputs": [
        {
          "output_type": "execute_result",
          "data": {
            "text/plain": [
              "[<matplotlib.lines.Line2D at 0x7f61925bbb90>]"
            ]
          },
          "metadata": {},
          "execution_count": 18
        },
        {
          "output_type": "display_data",
          "data": {
            "text/plain": [
              "<Figure size 432x288 with 1 Axes>"
            ],
            "image/png": "[encoded data removed]"
          },
          "metadata": {
            "needs_background": "light"
          }
        }
      ]
    },
    {
      "cell_type": "code",
      "source": [
        "profitList = dataframe['total_profit'].tolist()\n",
        "monthList  = dataframe['month_number'].tolist()\n",
        "\n",
        "plt.plot(monthList, profitList, label = 'Profit data of last year', \n",
        "      color='r', marker='o', markerfacecolor='k', \n",
        "      linestyle='--', linewidth=3)\n",
        "      \n",
        "plt.xlabel('Month Number')\n",
        "plt.ylabel('Sold unit number')\n",
        "plt.legend(loc='lower right')\n",
        "plt.title('Company Sales data of last year')\n",
        "plt.xticks(monthList)\n",
        "plt.yticks([100000, 200000, 300000, 400000, 500000])\n",
        "plt.show()"
      ],
      "metadata": {
        "colab": {
          "base_uri": "https://localhost:8080/",
          "height": 295
        },
        "id": "Li-ZGjybdp0P",
        "outputId": "ce2f0580-948b-4046-aede-ea6dcf4ce3e2"
      },
      "execution_count": null,
      "outputs": [
        {
          "output_type": "display_data",
          "data": {
            "text/plain": [
              "<Figure size 432x288 with 1 Axes>"
            ],
            "image/png": "[encoded data removed]"
          },
          "metadata": {
            "needs_background": "light"
          }
        }
      ]
    },
    {
      "cell_type": "code",
      "source": [
        "print(dataframe.columns.tolist())"
      ],
      "metadata": {
        "colab": {
          "base_uri": "https://localhost:8080/"
        },
        "id": "MWOVvX6K7ybZ",
        "outputId": "576e49e1-c850-4ac5-c529-16f7127e4373"
      },
      "execution_count": null,
      "outputs": [
        {
          "output_type": "stream",
          "name": "stdout",
          "text": [
            "['month_number', 'facecream', 'facewash', 'toothpaste', 'bathingshop', 'shampoo', 'moisturizer', 'total_units', 'total_profit']\n"
          ]
        }
      ]
    },
    {
      "cell_type": "code",
      "source": [
        "monthList  = dataframe['month_number'].tolist()\n",
        "faceWashSalesData   = dataframe['facewash'].tolist()\n",
        "faceCremSalesData   = dataframe['facecream'].tolist()\n",
        "\n",
        "\n",
        "plt.bar([a-0.25 for a in monthList], faceCremSalesData, width= 0.25, label = 'Face Cream sales data', align='edge')\n",
        "plt.bar([a+0.25 for a in monthList], faceWashSalesData, width= -0.25, label = 'Face Wash sales data', align='edge')\n",
        "plt.xlabel('Month Number')\n",
        "plt.ylabel('Sales units in number')\n",
        "plt.legend(loc='upper left')\n",
        "plt.title(' Sales data')\n",
        "\n",
        "plt.xticks(monthList)\n",
        "plt.grid(True, linewidth= 1, linestyle=\"--\")\n",
        "plt.title('Facewash and facecream sales data')\n",
        "plt.show()"
      ],
      "metadata": {
        "colab": {
          "base_uri": "https://localhost:8080/",
          "height": 295
        },
        "id": "dvHLbp3Zensq",
        "outputId": "46dcf58b-e754-484f-81c3-4deb2af66eb5"
      },
      "execution_count": null,
      "outputs": [
        {
          "output_type": "display_data",
          "data": {
            "text/plain": [
              "<Figure size 432x288 with 1 Axes>"
            ],
            "image/png": "[encoded data removed]"
          },
          "metadata": {
            "needs_background": "light"
          }
        }
      ]
    },
    {
      "cell_type": "code",
      "source": [
        "profitList = dataframe['total_profit'].tolist()\n",
        "labels = ['low', 'average', 'Good', 'Best']\n",
        "profit_range = [150000, 175000, 200000, 225000, 250000, 300000, 350000]\n",
        "plt.hist(profitList, profit_range, label = 'Profit data')\n",
        "plt.xlabel('profit range in dollar')\n",
        "plt.ylabel('Actual Profit in dollar')\n",
        "plt.legend(loc='upper left')\n",
        "plt.xticks(profit_range)\n",
        "plt.title('Profit data')\n",
        "plt.show()"
      ],
      "metadata": {
        "colab": {
          "base_uri": "https://localhost:8080/",
          "height": 295
        },
        "id": "jfbXA3BkgcuL",
        "outputId": "ddf679fc-d3ec-45fc-9e59-ffae7438d0cd"
      },
      "execution_count": null,
      "outputs": [
        {
          "output_type": "display_data",
          "data": {
            "text/plain": [
              "<Figure size 432x288 with 1 Axes>"
            ],
            "image/png": "[encoded data removed]"
          },
          "metadata": {
            "needs_background": "light"
          }
        }
      ]
    },
    {
      "cell_type": "markdown",
      "source": [
        "# Question 6\n",
        " Write a Pandas program \n",
        "- a) to identify the column(s) of a given DataFrame which have at least one missing value. \n",
        "- b) count the number of missing values in each column of a given DataFrame\n",
        "- c) drop the rows where at least one element is missing in a given DataFrame\n",
        "Test Data:\n",
        "\n",
        "    ord_no  purch_amt    ord_date  customer_id  salesman_id\n",
        "0   80001.0     250.50     2017-10-05         2002       5002.0\n",
        "1       NaN       170.65      2017-09-10        2001       5003.0\n",
        "2   80002.0      55.26         NaN                 2001       5001.0\n",
        "3   80004.0     160.50     2017-08-17         2003          NaN\n",
        "4       NaN     978.50       2017-09-10         2002       5002.0\n",
        "5   80005.0    2800.60    2017-07-27         2001       5001.0\n",
        "6       NaN    5860.00      2017-09-10         2001       5001.0\n",
        "7   80010.0    1883.43    2017-10-10         2004          NaN\n",
        "8   80003.0    2580.40    2017-10-10         2003       5003.0\n",
        "9   80012.0     150.45     2017-06-27         2002       5002.0\n",
        "10      NaN      65.29       2017-08-17         2001       5003.0\n",
        "11  80013.0    3145.60    2017-04-25        2001          NaN\n"
      ],
      "metadata": {
        "id": "Z4NHtdzYinSO"
      }
    },
    {
      "cell_type": "code",
      "source": [
        "# a-part\n",
        "# import pandas as pd\n",
        "# import numpy as np\n",
        "pd.set_option('display.max_rows', None)\n",
        "\n",
        "df = pd.DataFrame({\n",
        "'ord_no':[80001,np.nan,80002,80004,np.nan,80005,np.nan,80010,80003,80012,np.nan,80013],\n",
        "'purch_amt':[250.5,170.65,55.26,160.5,978.5,2800.6,5860,1883.43,2580.4,150.45, 65.29,3145.6],\n",
        "'ord_date': ['2017-10-05','2017-09-10',np.nan,'2017-08-17','2017-09-10','2017-07-27','2017-09-10','2017-10-10','2017-10-10','2017-06-27','2017-08-17','2017-04-25'],\n",
        "'customer_id':[2002,2001,2001,2003,2002,2001,2001,2004,2003,2002,2001,2001],\n",
        "'salesman_id':[5002,5003,5001,np.nan,5002,5001,5001,np.nan,5003,5002,5003,np.nan]})\n",
        "print(\"Original Orders DataFrame:\")\n",
        "print(df)\n",
        "print(\"\\nIdentify the columns which have at least one missing value:\")\n",
        "print(df.isna().any())"
      ],
      "metadata": {
        "colab": {
          "base_uri": "https://localhost:8080/"
        },
        "id": "Kyic2enQjKOY",
        "outputId": "2b4e262e-f6be-497c-c400-05371ee6921f"
      },
      "execution_count": null,
      "outputs": [
        {
          "output_type": "stream",
          "name": "stdout",
          "text": [
            "Original Orders DataFrame:\n",
            "     ord_no  purch_amt    ord_date  customer_id  salesman_id\n",
            "0   80001.0     250.50  2017-10-05         2002       5002.0\n",
            "1       NaN     170.65  2017-09-10         2001       5003.0\n",
            "2   80002.0      55.26         NaN         2001       5001.0\n",
            "3   80004.0     160.50  2017-08-17         2003          NaN\n",
            "4       NaN     978.50  2017-09-10         2002       5002.0\n",
            "5   80005.0    2800.60  2017-07-27         2001       5001.0\n",
            "6       NaN    5860.00  2017-09-10         2001       5001.0\n",
            "7   80010.0    1883.43  2017-10-10         2004          NaN\n",
            "8   80003.0    2580.40  2017-10-10         2003       5003.0\n",
            "9   80012.0     150.45  2017-06-27         2002       5002.0\n",
            "10      NaN      65.29  2017-08-17         2001       5003.0\n",
            "11  80013.0    3145.60  2017-04-25         2001          NaN\n",
            "\n",
            "Identify the columns which have at least one missing value:\n",
            "ord_no          True\n",
            "purch_amt      False\n",
            "ord_date        True\n",
            "customer_id    False\n",
            "salesman_id     True\n",
            "dtype: bool\n"
          ]
        }
      ]
    },
    {
      "cell_type": "code",
      "source": [
        "# count the number of missing values in each column \n",
        "print(df.isna().sum())"
      ],
      "metadata": {
        "colab": {
          "base_uri": "https://localhost:8080/"
        },
        "id": "JyehI6WFjebH",
        "outputId": "f8b1a569-45d1-4c20-e22c-8f6de2441b6e"
      },
      "execution_count": null,
      "outputs": [
        {
          "output_type": "stream",
          "name": "stdout",
          "text": [
            "ord_no         4\n",
            "purch_amt      0\n",
            "ord_date       1\n",
            "customer_id    0\n",
            "salesman_id    3\n",
            "dtype: int64\n"
          ]
        }
      ]
    },
    {
      "cell_type": "code",
      "source": [
        "# drop the rows where at least one element is missing\n",
        "df.dropna()  \n"
      ],
      "metadata": {
        "colab": {
          "base_uri": "https://localhost:8080/",
          "height": 175
        },
        "id": "9z1hSedrjqoD",
        "outputId": "14b8b9d8-b004-4d33-e724-add30a9e3b63"
      },
      "execution_count": null,
      "outputs": [
        {
          "output_type": "execute_result",
          "data": {
            "text/plain": [
              "    ord_no  purch_amt    ord_date  customer_id  salesman_id\n",
              "0  80001.0     250.50  2017-10-05         2002       5002.0\n",
              "5  80005.0    2800.60  2017-07-27         2001       5001.0\n",
              "8  80003.0    2580.40  2017-10-10         2003       5003.0\n",
              "9  80012.0     150.45  2017-06-27         2002       5002.0"
            ],
            "text/html": [
              "\n",
              "  <div id=\"df-37f261e9-e169-4a4c-91ae-75fa6f31d3e1\">\n",
              "    <div class=\"colab-df-container\">\n",
              "      <div>\n",
              "<style scoped>\n",
              "    .dataframe tbody tr th:only-of-type {\n",
              "        vertical-align: middle;\n",
              "    }\n",
              "\n",
              "    .dataframe tbody tr th {\n",
              "        vertical-align: top;\n",
              "    }\n",
              "\n",
              "    .dataframe thead th {\n",
              "        text-align: right;\n",
              "    }\n",
              "</style>\n",
              "<table border=\"1\" class=\"dataframe\">\n",
              "  <thead>\n",
              "    <tr style=\"text-align: right;\">\n",
              "      <th></th>\n",
              "      <th>ord_no</th>\n",
              "      <th>purch_amt</th>\n",
              "      <th>ord_date</th>\n",
              "      <th>customer_id</th>\n",
              "      <th>salesman_id</th>\n",
              "    </tr>\n",
              "  </thead>\n",
              "  <tbody>\n",
              "    <tr>\n",
              "      <th>0</th>\n",
              "      <td>80001.0</td>\n",
              "      <td>250.50</td>\n",
              "      <td>2017-10-05</td>\n",
              "      <td>2002</td>\n",
              "      <td>5002.0</td>\n",
              "    </tr>\n",
              "    <tr>\n",
              "      <th>5</th>\n",
              "      <td>80005.0</td>\n",
              "      <td>2800.60</td>\n",
              "      <td>2017-07-27</td>\n",
              "      <td>2001</td>\n",
              "      <td>5001.0</td>\n",
              "    </tr>\n",
              "    <tr>\n",
              "      <th>8</th>\n",
              "      <td>80003.0</td>\n",
              "      <td>2580.40</td>\n",
              "      <td>2017-10-10</td>\n",
              "      <td>2003</td>\n",
              "      <td>5003.0</td>\n",
              "    </tr>\n",
              "    <tr>\n",
              "      <th>9</th>\n",
              "      <td>80012.0</td>\n",
              "      <td>150.45</td>\n",
              "      <td>2017-06-27</td>\n",
              "      <td>2002</td>\n",
              "      <td>5002.0</td>\n",
              "    </tr>\n",
              "  </tbody>\n",
              "</table>\n",
              "</div>\n",
              "      <button class=\"colab-df-convert\" onclick=\"convertToInteractive('df-37f261e9-e169-4a4c-91ae-75fa6f31d3e1')\"\n",
              "              title=\"Convert this dataframe to an interactive table.\"\n",
              "              style=\"display:none;\">\n",
              "        \n",
              "  <svg xmlns=\"http://www.w3.org/2000/svg\" height=\"24px\"viewBox=\"0 0 24 24\"\n",
              "       width=\"24px\">\n",
              "    <path d=\"M0 0h24v24H0V0z\" fill=\"none\"/>\n",
              "    <path d=\"M18.56 5.44l.94 2.06.94-2.06 2.06-.94-2.06-.94-.94-2.06-.94 2.06-2.06.94zm-11 1L8.5 8.5l.94-2.06 2.06-.94-2.06-.94L8.5 2.5l-.94 2.06-2.06.94zm10 10l.94 2.06.94-2.06 2.06-.94-2.06-.94-.94-2.06-.94 2.06-2.06.94z\"/><path d=\"M17.41 7.96l-1.37-1.37c-.4-.4-.92-.59-1.43-.59-.52 0-1.04.2-1.43.59L10.3 9.45l-7.72 7.72c-.78.78-.78 2.05 0 2.83L4 21.41c.39.39.9.59 1.41.59.51 0 1.02-.2 1.41-.59l7.78-7.78 2.81-2.81c.8-.78.8-2.07 0-2.86zM5.41 20L4 18.59l7.72-7.72 1.47 1.35L5.41 20z\"/>\n",
              "  </svg>\n",
              "      </button>\n",
              "      \n",
              "  <style>\n",
              "    .colab-df-container {\n",
              "      display:flex;\n",
              "      flex-wrap:wrap;\n",
              "      gap: 12px;\n",
              "    }\n",
              "\n",
              "    .colab-df-convert {\n",
              "      background-color: #E8F0FE;\n",
              "      border: none;\n",
              "      border-radius: 50%;\n",
              "      cursor: pointer;\n",
              "      display: none;\n",
              "      fill: #1967D2;\n",
              "      height: 32px;\n",
              "      padding: 0 0 0 0;\n",
              "      width: 32px;\n",
              "    }\n",
              "\n",
              "    .colab-df-convert:hover {\n",
              "      background-color: #E2EBFA;\n",
              "      box-shadow: 0px 1px 2px rgba(60, 64, 67, 0.3), 0px 1px 3px 1px rgba(60, 64, 67, 0.15);\n",
              "      fill: #174EA6;\n",
              "    }\n",
              "\n",
              "    [theme=dark] .colab-df-convert {\n",
              "      background-color: #3B4455;\n",
              "      fill: #D2E3FC;\n",
              "    }\n",
              "\n",
              "    [theme=dark] .colab-df-convert:hover {\n",
              "      background-color: #434B5C;\n",
              "      box-shadow: 0px 1px 3px 1px rgba(0, 0, 0, 0.15);\n",
              "      filter: drop-shadow(0px 1px 2px rgba(0, 0, 0, 0.3));\n",
              "      fill: #FFFFFF;\n",
              "    }\n",
              "  </style>\n",
              "\n",
              "      <script>\n",
              "        const buttonEl =\n",
              "          document.querySelector('#df-37f261e9-e169-4a4c-91ae-75fa6f31d3e1 button.colab-df-convert');\n",
              "        buttonEl.style.display =\n",
              "          google.colab.kernel.accessAllowed ? 'block' : 'none';\n",
              "\n",
              "        async function convertToInteractive(key) {\n",
              "          const element = document.querySelector('#df-37f261e9-e169-4a4c-91ae-75fa6f31d3e1');\n",
              "          const dataTable =\n",
              "            await google.colab.kernel.invokeFunction('convertToInteractive',\n",
              "                                                     [key], {});\n",
              "          if (!dataTable) return;\n",
              "\n",
              "          const docLinkHtml = 'Like what you see? Visit the ' +\n",
              "            '<a target=\"_blank\" href=https://colab.research.google.com/notebooks/data_table.ipynb>data table notebook</a>'\n",
              "            + ' to learn more about interactive tables.';\n",
              "          element.innerHTML = '';\n",
              "          dataTable['output_type'] = 'display_data';\n",
              "          await google.colab.output.renderOutput(dataTable, element);\n",
              "          const docLink = document.createElement('div');\n",
              "          docLink.innerHTML = docLinkHtml;\n",
              "          element.appendChild(docLink);\n",
              "        }\n",
              "      </script>\n",
              "    </div>\n",
              "  </div>\n",
              "  "
            ]
          },
          "metadata": {},
          "execution_count": 126
        }
      ]
    },
    {
      "cell_type": "markdown",
      "source": [
        "# Question 7\n",
        "- The sales of a company (in million dollars) for each year are shown in the table below.\n",
        "\n",
        "    x (year)\t2005\t2006\t2007\t2008\t2009\n",
        "    y (sales)\t12\t19\t29\t37\t45\n",
        "\n",
        "    Use Linear Regression model to predict the sales for the year 2011\n"
      ],
      "metadata": {
        "id": "yMxq0QZ5lMk1"
      }
    },
    {
      "cell_type": "code",
      "source": [
        "from sklearn.model_selection import train_test_split\n",
        "from sklearn.linear_model import LinearRegression \n",
        "from sklearn.metrics import mean_squared_error\n",
        "\n",
        "data = pd.DataFrame({\n",
        "    'year' : ['2005', '2006', '2007', '2008', '2009'],\n",
        "    'sales': [12,19,29,37,45]\n",
        "})\n"
      ],
      "metadata": {
        "id": "c_F-CtqdlWxI"
      },
      "execution_count": null,
      "outputs": []
    },
    {
      "cell_type": "code",
      "source": [
        "\n",
        "x= data['year']\n",
        "y=data['sales']"
      ],
      "metadata": {
        "id": "pbh1Y5pInHMQ"
      },
      "execution_count": null,
      "outputs": []
    },
    {
      "cell_type": "code",
      "source": [
        "x_train, x_test, y_train, y_test = train_test_split(x,y, test_size = 0.2)\n",
        "x_train.head()\n"
      ],
      "metadata": {
        "colab": {
          "base_uri": "https://localhost:8080/"
        },
        "id": "6n_nZm95mb8f",
        "outputId": "ad21953a-cf29-4568-95cc-818045fb2d13"
      },
      "execution_count": null,
      "outputs": [
        {
          "output_type": "execute_result",
          "data": {
            "text/plain": [
              "4    2009\n",
              "0    2005\n",
              "3    2008\n",
              "1    2006\n",
              "Name: year, dtype: object"
            ]
          },
          "metadata": {},
          "execution_count": 70
        }
      ]
    },
    {
      "cell_type": "code",
      "source": [
        "x_train= x_train.values.reshape(-1, 1)\n",
        "y_train= y_train.values.reshape(-1, 1)\n",
        "x_test = x_test.values.reshape(-1, 1)"
      ],
      "metadata": {
        "id": "BwTDLrkKA9pp"
      },
      "execution_count": null,
      "outputs": []
    },
    {
      "cell_type": "code",
      "source": [
        "regr = LinearRegression()\n",
        "regr.fit(x_train,y_train)"
      ],
      "metadata": {
        "colab": {
          "base_uri": "https://localhost:8080/"
        },
        "id": "UeCRhpaYmr_l",
        "outputId": "360d14e3-5b00-4f3e-ca52-0716e3f1b9df"
      },
      "execution_count": null,
      "outputs": [
        {
          "output_type": "execute_result",
          "data": {
            "text/plain": [
              "LinearRegression()"
            ]
          },
          "metadata": {},
          "execution_count": 72
        }
      ]
    },
    {
      "cell_type": "code",
      "source": [
        "y_pred = regr.predict(x_test)\n",
        "\n",
        "\n"
      ],
      "metadata": {
        "colab": {
          "base_uri": "https://localhost:8080/"
        },
        "id": "QSFWlkaYBVTz",
        "outputId": "77217f1c-6f0b-4823-bb9b-622c3d716cb3"
      },
      "execution_count": null,
      "outputs": [
        {
          "output_type": "execute_result",
          "data": {
            "text/plain": [
              "array([['2007']], dtype=object)"
            ]
          },
          "metadata": {},
          "execution_count": 75
        }
      ]
    },
    {
      "cell_type": "code",
      "source": [
        "x_test = [['2011']]\n",
        "sales_2011 = regr.predict(x_test)\n",
        "print('Sales of year 2011 : ',sales_2011)"
      ],
      "metadata": {
        "colab": {
          "base_uri": "https://localhost:8080/"
        },
        "id": "uL9v5qBSDJXO",
        "outputId": "ca7c440e-e80d-4cc5-a9db-52f9b371c8e9"
      },
      "execution_count": null,
      "outputs": [
        {
          "output_type": "stream",
          "name": "stdout",
          "text": [
            "Sales of year 2011 :  [[61.85]]\n"
          ]
        },
        {
          "output_type": "stream",
          "name": "stderr",
          "text": [
            "/usr/local/lib/python3.7/dist-packages/sklearn/base.py:566: FutureWarning: Arrays of bytes/strings is being converted to decimal numbers if dtype='numeric'. This behavior is deprecated in 0.24 and will be removed in 1.1 (renaming of 0.26). Please convert your data to numeric values explicitly instead.\n",
            "  X = check_array(X, **check_params)\n"
          ]
        }
      ]
    },
    {
      "cell_type": "markdown",
      "source": [
        "# Question 8\n",
        "- Using a simple dataset for e.g. diabetes.csv, train a classifier to distinguish between diabetic and non-diabetic.\n",
        "The purpose of this work is to identify the machine learning algorithm that is best-suited for the problem at hand; thus, we want to compare different algorithms, selecting the best-performing one.\n",
        "Use Classification Build Models and list the accuracy for each case\n",
        "  - a.\tLogistic Regression\n",
        "  - b.\tDecision Tree\n",
        "  - c.\tK-Nearest Neighbors  \n",
        "  - d.\tGaussian Naive Bayes\n",
        "  - e.\tSupport Vector Machine\n",
        "  Example Output: \n",
        "  Accuracy of Decision Tree classifier on training set: 1.00\n",
        "  Accuracy of Decision Tree classifier on test set: 0.73\n"
      ],
      "metadata": {
        "id": "nbEP37LgE2I4"
      }
    },
    {
      "cell_type": "code",
      "source": [
        "#import library\n",
        "import seaborn as sns\n",
        "\n",
        "sns.set()\n",
        "\n",
        "from pandas.plotting import scatter_matrix\n",
        "from sklearn.preprocessing import StandardScaler\n",
        "from sklearn.model_selection import train_test_split\n",
        "from sklearn.neighbors import KNeighborsClassifier\n",
        "\n",
        "from sklearn.metrics import confusion_matrix\n",
        "from sklearn import metrics\n",
        "from sklearn.metrics import classification_report\n",
        "import warnings\n",
        "warnings.filterwarnings('ignore')\n",
        "%matplotlib inline"
      ],
      "metadata": {
        "id": "QI71kxeNFJrr"
      },
      "execution_count": null,
      "outputs": []
    },
    {
      "cell_type": "code",
      "source": [
        "from google.colab import files\n",
        " \n",
        " \n",
        "uploaded = files.upload()\n"
      ],
      "metadata": {
        "colab": {
          "resources": {
            "http://localhost:8080/nbextensions/google.colab/files.js": {
              "data": "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",
              "ok": true,
              "headers": [
                [
                  "content-type",
                  "application/javascript"
                ]
              ],
              "status": 200,
              "status_text": ""
            }
          },
          "base_uri": "https://localhost:8080/",
          "height": 73
        },
        "id": "PV5T2NEwGAez",
        "outputId": "bae3ee58-fa67-4200-c287-80648d63e075"
      },
      "execution_count": null,
      "outputs": [
        {
          "output_type": "display_data",
          "data": {
            "text/plain": [
              "<IPython.core.display.HTML object>"
            ],
            "text/html": [
              "\n",
              "     <input type=\"file\" id=\"files-2092e550-0dac-4676-878e-f20da26b64a7\" name=\"files[]\" multiple disabled\n",
              "        style=\"border:none\" />\n",
              "     <output id=\"result-2092e550-0dac-4676-878e-f20da26b64a7\">\n",
              "      Upload widget is only available when the cell has been executed in the\n",
              "      current browser session. Please rerun this cell to enable.\n",
              "      </output>\n",
              "      <script src=\"/nbextensions/google.colab/files.js\"></script> "
            ]
          },
          "metadata": {}
        },
        {
          "output_type": "stream",
          "name": "stdout",
          "text": [
            "Saving diabetes.csv to diabetes.csv\n"
          ]
        }
      ]
    },
    {
      "cell_type": "code",
      "source": [
        "import io\n",
        " \n",
        "df = pd.read_csv(io.BytesIO(uploaded['diabetes.csv']))\n",
        "print(df.head(5))"
      ],
      "metadata": {
        "id": "uPYH4XeCFSbe",
        "colab": {
          "base_uri": "https://localhost:8080/"
        },
        "outputId": "b7611d4a-f553-49a4-c6c4-dfd451ed44ce"
      },
      "execution_count": null,
      "outputs": [
        {
          "output_type": "stream",
          "name": "stdout",
          "text": [
            "   Pregnancies  Glucose  BloodPressure  SkinThickness  Insulin   BMI  \\\n",
            "0            6      148             72             35        0  33.6   \n",
            "1            1       85             66             29        0  26.6   \n",
            "2            8      183             64              0        0  23.3   \n",
            "3            1       89             66             23       94  28.1   \n",
            "4            0      137             40             35      168  43.1   \n",
            "\n",
            "   DiabetesPedigreeFunction  Age  Outcome  \n",
            "0                     0.627   50        1  \n",
            "1                     0.351   31        0  \n",
            "2                     0.672   32        1  \n",
            "3                     0.167   21        0  \n",
            "4                     2.288   33        1  \n"
          ]
        }
      ]
    },
    {
      "cell_type": "code",
      "source": [
        "df.describe()"
      ],
      "metadata": {
        "colab": {
          "base_uri": "https://localhost:8080/",
          "height": 300
        },
        "id": "yY0RW9IFGby4",
        "outputId": "4317d455-430e-41a4-fcd7-508657d28290"
      },
      "execution_count": null,
      "outputs": [
        {
          "output_type": "execute_result",
          "data": {
            "text/plain": [
              "       Pregnancies     Glucose  BloodPressure  SkinThickness     Insulin  \\\n",
              "count   768.000000  768.000000     768.000000     768.000000  768.000000   \n",
              "mean      3.845052  120.894531      69.105469      20.536458   79.799479   \n",
              "std       3.369578   31.972618      19.355807      15.952218  115.244002   \n",
              "min       0.000000    0.000000       0.000000       0.000000    0.000000   \n",
              "25%       1.000000   99.000000      62.000000       0.000000    0.000000   \n",
              "50%       3.000000  117.000000      72.000000      23.000000   30.500000   \n",
              "75%       6.000000  140.250000      80.000000      32.000000  127.250000   \n",
              "max      17.000000  199.000000     122.000000      99.000000  846.000000   \n",
              "\n",
              "              BMI  DiabetesPedigreeFunction         Age     Outcome  \n",
              "count  768.000000                768.000000  768.000000  768.000000  \n",
              "mean    31.992578                  0.471876   33.240885    0.348958  \n",
              "std      7.884160                  0.331329   11.760232    0.476951  \n",
              "min      0.000000                  0.078000   21.000000    0.000000  \n",
              "25%     27.300000                  0.243750   24.000000    0.000000  \n",
              "50%     32.000000                  0.372500   29.000000    0.000000  \n",
              "75%     36.600000                  0.626250   41.000000    1.000000  \n",
              "max     67.100000                  2.420000   81.000000    1.000000  "
            ],
            "text/html": [
              "\n",
              "  <div id=\"df-2bbb6809-cce2-4cb2-8498-ab400fadf8ca\">\n",
              "    <div class=\"colab-df-container\">\n",
              "      <div>\n",
              "<style scoped>\n",
              "    .dataframe tbody tr th:only-of-type {\n",
              "        vertical-align: middle;\n",
              "    }\n",
              "\n",
              "    .dataframe tbody tr th {\n",
              "        vertical-align: top;\n",
              "    }\n",
              "\n",
              "    .dataframe thead th {\n",
              "        text-align: right;\n",
              "    }\n",
              "</style>\n",
              "<table border=\"1\" class=\"dataframe\">\n",
              "  <thead>\n",
              "    <tr style=\"text-align: right;\">\n",
              "      <th></th>\n",
              "      <th>Pregnancies</th>\n",
              "      <th>Glucose</th>\n",
              "      <th>BloodPressure</th>\n",
              "      <th>SkinThickness</th>\n",
              "      <th>Insulin</th>\n",
              "      <th>BMI</th>\n",
              "      <th>DiabetesPedigreeFunction</th>\n",
              "      <th>Age</th>\n",
              "      <th>Outcome</th>\n",
              "    </tr>\n",
              "  </thead>\n",
              "  <tbody>\n",
              "    <tr>\n",
              "      <th>count</th>\n",
              "      <td>768.000000</td>\n",
              "      <td>768.000000</td>\n",
              "      <td>768.000000</td>\n",
              "      <td>768.000000</td>\n",
              "      <td>768.000000</td>\n",
              "      <td>768.000000</td>\n",
              "      <td>768.000000</td>\n",
              "      <td>768.000000</td>\n",
              "      <td>768.000000</td>\n",
              "    </tr>\n",
              "    <tr>\n",
              "      <th>mean</th>\n",
              "      <td>3.845052</td>\n",
              "      <td>120.894531</td>\n",
              "      <td>69.105469</td>\n",
              "      <td>20.536458</td>\n",
              "      <td>79.799479</td>\n",
              "      <td>31.992578</td>\n",
              "      <td>0.471876</td>\n",
              "      <td>33.240885</td>\n",
              "      <td>0.348958</td>\n",
              "    </tr>\n",
              "    <tr>\n",
              "      <th>std</th>\n",
              "      <td>3.369578</td>\n",
              "      <td>31.972618</td>\n",
              "      <td>19.355807</td>\n",
              "      <td>15.952218</td>\n",
              "      <td>115.244002</td>\n",
              "      <td>7.884160</td>\n",
              "      <td>0.331329</td>\n",
              "      <td>11.760232</td>\n",
              "      <td>0.476951</td>\n",
              "    </tr>\n",
              "    <tr>\n",
              "      <th>min</th>\n",
              "      <td>0.000000</td>\n",
              "      <td>0.000000</td>\n",
              "      <td>0.000000</td>\n",
              "      <td>0.000000</td>\n",
              "      <td>0.000000</td>\n",
              "      <td>0.000000</td>\n",
              "      <td>0.078000</td>\n",
              "      <td>21.000000</td>\n",
              "      <td>0.000000</td>\n",
              "    </tr>\n",
              "    <tr>\n",
              "      <th>25%</th>\n",
              "      <td>1.000000</td>\n",
              "      <td>99.000000</td>\n",
              "      <td>62.000000</td>\n",
              "      <td>0.000000</td>\n",
              "      <td>0.000000</td>\n",
              "      <td>27.300000</td>\n",
              "      <td>0.243750</td>\n",
              "      <td>24.000000</td>\n",
              "      <td>0.000000</td>\n",
              "    </tr>\n",
              "    <tr>\n",
              "      <th>50%</th>\n",
              "      <td>3.000000</td>\n",
              "      <td>117.000000</td>\n",
              "      <td>72.000000</td>\n",
              "      <td>23.000000</td>\n",
              "      <td>30.500000</td>\n",
              "      <td>32.000000</td>\n",
              "      <td>0.372500</td>\n",
              "      <td>29.000000</td>\n",
              "      <td>0.000000</td>\n",
              "    </tr>\n",
              "    <tr>\n",
              "      <th>75%</th>\n",
              "      <td>6.000000</td>\n",
              "      <td>140.250000</td>\n",
              "      <td>80.000000</td>\n",
              "      <td>32.000000</td>\n",
              "      <td>127.250000</td>\n",
              "      <td>36.600000</td>\n",
              "      <td>0.626250</td>\n",
              "      <td>41.000000</td>\n",
              "      <td>1.000000</td>\n",
              "    </tr>\n",
              "    <tr>\n",
              "      <th>max</th>\n",
              "      <td>17.000000</td>\n",
              "      <td>199.000000</td>\n",
              "      <td>122.000000</td>\n",
              "      <td>99.000000</td>\n",
              "      <td>846.000000</td>\n",
              "      <td>67.100000</td>\n",
              "      <td>2.420000</td>\n",
              "      <td>81.000000</td>\n",
              "      <td>1.000000</td>\n",
              "    </tr>\n",
              "  </tbody>\n",
              "</table>\n",
              "</div>\n",
              "      <button class=\"colab-df-convert\" onclick=\"convertToInteractive('df-2bbb6809-cce2-4cb2-8498-ab400fadf8ca')\"\n",
              "              title=\"Convert this dataframe to an interactive table.\"\n",
              "              style=\"display:none;\">\n",
              "        \n",
              "  <svg xmlns=\"http://www.w3.org/2000/svg\" height=\"24px\"viewBox=\"0 0 24 24\"\n",
              "       width=\"24px\">\n",
              "    <path d=\"M0 0h24v24H0V0z\" fill=\"none\"/>\n",
              "    <path d=\"M18.56 5.44l.94 2.06.94-2.06 2.06-.94-2.06-.94-.94-2.06-.94 2.06-2.06.94zm-11 1L8.5 8.5l.94-2.06 2.06-.94-2.06-.94L8.5 2.5l-.94 2.06-2.06.94zm10 10l.94 2.06.94-2.06 2.06-.94-2.06-.94-.94-2.06-.94 2.06-2.06.94z\"/><path d=\"M17.41 7.96l-1.37-1.37c-.4-.4-.92-.59-1.43-.59-.52 0-1.04.2-1.43.59L10.3 9.45l-7.72 7.72c-.78.78-.78 2.05 0 2.83L4 21.41c.39.39.9.59 1.41.59.51 0 1.02-.2 1.41-.59l7.78-7.78 2.81-2.81c.8-.78.8-2.07 0-2.86zM5.41 20L4 18.59l7.72-7.72 1.47 1.35L5.41 20z\"/>\n",
              "  </svg>\n",
              "      </button>\n",
              "      \n",
              "  <style>\n",
              "    .colab-df-container {\n",
              "      display:flex;\n",
              "      flex-wrap:wrap;\n",
              "      gap: 12px;\n",
              "    }\n",
              "\n",
              "    .colab-df-convert {\n",
              "      background-color: #E8F0FE;\n",
              "      border: none;\n",
              "      border-radius: 50%;\n",
              "      cursor: pointer;\n",
              "      display: none;\n",
              "      fill: #1967D2;\n",
              "      height: 32px;\n",
              "      padding: 0 0 0 0;\n",
              "      width: 32px;\n",
              "    }\n",
              "\n",
              "    .colab-df-convert:hover {\n",
              "      background-color: #E2EBFA;\n",
              "      box-shadow: 0px 1px 2px rgba(60, 64, 67, 0.3), 0px 1px 3px 1px rgba(60, 64, 67, 0.15);\n",
              "      fill: #174EA6;\n",
              "    }\n",
              "\n",
              "    [theme=dark] .colab-df-convert {\n",
              "      background-color: #3B4455;\n",
              "      fill: #D2E3FC;\n",
              "    }\n",
              "\n",
              "    [theme=dark] .colab-df-convert:hover {\n",
              "      background-color: #434B5C;\n",
              "      box-shadow: 0px 1px 3px 1px rgba(0, 0, 0, 0.15);\n",
              "      filter: drop-shadow(0px 1px 2px rgba(0, 0, 0, 0.3));\n",
              "      fill: #FFFFFF;\n",
              "    }\n",
              "  </style>\n",
              "\n",
              "      <script>\n",
              "        const buttonEl =\n",
              "          document.querySelector('#df-2bbb6809-cce2-4cb2-8498-ab400fadf8ca button.colab-df-convert');\n",
              "        buttonEl.style.display =\n",
              "          google.colab.kernel.accessAllowed ? 'block' : 'none';\n",
              "\n",
              "        async function convertToInteractive(key) {\n",
              "          const element = document.querySelector('#df-2bbb6809-cce2-4cb2-8498-ab400fadf8ca');\n",
              "          const dataTable =\n",
              "            await google.colab.kernel.invokeFunction('convertToInteractive',\n",
              "                                                     [key], {});\n",
              "          if (!dataTable) return;\n",
              "\n",
              "          const docLinkHtml = 'Like what you see? Visit the ' +\n",
              "            '<a target=\"_blank\" href=https://colab.research.google.com/notebooks/data_table.ipynb>data table notebook</a>'\n",
              "            + ' to learn more about interactive tables.';\n",
              "          element.innerHTML = '';\n",
              "          dataTable['output_type'] = 'display_data';\n",
              "          await google.colab.output.renderOutput(dataTable, element);\n",
              "          const docLink = document.createElement('div');\n",
              "          docLink.innerHTML = docLinkHtml;\n",
              "          element.appendChild(docLink);\n",
              "        }\n",
              "      </script>\n",
              "    </div>\n",
              "  </div>\n",
              "  "
            ]
          },
          "metadata": {},
          "execution_count": 87
        }
      ]
    },
    {
      "cell_type": "code",
      "source": [
        "df.isnull().sum()"
      ],
      "metadata": {
        "colab": {
          "base_uri": "https://localhost:8080/"
        },
        "id": "jApTPeCCGgdk",
        "outputId": "b3330db0-3762-427a-cd72-9d712e6c4351"
      },
      "execution_count": null,
      "outputs": [
        {
          "output_type": "execute_result",
          "data": {
            "text/plain": [
              "Pregnancies                 0\n",
              "Glucose                     0\n",
              "BloodPressure               0\n",
              "SkinThickness               0\n",
              "Insulin                     0\n",
              "BMI                         0\n",
              "DiabetesPedigreeFunction    0\n",
              "Age                         0\n",
              "Outcome                     0\n",
              "dtype: int64"
            ]
          },
          "metadata": {},
          "execution_count": 88
        }
      ]
    },
    {
      "cell_type": "code",
      "source": [
        "diabetes_df_copy = df.copy(deep = True)\n",
        "diabetes_df_copy[['Glucose','BloodPressure','SkinThickness','Insulin','BMI']] = diabetes_df_copy[['Glucose','BloodPressure','SkinThickness','Insulin','BMI']].replace(0,np.NaN)\n",
        "\n",
        "# Showing the Count of NANs\n",
        "print(diabetes_df_copy.isnull().sum())"
      ],
      "metadata": {
        "colab": {
          "base_uri": "https://localhost:8080/"
        },
        "id": "tbxPYgMxGxdf",
        "outputId": "30620be7-9add-4b1b-f9c5-99d3f471e309"
      },
      "execution_count": null,
      "outputs": [
        {
          "output_type": "stream",
          "name": "stdout",
          "text": [
            "Pregnancies                   0\n",
            "Glucose                       5\n",
            "BloodPressure                35\n",
            "SkinThickness               227\n",
            "Insulin                     374\n",
            "BMI                          11\n",
            "DiabetesPedigreeFunction      0\n",
            "Age                           0\n",
            "Outcome                       0\n",
            "dtype: int64\n"
          ]
        }
      ]
    },
    {
      "cell_type": "code",
      "source": [
        "p = df.hist(figsize = (20,20))"
      ],
      "metadata": {
        "colab": {
          "base_uri": "https://localhost:8080/",
          "height": 1000
        },
        "id": "YD8FbG-iG6On",
        "outputId": "f9f38833-3a28-4636-bf9e-3937f205f774"
      },
      "execution_count": null,
      "outputs": [
        {
          "output_type": "display_data",
          "data": {
            "text/plain": [
              "<Figure size 1440x1440 with 9 Axes>"
            ],
            "image/png": "[encoded data removed]"
          },
          "metadata": {
            "needs_background": "light"
          }
        }
      ]
    },
    {
      "cell_type": "code",
      "source": [
        "#replace null values with mean and median\n",
        "diabetes_df_copy['Glucose'].fillna(diabetes_df_copy['Glucose'].mean(), inplace = True)\n",
        "diabetes_df_copy['BloodPressure'].fillna(diabetes_df_copy['BloodPressure'].mean(), inplace = True)\n",
        "diabetes_df_copy['SkinThickness'].fillna(diabetes_df_copy['SkinThickness'].median(), inplace = True)\n",
        "diabetes_df_copy['Insulin'].fillna(diabetes_df_copy['Insulin'].median(), inplace = True)\n",
        "diabetes_df_copy['BMI'].fillna(diabetes_df_copy['BMI'].median(), inplace = True)"
      ],
      "metadata": {
        "id": "bB7oJO2kHBrv"
      },
      "execution_count": null,
      "outputs": []
    },
    {
      "cell_type": "code",
      "source": [
        "plt.subplot(121), sns.distplot(df['Insulin'])\n",
        "plt.subplot(122), df['Insulin'].plot.box(figsize=(16,5))\n",
        "plt.show()"
      ],
      "metadata": {
        "colab": {
          "base_uri": "https://localhost:8080/",
          "height": 339
        },
        "id": "SnB_lJs4HNwz",
        "outputId": "4aaf6e76-14f2-4c26-8386-f29300556c49"
      },
      "execution_count": null,
      "outputs": [
        {
          "output_type": "display_data",
          "data": {
            "text/plain": [
              "<Figure size 1152x360 with 2 Axes>"
            ],
            "image/png": "[encoded data removed]"
          },
          "metadata": {
            "needs_background": "light"
          }
        }
      ]
    },
    {
      "cell_type": "code",
      "source": [
        "#correlation\n",
        "plt.figure(figsize=(12,10))\n",
        "# seaborn has an easy method to showcase heatmap\n",
        "p = sns.heatmap(df.corr(), annot=True)"
      ],
      "metadata": {
        "colab": {
          "base_uri": "https://localhost:8080/",
          "height": 733
        },
        "id": "EojMCK74HbOP",
        "outputId": "b19aea57-c6a3-45a9-a8fc-b903c9b0f7e7"
      },
      "execution_count": null,
      "outputs": [
        {
          "output_type": "display_data",
          "data": {
            "text/plain": [
              "<Figure size 864x720 with 2 Axes>"
            ],
            "image/png": "[encoded data removed]"
          },
          "metadata": {
            "needs_background": "light"
          }
        }
      ]
    },
    {
      "cell_type": "code",
      "source": [
        "diabetes_df_copy.head()"
      ],
      "metadata": {
        "colab": {
          "base_uri": "https://localhost:8080/",
          "height": 206
        },
        "id": "OUZPu9FzHsI6",
        "outputId": "b69f9cde-eb10-4d12-d12d-a13b487f66a6"
      },
      "execution_count": null,
      "outputs": [
        {
          "output_type": "execute_result",
          "data": {
            "text/plain": [
              "   Pregnancies  Glucose  BloodPressure  SkinThickness  Insulin   BMI  \\\n",
              "0            6    148.0           72.0           35.0    125.0  33.6   \n",
              "1            1     85.0           66.0           29.0    125.0  26.6   \n",
              "2            8    183.0           64.0           29.0    125.0  23.3   \n",
              "3            1     89.0           66.0           23.0     94.0  28.1   \n",
              "4            0    137.0           40.0           35.0    168.0  43.1   \n",
              "\n",
              "   DiabetesPedigreeFunction  Age  Outcome  \n",
              "0                     0.627   50        1  \n",
              "1                     0.351   31        0  \n",
              "2                     0.672   32        1  \n",
              "3                     0.167   21        0  \n",
              "4                     2.288   33        1  "
            ],
            "text/html": [
              "\n",
              "  <div id=\"df-f91f2ae8-55f7-44f1-8432-6438e6843323\">\n",
              "    <div class=\"colab-df-container\">\n",
              "      <div>\n",
              "<style scoped>\n",
              "    .dataframe tbody tr th:only-of-type {\n",
              "        vertical-align: middle;\n",
              "    }\n",
              "\n",
              "    .dataframe tbody tr th {\n",
              "        vertical-align: top;\n",
              "    }\n",
              "\n",
              "    .dataframe thead th {\n",
              "        text-align: right;\n",
              "    }\n",
              "</style>\n",
              "<table border=\"1\" class=\"dataframe\">\n",
              "  <thead>\n",
              "    <tr style=\"text-align: right;\">\n",
              "      <th></th>\n",
              "      <th>Pregnancies</th>\n",
              "      <th>Glucose</th>\n",
              "      <th>BloodPressure</th>\n",
              "      <th>SkinThickness</th>\n",
              "      <th>Insulin</th>\n",
              "      <th>BMI</th>\n",
              "      <th>DiabetesPedigreeFunction</th>\n",
              "      <th>Age</th>\n",
              "      <th>Outcome</th>\n",
              "    </tr>\n",
              "  </thead>\n",
              "  <tbody>\n",
              "    <tr>\n",
              "      <th>0</th>\n",
              "      <td>6</td>\n",
              "      <td>148.0</td>\n",
              "      <td>72.0</td>\n",
              "      <td>35.0</td>\n",
              "      <td>125.0</td>\n",
              "      <td>33.6</td>\n",
              "      <td>0.627</td>\n",
              "      <td>50</td>\n",
              "      <td>1</td>\n",
              "    </tr>\n",
              "    <tr>\n",
              "      <th>1</th>\n",
              "      <td>1</td>\n",
              "      <td>85.0</td>\n",
              "      <td>66.0</td>\n",
              "      <td>29.0</td>\n",
              "      <td>125.0</td>\n",
              "      <td>26.6</td>\n",
              "      <td>0.351</td>\n",
              "      <td>31</td>\n",
              "      <td>0</td>\n",
              "    </tr>\n",
              "    <tr>\n",
              "      <th>2</th>\n",
              "      <td>8</td>\n",
              "      <td>183.0</td>\n",
              "      <td>64.0</td>\n",
              "      <td>29.0</td>\n",
              "      <td>125.0</td>\n",
              "      <td>23.3</td>\n",
              "      <td>0.672</td>\n",
              "      <td>32</td>\n",
              "      <td>1</td>\n",
              "    </tr>\n",
              "    <tr>\n",
              "      <th>3</th>\n",
              "      <td>1</td>\n",
              "      <td>89.0</td>\n",
              "      <td>66.0</td>\n",
              "      <td>23.0</td>\n",
              "      <td>94.0</td>\n",
              "      <td>28.1</td>\n",
              "      <td>0.167</td>\n",
              "      <td>21</td>\n",
              "      <td>0</td>\n",
              "    </tr>\n",
              "    <tr>\n",
              "      <th>4</th>\n",
              "      <td>0</td>\n",
              "      <td>137.0</td>\n",
              "      <td>40.0</td>\n",
              "      <td>35.0</td>\n",
              "      <td>168.0</td>\n",
              "      <td>43.1</td>\n",
              "      <td>2.288</td>\n",
              "      <td>33</td>\n",
              "      <td>1</td>\n",
              "    </tr>\n",
              "  </tbody>\n",
              "</table>\n",
              "</div>\n",
              "      <button class=\"colab-df-convert\" onclick=\"convertToInteractive('df-f91f2ae8-55f7-44f1-8432-6438e6843323')\"\n",
              "              title=\"Convert this dataframe to an interactive table.\"\n",
              "              style=\"display:none;\">\n",
              "        \n",
              "  <svg xmlns=\"http://www.w3.org/2000/svg\" height=\"24px\"viewBox=\"0 0 24 24\"\n",
              "       width=\"24px\">\n",
              "    <path d=\"M0 0h24v24H0V0z\" fill=\"none\"/>\n",
              "    <path d=\"M18.56 5.44l.94 2.06.94-2.06 2.06-.94-2.06-.94-.94-2.06-.94 2.06-2.06.94zm-11 1L8.5 8.5l.94-2.06 2.06-.94-2.06-.94L8.5 2.5l-.94 2.06-2.06.94zm10 10l.94 2.06.94-2.06 2.06-.94-2.06-.94-.94-2.06-.94 2.06-2.06.94z\"/><path d=\"M17.41 7.96l-1.37-1.37c-.4-.4-.92-.59-1.43-.59-.52 0-1.04.2-1.43.59L10.3 9.45l-7.72 7.72c-.78.78-.78 2.05 0 2.83L4 21.41c.39.39.9.59 1.41.59.51 0 1.02-.2 1.41-.59l7.78-7.78 2.81-2.81c.8-.78.8-2.07 0-2.86zM5.41 20L4 18.59l7.72-7.72 1.47 1.35L5.41 20z\"/>\n",
              "  </svg>\n",
              "      </button>\n",
              "      \n",
              "  <style>\n",
              "    .colab-df-container {\n",
              "      display:flex;\n",
              "      flex-wrap:wrap;\n",
              "      gap: 12px;\n",
              "    }\n",
              "\n",
              "    .colab-df-convert {\n",
              "      background-color: #E8F0FE;\n",
              "      border: none;\n",
              "      border-radius: 50%;\n",
              "      cursor: pointer;\n",
              "      display: none;\n",
              "      fill: #1967D2;\n",
              "      height: 32px;\n",
              "      padding: 0 0 0 0;\n",
              "      width: 32px;\n",
              "    }\n",
              "\n",
              "    .colab-df-convert:hover {\n",
              "      background-color: #E2EBFA;\n",
              "      box-shadow: 0px 1px 2px rgba(60, 64, 67, 0.3), 0px 1px 3px 1px rgba(60, 64, 67, 0.15);\n",
              "      fill: #174EA6;\n",
              "    }\n",
              "\n",
              "    [theme=dark] .colab-df-convert {\n",
              "      background-color: #3B4455;\n",
              "      fill: #D2E3FC;\n",
              "    }\n",
              "\n",
              "    [theme=dark] .colab-df-convert:hover {\n",
              "      background-color: #434B5C;\n",
              "      box-shadow: 0px 1px 3px 1px rgba(0, 0, 0, 0.15);\n",
              "      filter: drop-shadow(0px 1px 2px rgba(0, 0, 0, 0.3));\n",
              "      fill: #FFFFFF;\n",
              "    }\n",
              "  </style>\n",
              "\n",
              "      <script>\n",
              "        const buttonEl =\n",
              "          document.querySelector('#df-f91f2ae8-55f7-44f1-8432-6438e6843323 button.colab-df-convert');\n",
              "        buttonEl.style.display =\n",
              "          google.colab.kernel.accessAllowed ? 'block' : 'none';\n",
              "\n",
              "        async function convertToInteractive(key) {\n",
              "          const element = document.querySelector('#df-f91f2ae8-55f7-44f1-8432-6438e6843323');\n",
              "          const dataTable =\n",
              "            await google.colab.kernel.invokeFunction('convertToInteractive',\n",
              "                                                     [key], {});\n",
              "          if (!dataTable) return;\n",
              "\n",
              "          const docLinkHtml = 'Like what you see? Visit the ' +\n",
              "            '<a target=\"_blank\" href=https://colab.research.google.com/notebooks/data_table.ipynb>data table notebook</a>'\n",
              "            + ' to learn more about interactive tables.';\n",
              "          element.innerHTML = '';\n",
              "          dataTable['output_type'] = 'display_data';\n",
              "          await google.colab.output.renderOutput(dataTable, element);\n",
              "          const docLink = document.createElement('div');\n",
              "          docLink.innerHTML = docLinkHtml;\n",
              "          element.appendChild(docLink);\n",
              "        }\n",
              "      </script>\n",
              "    </div>\n",
              "  </div>\n",
              "  "
            ]
          },
          "metadata": {},
          "execution_count": 100
        }
      ]
    },
    {
      "cell_type": "code",
      "source": [
        "sc_X = StandardScaler()\n",
        "X =  pd.DataFrame(sc_X.fit_transform(diabetes_df_copy.drop([\"Outcome\"],axis = 1),), columns=['Pregnancies', \n",
        "'Glucose', 'BloodPressure', 'SkinThickness', 'Insulin', 'BMI', 'DiabetesPedigreeFunction', 'Age'])\n",
        "X.head()"
      ],
      "metadata": {
        "colab": {
          "base_uri": "https://localhost:8080/",
          "height": 206
        },
        "id": "OEtAkZJQQBYl",
        "outputId": "26a0f5c6-801e-4f48-d74d-b2b85989ac3f"
      },
      "execution_count": null,
      "outputs": [
        {
          "output_type": "execute_result",
          "data": {
            "text/plain": [
              "   Pregnancies   Glucose  BloodPressure  SkinThickness   Insulin       BMI  \\\n",
              "0     0.639947  0.865108      -0.033518       0.670643 -0.181541  0.166619   \n",
              "1    -0.844885 -1.206162      -0.529859      -0.012301 -0.181541 -0.852200   \n",
              "2     1.233880  2.015813      -0.695306      -0.012301 -0.181541 -1.332500   \n",
              "3    -0.844885 -1.074652      -0.529859      -0.695245 -0.540642 -0.633881   \n",
              "4    -1.141852  0.503458      -2.680669       0.670643  0.316566  1.549303   \n",
              "\n",
              "   DiabetesPedigreeFunction       Age  \n",
              "0                  0.468492  1.425995  \n",
              "1                 -0.365061 -0.190672  \n",
              "2                  0.604397 -0.105584  \n",
              "3                 -0.920763 -1.041549  \n",
              "4                  5.484909 -0.020496  "
            ],
            "text/html": [
              "\n",
              "  <div id=\"df-d844d247-be97-4cc5-a063-c2ab10d9b539\">\n",
              "    <div class=\"colab-df-container\">\n",
              "      <div>\n",
              "<style scoped>\n",
              "    .dataframe tbody tr th:only-of-type {\n",
              "        vertical-align: middle;\n",
              "    }\n",
              "\n",
              "    .dataframe tbody tr th {\n",
              "        vertical-align: top;\n",
              "    }\n",
              "\n",
              "    .dataframe thead th {\n",
              "        text-align: right;\n",
              "    }\n",
              "</style>\n",
              "<table border=\"1\" class=\"dataframe\">\n",
              "  <thead>\n",
              "    <tr style=\"text-align: right;\">\n",
              "      <th></th>\n",
              "      <th>Pregnancies</th>\n",
              "      <th>Glucose</th>\n",
              "      <th>BloodPressure</th>\n",
              "      <th>SkinThickness</th>\n",
              "      <th>Insulin</th>\n",
              "      <th>BMI</th>\n",
              "      <th>DiabetesPedigreeFunction</th>\n",
              "      <th>Age</th>\n",
              "    </tr>\n",
              "  </thead>\n",
              "  <tbody>\n",
              "    <tr>\n",
              "      <th>0</th>\n",
              "      <td>0.639947</td>\n",
              "      <td>0.865108</td>\n",
              "      <td>-0.033518</td>\n",
              "      <td>0.670643</td>\n",
              "      <td>-0.181541</td>\n",
              "      <td>0.166619</td>\n",
              "      <td>0.468492</td>\n",
              "      <td>1.425995</td>\n",
              "    </tr>\n",
              "    <tr>\n",
              "      <th>1</th>\n",
              "      <td>-0.844885</td>\n",
              "      <td>-1.206162</td>\n",
              "      <td>-0.529859</td>\n",
              "      <td>-0.012301</td>\n",
              "      <td>-0.181541</td>\n",
              "      <td>-0.852200</td>\n",
              "      <td>-0.365061</td>\n",
              "      <td>-0.190672</td>\n",
              "    </tr>\n",
              "    <tr>\n",
              "      <th>2</th>\n",
              "      <td>1.233880</td>\n",
              "      <td>2.015813</td>\n",
              "      <td>-0.695306</td>\n",
              "      <td>-0.012301</td>\n",
              "      <td>-0.181541</td>\n",
              "      <td>-1.332500</td>\n",
              "      <td>0.604397</td>\n",
              "      <td>-0.105584</td>\n",
              "    </tr>\n",
              "    <tr>\n",
              "      <th>3</th>\n",
              "      <td>-0.844885</td>\n",
              "      <td>-1.074652</td>\n",
              "      <td>-0.529859</td>\n",
              "      <td>-0.695245</td>\n",
              "      <td>-0.540642</td>\n",
              "      <td>-0.633881</td>\n",
              "      <td>-0.920763</td>\n",
              "      <td>-1.041549</td>\n",
              "    </tr>\n",
              "    <tr>\n",
              "      <th>4</th>\n",
              "      <td>-1.141852</td>\n",
              "      <td>0.503458</td>\n",
              "      <td>-2.680669</td>\n",
              "      <td>0.670643</td>\n",
              "      <td>0.316566</td>\n",
              "      <td>1.549303</td>\n",
              "      <td>5.484909</td>\n",
              "      <td>-0.020496</td>\n",
              "    </tr>\n",
              "  </tbody>\n",
              "</table>\n",
              "</div>\n",
              "      <button class=\"colab-df-convert\" onclick=\"convertToInteractive('df-d844d247-be97-4cc5-a063-c2ab10d9b539')\"\n",
              "              title=\"Convert this dataframe to an interactive table.\"\n",
              "              style=\"display:none;\">\n",
              "        \n",
              "  <svg xmlns=\"http://www.w3.org/2000/svg\" height=\"24px\"viewBox=\"0 0 24 24\"\n",
              "       width=\"24px\">\n",
              "    <path d=\"M0 0h24v24H0V0z\" fill=\"none\"/>\n",
              "    <path d=\"M18.56 5.44l.94 2.06.94-2.06 2.06-.94-2.06-.94-.94-2.06-.94 2.06-2.06.94zm-11 1L8.5 8.5l.94-2.06 2.06-.94-2.06-.94L8.5 2.5l-.94 2.06-2.06.94zm10 10l.94 2.06.94-2.06 2.06-.94-2.06-.94-.94-2.06-.94 2.06-2.06.94z\"/><path d=\"M17.41 7.96l-1.37-1.37c-.4-.4-.92-.59-1.43-.59-.52 0-1.04.2-1.43.59L10.3 9.45l-7.72 7.72c-.78.78-.78 2.05 0 2.83L4 21.41c.39.39.9.59 1.41.59.51 0 1.02-.2 1.41-.59l7.78-7.78 2.81-2.81c.8-.78.8-2.07 0-2.86zM5.41 20L4 18.59l7.72-7.72 1.47 1.35L5.41 20z\"/>\n",
              "  </svg>\n",
              "      </button>\n",
              "      \n",
              "  <style>\n",
              "    .colab-df-container {\n",
              "      display:flex;\n",
              "      flex-wrap:wrap;\n",
              "      gap: 12px;\n",
              "    }\n",
              "\n",
              "    .colab-df-convert {\n",
              "      background-color: #E8F0FE;\n",
              "      border: none;\n",
              "      border-radius: 50%;\n",
              "      cursor: pointer;\n",
              "      display: none;\n",
              "      fill: #1967D2;\n",
              "      height: 32px;\n",
              "      padding: 0 0 0 0;\n",
              "      width: 32px;\n",
              "    }\n",
              "\n",
              "    .colab-df-convert:hover {\n",
              "      background-color: #E2EBFA;\n",
              "      box-shadow: 0px 1px 2px rgba(60, 64, 67, 0.3), 0px 1px 3px 1px rgba(60, 64, 67, 0.15);\n",
              "      fill: #174EA6;\n",
              "    }\n",
              "\n",
              "    [theme=dark] .colab-df-convert {\n",
              "      background-color: #3B4455;\n",
              "      fill: #D2E3FC;\n",
              "    }\n",
              "\n",
              "    [theme=dark] .colab-df-convert:hover {\n",
              "      background-color: #434B5C;\n",
              "      box-shadow: 0px 1px 3px 1px rgba(0, 0, 0, 0.15);\n",
              "      filter: drop-shadow(0px 1px 2px rgba(0, 0, 0, 0.3));\n",
              "      fill: #FFFFFF;\n",
              "    }\n",
              "  </style>\n",
              "\n",
              "      <script>\n",
              "        const buttonEl =\n",
              "          document.querySelector('#df-d844d247-be97-4cc5-a063-c2ab10d9b539 button.colab-df-convert');\n",
              "        buttonEl.style.display =\n",
              "          google.colab.kernel.accessAllowed ? 'block' : 'none';\n",
              "\n",
              "        async function convertToInteractive(key) {\n",
              "          const element = document.querySelector('#df-d844d247-be97-4cc5-a063-c2ab10d9b539');\n",
              "          const dataTable =\n",
              "            await google.colab.kernel.invokeFunction('convertToInteractive',\n",
              "                                                     [key], {});\n",
              "          if (!dataTable) return;\n",
              "\n",
              "          const docLinkHtml = 'Like what you see? Visit the ' +\n",
              "            '<a target=\"_blank\" href=https://colab.research.google.com/notebooks/data_table.ipynb>data table notebook</a>'\n",
              "            + ' to learn more about interactive tables.';\n",
              "          element.innerHTML = '';\n",
              "          dataTable['output_type'] = 'display_data';\n",
              "          await google.colab.output.renderOutput(dataTable, element);\n",
              "          const docLink = document.createElement('div');\n",
              "          docLink.innerHTML = docLinkHtml;\n",
              "          element.appendChild(docLink);\n",
              "        }\n",
              "      </script>\n",
              "    </div>\n",
              "  </div>\n",
              "  "
            ]
          },
          "metadata": {},
          "execution_count": 101
        }
      ]
    },
    {
      "cell_type": "code",
      "source": [
        "y = diabetes_df_copy.Outcome\n",
        "y"
      ],
      "metadata": {
        "colab": {
          "base_uri": "https://localhost:8080/"
        },
        "id": "vDgcBl5UQGeM",
        "outputId": "7208d4a1-0839-4580-d57d-e9d1802d6e2e"
      },
      "execution_count": null,
      "outputs": [
        {
          "output_type": "execute_result",
          "data": {
            "text/plain": [
              "0      1\n",
              "1      0\n",
              "2      1\n",
              "3      0\n",
              "4      1\n",
              "5      0\n",
              "6      1\n",
              "7      0\n",
              "8      1\n",
              "9      1\n",
              "10     0\n",
              "11     1\n",
              "12     0\n",
              "13     1\n",
              "14     1\n",
              "15     1\n",
              "16     1\n",
              "17     1\n",
              "18     0\n",
              "19     1\n",
              "20     0\n",
              "21     0\n",
              "22     1\n",
              "23     1\n",
              "24     1\n",
              "25     1\n",
              "26     1\n",
              "27     0\n",
              "28     0\n",
              "29     0\n",
              "30     0\n",
              "31     1\n",
              "32     0\n",
              "33     0\n",
              "34     0\n",
              "35     0\n",
              "36     0\n",
              "37     1\n",
              "38     1\n",
              "39     1\n",
              "40     0\n",
              "41     0\n",
              "42     0\n",
              "43     1\n",
              "44     0\n",
              "45     1\n",
              "46     0\n",
              "47     0\n",
              "48     1\n",
              "49     0\n",
              "50     0\n",
              "51     0\n",
              "52     0\n",
              "53     1\n",
              "54     0\n",
              "55     0\n",
              "56     1\n",
              "57     0\n",
              "58     0\n",
              "59     0\n",
              "60     0\n",
              "61     1\n",
              "62     0\n",
              "63     0\n",
              "64     1\n",
              "65     0\n",
              "66     1\n",
              "67     0\n",
              "68     0\n",
              "69     0\n",
              "70     1\n",
              "71     0\n",
              "72     1\n",
              "73     0\n",
              "74     0\n",
              "75     0\n",
              "76     0\n",
              "77     0\n",
              "78     1\n",
              "79     0\n",
              "80     0\n",
              "81     0\n",
              "82     0\n",
              "83     0\n",
              "84     1\n",
              "85     0\n",
              "86     0\n",
              "87     0\n",
              "88     1\n",
              "89     0\n",
              "90     0\n",
              "91     0\n",
              "92     0\n",
              "93     1\n",
              "94     0\n",
              "95     0\n",
              "96     0\n",
              "97     0\n",
              "98     0\n",
              "99     1\n",
              "100    1\n",
              "101    0\n",
              "102    0\n",
              "103    0\n",
              "104    0\n",
              "105    0\n",
              "106    0\n",
              "107    0\n",
              "108    0\n",
              "109    1\n",
              "110    1\n",
              "111    1\n",
              "112    0\n",
              "113    0\n",
              "114    1\n",
              "115    1\n",
              "116    1\n",
              "117    0\n",
              "118    0\n",
              "119    0\n",
              "120    1\n",
              "121    0\n",
              "122    0\n",
              "123    0\n",
              "124    1\n",
              "125    1\n",
              "126    0\n",
              "127    0\n",
              "128    1\n",
              "129    1\n",
              "130    1\n",
              "131    1\n",
              "132    1\n",
              "133    0\n",
              "134    0\n",
              "135    0\n",
              "136    0\n",
              "137    0\n",
              "138    0\n",
              "139    0\n",
              "140    0\n",
              "141    0\n",
              "142    0\n",
              "143    1\n",
              "144    0\n",
              "145    0\n",
              "146    0\n",
              "147    0\n",
              "148    0\n",
              "149    0\n",
              "150    0\n",
              "151    0\n",
              "152    1\n",
              "153    0\n",
              "154    1\n",
              "155    1\n",
              "156    0\n",
              "157    0\n",
              "158    0\n",
              "159    1\n",
              "160    0\n",
              "161    0\n",
              "162    0\n",
              "163    0\n",
              "164    1\n",
              "165    1\n",
              "166    0\n",
              "167    0\n",
              "168    0\n",
              "169    0\n",
              "170    1\n",
              "171    1\n",
              "172    0\n",
              "173    0\n",
              "174    0\n",
              "175    1\n",
              "176    0\n",
              "177    1\n",
              "178    0\n",
              "179    1\n",
              "180    0\n",
              "181    0\n",
              "182    0\n",
              "183    0\n",
              "184    0\n",
              "185    1\n",
              "186    1\n",
              "187    1\n",
              "188    1\n",
              "189    1\n",
              "190    0\n",
              "191    0\n",
              "192    1\n",
              "193    1\n",
              "194    0\n",
              "195    1\n",
              "196    0\n",
              "197    1\n",
              "198    1\n",
              "199    1\n",
              "200    0\n",
              "201    0\n",
              "202    0\n",
              "203    0\n",
              "204    0\n",
              "205    0\n",
              "206    1\n",
              "207    1\n",
              "208    0\n",
              "209    1\n",
              "210    0\n",
              "211    0\n",
              "212    0\n",
              "213    1\n",
              "214    1\n",
              "215    1\n",
              "216    1\n",
              "217    0\n",
              "218    1\n",
              "219    1\n",
              "220    1\n",
              "221    1\n",
              "222    0\n",
              "223    0\n",
              "224    0\n",
              "225    0\n",
              "226    0\n",
              "227    1\n",
              "228    0\n",
              "229    0\n",
              "230    1\n",
              "231    1\n",
              "232    0\n",
              "233    0\n",
              "234    0\n",
              "235    1\n",
              "236    1\n",
              "237    1\n",
              "238    1\n",
              "239    0\n",
              "240    0\n",
              "241    0\n",
              "242    1\n",
              "243    1\n",
              "244    0\n",
              "245    1\n",
              "246    0\n",
              "247    0\n",
              "248    0\n",
              "249    0\n",
              "250    0\n",
              "251    0\n",
              "252    0\n",
              "253    0\n",
              "254    1\n",
              "255    1\n",
              "256    0\n",
              "257    0\n",
              "258    0\n",
              "259    1\n",
              "260    0\n",
              "261    1\n",
              "262    0\n",
              "263    0\n",
              "264    1\n",
              "265    0\n",
              "266    1\n",
              "267    0\n",
              "268    0\n",
              "269    1\n",
              "270    1\n",
              "271    0\n",
              "272    0\n",
              "273    0\n",
              "274    0\n",
              "275    0\n",
              "276    1\n",
              "277    0\n",
              "278    0\n",
              "279    0\n",
              "280    1\n",
              "281    0\n",
              "282    0\n",
              "283    1\n",
              "284    1\n",
              "285    0\n",
              "286    0\n",
              "287    1\n",
              "288    0\n",
              "289    0\n",
              "290    0\n",
              "291    1\n",
              "292    1\n",
              "293    1\n",
              "294    0\n",
              "295    0\n",
              "296    1\n",
              "297    0\n",
              "298    1\n",
              "299    0\n",
              "300    1\n",
              "301    1\n",
              "302    0\n",
              "303    1\n",
              "304    0\n",
              "305    0\n",
              "306    1\n",
              "307    0\n",
              "308    1\n",
              "309    1\n",
              "310    0\n",
              "311    0\n",
              "312    1\n",
              "313    0\n",
              "314    1\n",
              "315    0\n",
              "316    0\n",
              "317    1\n",
              "318    0\n",
              "319    1\n",
              "320    0\n",
              "321    1\n",
              "322    1\n",
              "323    1\n",
              "324    0\n",
              "325    0\n",
              "326    1\n",
              "327    0\n",
              "328    1\n",
              "329    0\n",
              "330    0\n",
              "331    0\n",
              "332    1\n",
              "333    0\n",
              "334    0\n",
              "335    0\n",
              "336    0\n",
              "337    1\n",
              "338    1\n",
              "339    1\n",
              "340    0\n",
              "341    0\n",
              "342    0\n",
              "343    0\n",
              "344    0\n",
              "345    0\n",
              "346    0\n",
              "347    0\n",
              "348    0\n",
              "349    1\n",
              "350    0\n",
              "351    0\n",
              "352    0\n",
              "353    0\n",
              "354    0\n",
              "355    1\n",
              "356    1\n",
              "357    1\n",
              "358    0\n",
              "359    1\n",
              "360    1\n",
              "361    0\n",
              "362    0\n",
              "363    1\n",
              "364    0\n",
              "365    0\n",
              "366    1\n",
              "367    0\n",
              "368    0\n",
              "369    1\n",
              "370    1\n",
              "371    0\n",
              "372    0\n",
              "373    0\n",
              "374    0\n",
              "375    1\n",
              "376    0\n",
              "377    0\n",
              "378    1\n",
              "379    0\n",
              "380    0\n",
              "381    0\n",
              "382    0\n",
              "383    0\n",
              "384    0\n",
              "385    0\n",
              "386    1\n",
              "387    1\n",
              "388    1\n",
              "389    0\n",
              "390    0\n",
              "391    1\n",
              "392    0\n",
              "393    0\n",
              "394    1\n",
              "395    0\n",
              "396    0\n",
              "397    1\n",
              "398    0\n",
              "399    1\n",
              "400    1\n",
              "401    0\n",
              "402    1\n",
              "403    0\n",
              "404    1\n",
              "405    0\n",
              "406    1\n",
              "407    0\n",
              "408    1\n",
              "409    1\n",
              "410    0\n",
              "411    0\n",
              "412    0\n",
              "413    0\n",
              "414    1\n",
              "415    1\n",
              "416    0\n",
              "417    1\n",
              "418    0\n",
              "419    1\n",
              "420    0\n",
              "421    0\n",
              "422    0\n",
              "423    0\n",
              "424    1\n",
              "425    1\n",
              "426    0\n",
              "427    1\n",
              "428    0\n",
              "429    1\n",
              "430    0\n",
              "431    0\n",
              "432    0\n",
              "433    0\n",
              "434    0\n",
              "435    1\n",
              "436    0\n",
              "437    0\n",
              "438    0\n",
              "439    0\n",
              "440    1\n",
              "441    0\n",
              "442    0\n",
              "443    1\n",
              "444    1\n",
              "445    1\n",
              "446    0\n",
              "447    0\n",
              "448    1\n",
              "449    0\n",
              "450    0\n",
              "451    1\n",
              "452    0\n",
              "453    0\n",
              "454    0\n",
              "455    1\n",
              "456    0\n",
              "457    0\n",
              "458    1\n",
              "459    0\n",
              "460    0\n",
              "461    0\n",
              "462    0\n",
              "463    0\n",
              "464    0\n",
              "465    0\n",
              "466    0\n",
              "467    0\n",
              "468    1\n",
              "469    0\n",
              "470    0\n",
              "471    0\n",
              "472    0\n",
              "473    0\n",
              "474    0\n",
              "475    0\n",
              "476    1\n",
              "477    0\n",
              "478    0\n",
              "479    0\n",
              "480    1\n",
              "481    0\n",
              "482    0\n",
              "483    0\n",
              "484    1\n",
              "485    1\n",
              "486    0\n",
              "487    0\n",
              "488    0\n",
              "489    0\n",
              "490    0\n",
              "491    0\n",
              "492    0\n",
              "493    1\n",
              "494    0\n",
              "495    0\n",
              "496    0\n",
              "497    0\n",
              "498    1\n",
              "499    0\n",
              "500    0\n",
              "501    0\n",
              "502    1\n",
              "503    0\n",
              "504    0\n",
              "505    0\n",
              "506    1\n",
              "507    0\n",
              "508    0\n",
              "509    0\n",
              "510    1\n",
              "511    0\n",
              "512    0\n",
              "513    0\n",
              "514    0\n",
              "515    1\n",
              "516    1\n",
              "517    0\n",
              "518    0\n",
              "519    0\n",
              "520    0\n",
              "521    0\n",
              "522    0\n",
              "523    1\n",
              "524    0\n",
              "525    0\n",
              "526    0\n",
              "527    0\n",
              "528    0\n",
              "529    0\n",
              "530    0\n",
              "531    0\n",
              "532    0\n",
              "533    0\n",
              "534    0\n",
              "535    1\n",
              "536    0\n",
              "537    0\n",
              "538    0\n",
              "539    1\n",
              "540    1\n",
              "541    1\n",
              "542    1\n",
              "543    0\n",
              "544    0\n",
              "545    1\n",
              "546    1\n",
              "547    0\n",
              "548    0\n",
              "549    0\n",
              "550    0\n",
              "551    0\n",
              "552    0\n",
              "553    0\n",
              "554    0\n",
              "555    0\n",
              "556    0\n",
              "557    0\n",
              "558    0\n",
              "559    0\n",
              "560    1\n",
              "561    1\n",
              "562    0\n",
              "563    0\n",
              "564    0\n",
              "565    0\n",
              "566    0\n",
              "567    0\n",
              "568    0\n",
              "569    1\n",
              "570    0\n",
              "571    0\n",
              "572    0\n",
              "573    0\n",
              "574    0\n",
              "575    0\n",
              "576    0\n",
              "577    1\n",
              "578    0\n",
              "579    1\n",
              "580    1\n",
              "581    0\n",
              "582    0\n",
              "583    0\n",
              "584    1\n",
              "585    0\n",
              "586    1\n",
              "587    0\n",
              "588    1\n",
              "589    0\n",
              "590    1\n",
              "591    0\n",
              "592    1\n",
              "593    0\n",
              "594    0\n",
              "595    1\n",
              "596    0\n",
              "597    0\n",
              "598    1\n",
              "599    0\n",
              "600    0\n",
              "601    0\n",
              "602    0\n",
              "603    1\n",
              "604    1\n",
              "605    0\n",
              "606    1\n",
              "607    0\n",
              "608    0\n",
              "609    0\n",
              "610    0\n",
              "611    1\n",
              "612    1\n",
              "613    0\n",
              "614    1\n",
              "615    0\n",
              "616    0\n",
              "617    0\n",
              "618    1\n",
              "619    1\n",
              "620    0\n",
              "621    0\n",
              "622    0\n",
              "623    0\n",
              "624    0\n",
              "625    0\n",
              "626    0\n",
              "627    0\n",
              "628    0\n",
              "629    0\n",
              "630    1\n",
              "631    0\n",
              "632    0\n",
              "633    0\n",
              "634    0\n",
              "635    1\n",
              "636    0\n",
              "637    0\n",
              "638    1\n",
              "639    0\n",
              "640    0\n",
              "641    0\n",
              "642    1\n",
              "643    0\n",
              "644    0\n",
              "645    0\n",
              "646    1\n",
              "647    1\n",
              "648    1\n",
              "649    0\n",
              "650    0\n",
              "651    0\n",
              "652    0\n",
              "653    0\n",
              "654    0\n",
              "655    1\n",
              "656    0\n",
              "657    0\n",
              "658    0\n",
              "659    1\n",
              "660    0\n",
              "661    1\n",
              "662    1\n",
              "663    1\n",
              "664    1\n",
              "665    0\n",
              "666    1\n",
              "667    1\n",
              "668    0\n",
              "669    0\n",
              "670    0\n",
              "671    0\n",
              "672    0\n",
              "673    0\n",
              "674    0\n",
              "675    1\n",
              "676    1\n",
              "677    0\n",
              "678    1\n",
              "679    0\n",
              "680    0\n",
              "681    1\n",
              "682    0\n",
              "683    1\n",
              "684    0\n",
              "685    0\n",
              "686    0\n",
              "687    0\n",
              "688    0\n",
              "689    1\n",
              "690    0\n",
              "691    1\n",
              "692    0\n",
              "693    1\n",
              "694    0\n",
              "695    1\n",
              "696    1\n",
              "697    0\n",
              "698    0\n",
              "699    0\n",
              "700    0\n",
              "701    1\n",
              "702    1\n",
              "703    0\n",
              "704    0\n",
              "705    0\n",
              "706    1\n",
              "707    0\n",
              "708    1\n",
              "709    1\n",
              "710    0\n",
              "711    0\n",
              "712    1\n",
              "713    0\n",
              "714    0\n",
              "715    1\n",
              "716    1\n",
              "717    0\n",
              "718    0\n",
              "719    1\n",
              "720    0\n",
              "721    0\n",
              "722    1\n",
              "723    0\n",
              "724    0\n",
              "725    0\n",
              "726    0\n",
              "727    0\n",
              "728    0\n",
              "729    0\n",
              "730    1\n",
              "731    1\n",
              "732    1\n",
              "733    0\n",
              "734    0\n",
              "735    0\n",
              "736    0\n",
              "737    0\n",
              "738    0\n",
              "739    1\n",
              "740    1\n",
              "741    0\n",
              "742    0\n",
              "743    1\n",
              "744    0\n",
              "745    0\n",
              "746    1\n",
              "747    0\n",
              "748    1\n",
              "749    1\n",
              "750    1\n",
              "751    0\n",
              "752    0\n",
              "753    1\n",
              "754    1\n",
              "755    1\n",
              "756    0\n",
              "757    1\n",
              "758    0\n",
              "759    1\n",
              "760    0\n",
              "761    1\n",
              "762    0\n",
              "763    0\n",
              "764    0\n",
              "765    0\n",
              "766    1\n",
              "767    0\n",
              "Name: Outcome, dtype: int64"
            ]
          },
          "metadata": {},
          "execution_count": 102
        }
      ]
    },
    {
      "cell_type": "code",
      "source": [
        "X = df.drop('Outcome', axis=1)\n",
        "y = df['Outcome']"
      ],
      "metadata": {
        "id": "R1437U6KQJb-"
      },
      "execution_count": null,
      "outputs": []
    },
    {
      "cell_type": "code",
      "source": [
        "from sklearn.model_selection import train_test_split\n",
        "\n",
        "X_train, X_test, y_train, y_test = train_test_split(X,y, test_size=0.33,random_state=7)"
      ],
      "metadata": {
        "id": "kor8PFSoQTrO"
      },
      "execution_count": null,
      "outputs": []
    },
    {
      "cell_type": "markdown",
      "source": [
        "**1) Using Logistic Regression**"
      ],
      "metadata": {
        "id": "V0YCYpVOSHvb"
      }
    },
    {
      "cell_type": "code",
      "source": [
        "from sklearn.linear_model import LogisticRegression\n",
        "from sklearn.metrics import confusion_matrix, classification_report, accuracy_score\n",
        "logmodel = LogisticRegression(max_iter=200)\n",
        "logmodel.fit(X_train, y_train)\n",
        "prediction1 = logmodel.predict(X_test)\n",
        "print('Confusion Matrix:\\n', confusion_matrix(y_test, prediction1))\n",
        "print('\\n')\n",
        "print('Classification Report:\\n', classification_report(y_test, prediction1))"
      ],
      "metadata": {
        "colab": {
          "base_uri": "https://localhost:8080/"
        },
        "id": "ki4Uj4vkSG07",
        "outputId": "96ecde95-eecc-49e8-92d6-21bb90aba04c"
      },
      "execution_count": null,
      "outputs": [
        {
          "output_type": "stream",
          "name": "stdout",
          "text": [
            "Confusion Matrix:\n",
            " [[142  20]\n",
            " [ 34  58]]\n",
            "\n",
            "\n",
            "Classification Report:\n",
            "               precision    recall  f1-score   support\n",
            "\n",
            "           0       0.81      0.88      0.84       162\n",
            "           1       0.74      0.63      0.68        92\n",
            "\n",
            "    accuracy                           0.79       254\n",
            "   macro avg       0.78      0.75      0.76       254\n",
            "weighted avg       0.78      0.79      0.78       254\n",
            "\n"
          ]
        }
      ]
    },
    {
      "cell_type": "code",
      "source": [
        "from sklearn.model_selection import cross_val_score\n",
        "accuracies= cross_val_score(estimator = logmodel, X= X_train, y = y_train ,cv=10)\n",
        "accuracies"
      ],
      "metadata": {
        "colab": {
          "base_uri": "https://localhost:8080/"
        },
        "id": "OU-mSiZQSWvx",
        "outputId": "32e05c3c-2220-4da1-a554-e9e580cb8b04"
      },
      "execution_count": null,
      "outputs": [
        {
          "output_type": "execute_result",
          "data": {
            "text/plain": [
              "array([0.80769231, 0.76923077, 0.82692308, 0.76923077, 0.60784314,\n",
              "       0.80392157, 0.82352941, 0.78431373, 0.78431373, 0.7254902 ])"
            ]
          },
          "metadata": {},
          "execution_count": 119
        }
      ]
    },
    {
      "cell_type": "markdown",
      "source": [
        "**2) Using Decision tree**"
      ],
      "metadata": {
        "id": "rC09jOkfS-vZ"
      }
    },
    {
      "cell_type": "code",
      "source": [
        "from sklearn.tree import DecisionTreeClassifier\n",
        "\n",
        "dtree = DecisionTreeClassifier()\n",
        "dtree.fit(X_train, y_train)"
      ],
      "metadata": {
        "colab": {
          "base_uri": "https://localhost:8080/"
        },
        "id": "Mnh6iq9ZTF5h",
        "outputId": "15502568-7f5f-45c6-9284-1ae2b7ddfa8b"
      },
      "execution_count": null,
      "outputs": [
        {
          "output_type": "execute_result",
          "data": {
            "text/plain": [
              "DecisionTreeClassifier()"
            ]
          },
          "metadata": {},
          "execution_count": 110
        }
      ]
    },
    {
      "cell_type": "code",
      "source": [
        "from sklearn import metrics\n",
        "\n",
        "predictions = dtree.predict(X_test)\n",
        "print(\"Accuracy Score =\", format(metrics.accuracy_score(y_test,predictions)))"
      ],
      "metadata": {
        "colab": {
          "base_uri": "https://localhost:8080/"
        },
        "id": "13-lAK9ZTKbU",
        "outputId": "d93617e3-c798-432b-b99c-e77374ff89a1"
      },
      "execution_count": null,
      "outputs": [
        {
          "output_type": "stream",
          "name": "stdout",
          "text": [
            "Accuracy Score = 0.7086614173228346\n"
          ]
        }
      ]
    },
    {
      "cell_type": "code",
      "source": [
        "from sklearn.metrics import classification_report, confusion_matrix\n",
        "\n",
        "print(confusion_matrix(y_test, predictions))\n",
        "print(classification_report(y_test,predictions))"
      ],
      "metadata": {
        "colab": {
          "base_uri": "https://localhost:8080/"
        },
        "id": "L9DUQ9G_TOcU",
        "outputId": "bd3891b8-f769-462c-f08a-89ecd073f833"
      },
      "execution_count": null,
      "outputs": [
        {
          "output_type": "stream",
          "name": "stdout",
          "text": [
            "[[129  33]\n",
            " [ 41  51]]\n",
            "              precision    recall  f1-score   support\n",
            "\n",
            "           0       0.76      0.80      0.78       162\n",
            "           1       0.61      0.55      0.58        92\n",
            "\n",
            "    accuracy                           0.71       254\n",
            "   macro avg       0.68      0.68      0.68       254\n",
            "weighted avg       0.70      0.71      0.71       254\n",
            "\n"
          ]
        }
      ]
    },
    {
      "cell_type": "markdown",
      "source": [
        "**3) Using support vector machine(SVM)**"
      ],
      "metadata": {
        "id": "Q9CYMbh7Tdep"
      }
    },
    {
      "cell_type": "code",
      "source": [
        "from sklearn.svm import SVC\n",
        "\n",
        "svc_model = SVC()\n",
        "svc_model.fit(X_train, y_train)"
      ],
      "metadata": {
        "colab": {
          "base_uri": "https://localhost:8080/"
        },
        "id": "LIXT78cyTTKz",
        "outputId": "fb6feb8a-28e1-48d5-e675-9e7c6eb42724"
      },
      "execution_count": null,
      "outputs": [
        {
          "output_type": "execute_result",
          "data": {
            "text/plain": [
              "SVC()"
            ]
          },
          "metadata": {},
          "execution_count": 113
        }
      ]
    },
    {
      "cell_type": "code",
      "source": [
        "svc_pred = svc_model.predict(X_test)"
      ],
      "metadata": {
        "id": "rD7LVNfmTnRS"
      },
      "execution_count": null,
      "outputs": []
    },
    {
      "cell_type": "code",
      "source": [
        "from sklearn import metrics\n",
        "\n",
        "print(\"Accuracy Score =\", format(metrics.accuracy_score(y_test, svc_pred)))"
      ],
      "metadata": {
        "colab": {
          "base_uri": "https://localhost:8080/"
        },
        "id": "ou1xwuv0Torj",
        "outputId": "65e3d7f8-a334-4641-e320-03a183100826"
      },
      "execution_count": null,
      "outputs": [
        {
          "output_type": "stream",
          "name": "stdout",
          "text": [
            "Accuracy Score = 0.7480314960629921\n"
          ]
        }
      ]
    },
    {
      "cell_type": "code",
      "source": [
        "from sklearn.metrics import classification_report, confusion_matrix\n",
        "\n",
        "print(confusion_matrix(y_test, svc_pred))\n",
        "print(classification_report(y_test,svc_pred))"
      ],
      "metadata": {
        "colab": {
          "base_uri": "https://localhost:8080/"
        },
        "id": "kh_s0hmPTvkh",
        "outputId": "1f8a0645-03cc-48d3-8bc5-bfbcd15ab53d"
      },
      "execution_count": null,
      "outputs": [
        {
          "output_type": "stream",
          "name": "stdout",
          "text": [
            "[[145  17]\n",
            " [ 47  45]]\n",
            "              precision    recall  f1-score   support\n",
            "\n",
            "           0       0.76      0.90      0.82       162\n",
            "           1       0.73      0.49      0.58        92\n",
            "\n",
            "    accuracy                           0.75       254\n",
            "   macro avg       0.74      0.69      0.70       254\n",
            "weighted avg       0.74      0.75      0.73       254\n",
            "\n"
          ]
        }
      ]
    },
    {
      "cell_type": "markdown",
      "source": [
        "**5) using KNeighbours**"
      ],
      "metadata": {
        "id": "6wMC5jxhWREX"
      }
    },
    {
      "cell_type": "code",
      "source": [
        "from sklearn.neighbors import KNeighborsClassifier\n",
        "knn = KNeighborsClassifier(n_neighbors=5)\n",
        "knn.fit(X_train, y_train)\n",
        "prediction2 = knn.predict(X_test)\n",
        "print('Confusion Matrix:\\n', confusion_matrix(y_test, prediction2))\n",
        "print('\\n')\n",
        "print('Classification Report:\\n', classification_report(y_test, prediction2))"
      ],
      "metadata": {
        "colab": {
          "base_uri": "https://localhost:8080/"
        },
        "id": "px98kVBrWWRK",
        "outputId": "6b2700a2-a614-422c-d650-0cad65c93590"
      },
      "execution_count": null,
      "outputs": [
        {
          "output_type": "stream",
          "name": "stdout",
          "text": [
            "Confusion Matrix:\n",
            " [[129  33]\n",
            " [ 45  47]]\n",
            "\n",
            "\n",
            "Classification Report:\n",
            "               precision    recall  f1-score   support\n",
            "\n",
            "           0       0.74      0.80      0.77       162\n",
            "           1       0.59      0.51      0.55        92\n",
            "\n",
            "    accuracy                           0.69       254\n",
            "   macro avg       0.66      0.65      0.66       254\n",
            "weighted avg       0.69      0.69      0.69       254\n",
            "\n"
          ]
        }
      ]
    },
    {
      "cell_type": "code",
      "source": [
        "error_rate = []\n",
        "\n",
        "for i in range(1,40):\n",
        "    knn = KNeighborsClassifier(n_neighbors=i)\n",
        "    knn.fit(X_train, y_train)\n",
        "    pred_i = knn.predict(X_test)\n",
        "    error_rate.append(np.mean(pred_i != y_test))\n",
        "plt.figure(figsize=(10,6))\n",
        "plt.plot(range(1,40), error_rate, color='blue', linestyle='--', marker='o', markerfacecolor='red', markersize=10)\n",
        "plt.title('Error Rate vs K value')\n",
        "plt.xlabel = ('K')\n",
        "plt.ylabel = ('Error Rate')"
      ],
      "metadata": {
        "colab": {
          "base_uri": "https://localhost:8080/",
          "height": 393
        },
        "id": "dUfE7vMaWopz",
        "outputId": "acd6ccdc-eb58-4ce2-f372-5b0ea2b169a1"
      },
      "execution_count": null,
      "outputs": [
        {
          "output_type": "display_data",
          "data": {
            "text/plain": [
              "<Figure size 720x432 with 1 Axes>"
            ],
            "image/png": "[encoded data removed]"
          },
          "metadata": {
            "needs_background": "light"
          }
        }
      ]
    },
    {
      "cell_type": "markdown",
      "source": [
        "# Question 10 \n",
        "  - a)Write a Python program that prints all the numbers from 10 to 16 except 13 and 16.\n",
        "  - b)  Write a Python function to calculate the factorial of a number (a non-negative integer). The function accepts the number as an argument \n",
        "  - c) Write a Python program to split the text sentence or paragraph into a list of words. After that remove the stop words, remove the punctuations.\n"
      ],
      "metadata": {
        "id": "mcx07EQeD0Mt"
      }
    },
    {
      "cell_type": "code",
      "source": [
        "for i in range(10,17):\n",
        "  if i==13 or i==16:\n",
        "    continue\n",
        "  else:\n",
        "    print(i)"
      ],
      "metadata": {
        "colab": {
          "base_uri": "https://localhost:8080/"
        },
        "id": "2BeTryGyEOS1",
        "outputId": "0fa6dbab-a27d-42ed-fe88-1e66e2cef422"
      },
      "execution_count": null,
      "outputs": [
        {
          "output_type": "stream",
          "name": "stdout",
          "text": [
            "10\n",
            "11\n",
            "12\n",
            "14\n",
            "15\n"
          ]
        }
      ]
    },
    {
      "cell_type": "code",
      "source": [
        "def factorial(num):\n",
        "    if num==0 or num==1:\n",
        "     return 1\n",
        "    else:\n",
        "      return factorial(num-1)*num\n",
        "\n",
        "number = int(input('Enter a number : '))\n",
        "fact = factorial(number)\n",
        "print('Factorial is',fact)\n",
        "  \n",
        "\n",
        "  "
      ],
      "metadata": {
        "colab": {
          "base_uri": "https://localhost:8080/"
        },
        "id": "37VuftBTEppi",
        "outputId": "377bf600-82d1-40ec-9b2b-6722930b4943"
      },
      "execution_count": null,
      "outputs": [
        {
          "output_type": "stream",
          "name": "stdout",
          "text": [
            "Enter a number : 6\n",
            "Factorial is 720\n"
          ]
        }
      ]
    },
    {
      "cell_type": "code",
      "source": [
        "!pip install nltk"
      ],
      "metadata": {
        "colab": {
          "base_uri": "https://localhost:8080/"
        },
        "id": "AGBk11A59EYg",
        "outputId": "db80e898-5320-40af-b8ed-fd2c5e91b13e"
      },
      "execution_count": null,
      "outputs": [
        {
          "output_type": "stream",
          "name": "stdout",
          "text": [
            "Requirement already satisfied: nltk in /usr/local/lib/python3.7/dist-packages (3.2.5)\n",
            "Requirement already satisfied: six in /usr/local/lib/python3.7/dist-packages (from nltk) (1.15.0)\n"
          ]
        }
      ]
    },
    {
      "cell_type": "code",
      "source": [
        "# Write a Python program to split the text sentence or paragraph into a list of words. After that remove the stop words, remove the punctuations.\n",
        "stopwords =['i', 'me', 'my', 'myself', 'we', 'our', 'ours', 'ourselves', 'you', \"you're\", \"you've\", \"you'll\", \"you'd\", 'your', 'yours', 'yourself', 'yourselves', 'he', 'him', 'his', 'himself', 'she', \"she's\", 'her', 'hers', 'herself', 'it', \"it's\", 'its', 'itself', 'they', 'them', 'their', 'theirs', 'themselves', 'what', 'which', 'who', 'whom', 'this', 'that', \"that'll\", 'these', 'those', 'am', 'is', 'are', 'was', 'were', 'be', 'been', 'being', 'have', 'has', 'had', 'having', 'do', 'does', 'did', 'doing', 'a', 'an', 'the', 'and', 'but', 'if', 'or', 'because', 'as', 'until', 'while', 'of', 'at', 'by', 'for', 'with', 'about', 'against', 'between', 'into', 'through', 'during', 'before', 'after', 'above', 'below', 'to', 'from', 'up', 'down', 'in', 'out', 'on', 'off', 'over', 'under', 'again', 'further', 'then', 'once', 'here', 'there', 'when', 'where', 'why', 'how', 'all', 'any', 'both', 'each', 'few', 'more', 'most', 'other', 'some', 'such', 'no', 'nor', 'not', 'only', 'own', 'same', 'so', 'than', 'too', 'very', 's', 't', 'can', 'will', 'just', 'don', \"don't\", 'should', \"should've\", 'now', 'd', 'll', 'm', 'o', 're', 've', 'y', 'ain', 'aren', \"aren't\", 'couldn', \"couldn't\", 'didn', \"didn't\", 'doesn', \"doesn't\", 'hadn', \"hadn't\", 'hasn', \"hasn't\", 'haven', \"haven't\", 'isn', \"isn't\", 'ma', 'mightn', \"mightn't\", 'mustn', \"mustn't\", 'needn', \"needn't\", 'shan', \"shan't\", 'shouldn', \"shouldn't\", 'wasn', \"wasn't\", 'weren', \"weren't\", 'won', \"won't\", 'wouldn', \"wouldn't\"]\n",
        "sentence = input(\"Enter a sentence : \")\n",
        "words = sentence.split()\n",
        "print(words)"
      ],
      "metadata": {
        "colab": {
          "base_uri": "https://localhost:8080/"
        },
        "id": "IVUVna-8-cdi",
        "outputId": "e16294d3-99ae-40e6-c3de-f5de7595f928"
      },
      "execution_count": null,
      "outputs": [
        {
          "output_type": "stream",
          "name": "stdout",
          "text": [
            "Enter a sentence : this is a dummy text for practical purpose of  demonstrating words filtering\n",
            "['this', 'is', 'a', 'dummy', 'text', 'for', 'practical', 'purpose', 'of', 'demonstrating', 'words', 'filtering']\n"
          ]
        }
      ]
    },
    {
      "cell_type": "code",
      "source": [
        "lst=[]\n",
        "for word in words:\n",
        "  if word not in stopwords:\n",
        "    lst.append(word)\n",
        "print(lst)"
      ],
      "metadata": {
        "colab": {
          "base_uri": "https://localhost:8080/"
        },
        "id": "XBynvhQRg2uq",
        "outputId": "20479d8f-1644-45e9-eb84-9ac8b4a7b1e8"
      },
      "execution_count": null,
      "outputs": [
        {
          "output_type": "stream",
          "name": "stdout",
          "text": [
            "['dummy', 'text', 'practical', 'purpose', 'demonstrating', 'words', 'filtering']\n"
          ]
        }
      ]
    }
  ]
}